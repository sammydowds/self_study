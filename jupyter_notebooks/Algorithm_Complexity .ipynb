{
 "cells": [
  {
   "cell_type": "markdown",
   "metadata": {},
   "source": [
    "# Algorithm Complexity\n",
    "\n"
   ]
  },
  {
   "cell_type": "code",
   "execution_count": 137,
   "metadata": {},
   "outputs": [],
   "source": [
    "import datetime, random\n",
    "import matplotlib.pyplot as plt\n",
    "import numpy as np"
   ]
  },
  {
   "cell_type": "markdown",
   "metadata": {},
   "source": [
    "## O($n^{1}$) - Linear \n",
    "#### Using min finder "
   ]
  },
  {
   "cell_type": "code",
   "execution_count": 138,
   "metadata": {},
   "outputs": [],
   "source": [
    "small_sample = random.sample(range(1, 10000000), 1000)"
   ]
  },
  {
   "cell_type": "code",
   "execution_count": 139,
   "metadata": {},
   "outputs": [],
   "source": [
    "medium_sample = random.sample(range(1, 10000000), 500000)"
   ]
  },
  {
   "cell_type": "code",
   "execution_count": 140,
   "metadata": {},
   "outputs": [],
   "source": [
    "large_sample = random.sample(range(1, 10000000), 1000000)"
   ]
  },
  {
   "cell_type": "code",
   "execution_count": 141,
   "metadata": {},
   "outputs": [],
   "source": [
    "# function that times the amount of time of a for loop looking for the min number in an array\n",
    "def min_num(n):\n",
    "    start_time = datetime.datetime.now()\n",
    "    min = n[0]\n",
    "    count = 0\n",
    "    for item in n:\n",
    "        count = count + 1\n",
    "        if item < min:\n",
    "            min = item\n",
    "    print(count)\n",
    "    duration = datetime.datetime.now() - start_time\n",
    "    duration = duration.total_seconds()*1000\n",
    "    return duration"
   ]
  },
  {
   "cell_type": "code",
   "execution_count": 142,
   "metadata": {},
   "outputs": [],
   "source": [
    "time_results = []\n",
    "    \n",
    "    "
   ]
  },
  {
   "cell_type": "code",
   "execution_count": 143,
   "metadata": {},
   "outputs": [
    {
     "name": "stdout",
     "output_type": "stream",
     "text": [
      "1000\n"
     ]
    }
   ],
   "source": [
    "time_results.append(min_num(small_sample))"
   ]
  },
  {
   "cell_type": "code",
   "execution_count": 144,
   "metadata": {},
   "outputs": [
    {
     "name": "stdout",
     "output_type": "stream",
     "text": [
      "500000\n"
     ]
    }
   ],
   "source": [
    "time_results.append(min_num(medium_sample))"
   ]
  },
  {
   "cell_type": "code",
   "execution_count": 145,
   "metadata": {},
   "outputs": [
    {
     "name": "stdout",
     "output_type": "stream",
     "text": [
      "1000000\n"
     ]
    }
   ],
   "source": [
    "time_results.append(min_num(large_sample))"
   ]
  },
  {
   "cell_type": "markdown",
   "metadata": {},
   "source": [
    "#### Linear Graph - Actual vs. Representation "
   ]
  },
  {
   "cell_type": "markdown",
   "metadata": {},
   "source": [
    "#### X axis = input size, Y axis = Time to compute "
   ]
  },
  {
   "cell_type": "code",
   "execution_count": 146,
   "metadata": {},
   "outputs": [
    {
     "data": {
      "text/plain": [
       "<matplotlib.legend.Legend at 0x200c6d63670>"
      ]
     },
     "execution_count": 146,
     "metadata": {},
     "output_type": "execute_result"
    },
    {
     "data": {
      "image/png": "[encoded data removed]",
      "text/plain": [
       "<Figure size 432x288 with 1 Axes>"
      ]
     },
     "metadata": {
      "needs_background": "light"
     },
     "output_type": "display_data"
    }
   ],
   "source": [
    "x = np.linspace(0, 10000000, 10000000)\n",
    "y = np.linspace(0, max(time_results), 10000000)\n",
    "                \n",
    "# Note that even in the OO-style, we use `.pyplot.figure` to create the figure.\n",
    "fig, ax = plt.subplots()  # Create a figure and an axes.\n",
    "ax.plot(x, y, label='linear')\n",
    "ax.scatter(1000, time_results[0], label='Small input')\n",
    "ax.scatter(5000000, time_results[1], label='Medium input')\n",
    "ax.scatter(10000000, time_results[2], label='Large input') # Plot some data on the axes.\n",
    "ax.set_xlabel('Length of Input Array')  # Add an x-label to the axes.\n",
    "ax.set_ylabel('Time (ms)')  # Add a y-label to the axes.\n",
    "ax.set_title(\"Time Complexity\")  # Add a title to the axes.\n",
    "ax.legend()  # Add a legend."
   ]
  },
  {
   "cell_type": "markdown",
   "metadata": {},
   "source": [
    "## O($n^{2}$)\n",
    "\n",
    "#### Qquadratic - lets use Bubble Sort\n"
   ]
  },
  {
   "cell_type": "code",
   "execution_count": 128,
   "metadata": {},
   "outputs": [],
   "source": [
    "small_sample2 = random.sample(range(1, 10000000), 1000)"
   ]
  },
  {
   "cell_type": "code",
   "execution_count": 129,
   "metadata": {},
   "outputs": [],
   "source": [
    "medium_sample2 = random.sample(range(1, 10000000), 1500)"
   ]
  },
  {
   "cell_type": "code",
   "execution_count": 130,
   "metadata": {},
   "outputs": [],
   "source": [
    "large_sample2 = random.sample(range(1, 10000000), 2000)"
   ]
  },
  {
   "cell_type": "code",
   "execution_count": 131,
   "metadata": {},
   "outputs": [],
   "source": [
    "def bubbleSort(alist):\n",
    "    sort_strt_time = datetime.datetime.now()\n",
    "    sort_count = 0\n",
    "    for passnum in range(len(alist)-1,0,-1):\n",
    "        sort_count = sort_count + 1 \n",
    "        for i in range(passnum):\n",
    "            if alist[i]>alist[i+1]:\n",
    "                temp = alist[i]\n",
    "                alist[i] = alist[i+1]\n",
    "                alist[i+1] = temp\n",
    "    duration_sort = datetime.datetime.now() - sort_strt_time\n",
    "    duration_sort = duration_sort.total_seconds()*1000\n",
    "    print(sort_count)\n",
    "    print(duration_sort)\n",
    "    return duration_sort "
   ]
  },
  {
   "cell_type": "code",
   "execution_count": 132,
   "metadata": {},
   "outputs": [],
   "source": [
    "sort_results = []"
   ]
  },
  {
   "cell_type": "code",
   "execution_count": 133,
   "metadata": {},
   "outputs": [
    {
     "name": "stdout",
     "output_type": "stream",
     "text": [
      "999\n",
      "59.861\n"
     ]
    }
   ],
   "source": [
    "sort_results.append(bubbleSort(small_sample2))"
   ]
  },
  {
   "cell_type": "code",
   "execution_count": 134,
   "metadata": {},
   "outputs": [
    {
     "name": "stdout",
     "output_type": "stream",
     "text": [
      "1499\n",
      "136.656\n"
     ]
    }
   ],
   "source": [
    "sort_results.append(bubbleSort(medium_sample2))"
   ]
  },
  {
   "cell_type": "code",
   "execution_count": 135,
   "metadata": {},
   "outputs": [
    {
     "name": "stdout",
     "output_type": "stream",
     "text": [
      "1999\n",
      "243.32799999999997\n"
     ]
    }
   ],
   "source": [
    "sort_results.append(bubbleSort(large_sample2))"
   ]
  },
  {
   "cell_type": "markdown",
   "metadata": {},
   "source": [
    "#### Exponential Graph - Actual vs. Representation "
   ]
  },
  {
   "cell_type": "code",
   "execution_count": 136,
   "metadata": {},
   "outputs": [
    {
     "data": {
      "text/plain": [
       "<matplotlib.legend.Legend at 0x2009b9c1b20>"
      ]
     },
     "execution_count": 136,
     "metadata": {},
     "output_type": "execute_result"
    },
    {
     "data": {
      "image/png": "[encoded data removed]",
      "text/plain": [
       "<Figure size 432x288 with 1 Axes>"
      ]
     },
     "metadata": {
      "needs_background": "light"
     },
     "output_type": "display_data"
    }
   ],
   "source": [
    "x2 = np.linspace(0, 2000, 2000)\n",
    "y2 = np.linspace(0, max(sort_results)**0.5, 2000)\n",
    "                \n",
    "# Note that even in the OO-style, we use `.pyplot.figure` to create the figure.\n",
    "fig, ax = plt.subplots()  # Create a figure and an axes.\n",
    "ax.plot(x2, y2*y2, label='Exponential')\n",
    "ax.scatter(1000, sort_results[0], label='Small input')\n",
    "ax.scatter(1500, sort_results[1], label='Medium input')\n",
    "ax.scatter(2000, sort_results[2], label='Large input') # Plot some data on the axes.\n",
    "ax.set_xlabel('Length of Input Array')  # Add an x-label to the axes.\n",
    "ax.set_ylabel('Time (ms)')  # Add a y-label to the axes.\n",
    "ax.set_title(\"Time Complexity\")  # Add a title to the axes.\n",
    "ax.legend()  # Add a legend."
   ]
  },
  {
   "cell_type": "code",
   "execution_count": null,
   "metadata": {},
   "outputs": [],
   "source": []
  }
 ],
 "metadata": {
  "kernelspec": {
   "display_name": "Python 3",
   "language": "python",
   "name": "python3"
  },
  "language_info": {
   "codemirror_mode": {
    "name": "ipython",
    "version": 3
   },
   "file_extension": ".py",
   "mimetype": "text/x-python",
   "name": "python",
   "nbconvert_exporter": "python",
   "pygments_lexer": "ipython3",
   "version": "3.8.4"
  }
 },
 "nbformat": 4,
 "nbformat_minor": 4
}
