{
 "cells": [
  {
   "cell_type": "markdown",
   "metadata": {},
   "source": [
    "# Python -> Assembly?\n",
    "## Goal: Learn a little bit more about how Python works under the hood.\n",
    "- Explore Bytecode - Created by the Compiler (.pyc), docs: https://devguide.python.org/compiler/\n",
    "- Explore Python Virtual Machine - built in C (CPython), runs the Bytecode, code: https://github.com/python/cpython/tree/3.8/Lib\n",
    "- Explore PVM output? How does it relate to the hardware?\n",
    "\n",
    "##### Resources: \n",
    "- https://www.ics.uci.edu/~brgallar/week9_3.html\n",
    "- https://docs.python.org/3.8/library/dis.html\n",
    "- https://docs.python.org/3.8/glossary.html#term-bytecode\n",
    "- https://docs.python.org/3.8/glossary.html#term-virtual-machine\n",
    "- https://devguide.python.org/compiler/\n",
    "- Videos: https://www.youtube.com/watch?time_continue=10&v=LhadeL7_EIU&feature=emb_logo\n",
    "- Learn about why there is a need for a VM pt1: https://drive.google.com/file/d/19fe1PeGnggDHymu4LlVY08KmDdhMVRpm/view\n",
    "- VM pt2: https://drive.google.com/file/d/1lBsaO5XKLkUgrGY6g6vLMsiZo6rWxlYJ/view\n",
    "\n",
    "##### Porting Python to a new Platform?\n",
    " - https://devguide.python.org/porting/"
   ]
  },
  {
   "cell_type": "markdown",
   "metadata": {},
   "source": [
    "## Step 1: Compiler \n",
    "The compiler transformers python code into Bytecode.\n",
    "\n",
    "### Process: \n",
    "    1. Parse source code into a parse tree \n",
    "        File: (Parser/pgen.c)\n",
    "    2. Transform parse tree into an Abstract Syntax Tree \n",
    "        File: (Python/ast.c)\n",
    "    3. Transform AST into a Control Flow Graph \n",
    "        File: (Python/compile.c)\n",
    "    4. Emit bytecode based on the Control Flow Graph \n",
    "        File: (Python/compile.c)"
   ]
  },
  {
   "cell_type": "code",
   "execution_count": null,
   "metadata": {},
   "outputs": [],
   "source": []
  },
  {
   "cell_type": "markdown",
   "metadata": {},
   "source": [
    "## Step 2: Bytecode\n",
    "Python code is compiled into bytecode (.pyc) to be ran on the python virtual machine. Lets take a look at what this bytecode looks like. "
   ]
  },
  {
   "cell_type": "markdown",
   "metadata": {},
   "source": [
    "### Import the dis package\n",
    "This package takes the bytecode created by the compiler as an input and dissassembles it for analysis. As a reminder, this Bytecode is ran on the PVM. "
   ]
  },
  {
   "cell_type": "code",
   "execution_count": 30,
   "metadata": {},
   "outputs": [],
   "source": [
    "import dis"
   ]
  },
  {
   "cell_type": "markdown",
   "metadata": {},
   "source": [
    "### Creating a functions to convert to Bytecode\n",
    "We will use these functions to contrast with the bytecode"
   ]
  },
  {
   "cell_type": "code",
   "execution_count": 32,
   "metadata": {},
   "outputs": [],
   "source": [
    "def myfunc1(alist):\n",
    "    return len(alist)"
   ]
  },
  {
   "cell_type": "code",
   "execution_count": 33,
   "metadata": {},
   "outputs": [],
   "source": [
    "def myfunc2(a, b):\n",
    "    c = a + b\n",
    "    return c\n",
    "    "
   ]
  },
  {
   "cell_type": "markdown",
   "metadata": {},
   "source": [
    "### Viewing Byte Code\n",
    "Dissassembled version of the function above, each instruction is 2 bytes"
   ]
  },
  {
   "cell_type": "code",
   "execution_count": 34,
   "metadata": {},
   "outputs": [
    {
     "name": "stdout",
     "output_type": "stream",
     "text": [
      "  2           0 LOAD_GLOBAL              0 (len)\n",
      "              2 LOAD_FAST                0 (alist)\n",
      "              4 CALL_FUNCTION            1\n",
      "              6 RETURN_VALUE\n"
     ]
    }
   ],
   "source": [
    "dis.dis(myfunc1)"
   ]
  },
  {
   "cell_type": "markdown",
   "metadata": {},
   "source": [
    "### Breaking Down the OP CODES in myfunc1 Bytecode\n",
    " 1. __LOAD_GLOBAL:__ Loads the global named co_names[namei] onto the stack. \n",
    " 2. __LOAD_FAST:__ Pushes a reference to the local co_varnames[var_num] onto the stack.\n",
    " 3. __CALL_FUNCTION:__ Calls a callable object with positional arguments. argc indicates the number of positional arguments. The top of the stack contains positional arguments, with the right-most argument on top. Below the arguments is a callable object to call. CALL_FUNCTION pops all arguments and the callable object off the stack, calls the callable object with those arguments, and pushes the return value returned by the callable object.Changed in version 3.6: This opcode is used only for calls with positional arguments.\n",
    " 4. __RETURN_VALUE:__ Returns with TOS to the caller of the function.\n",
    " \n"
   ]
  },
  {
   "cell_type": "code",
   "execution_count": 35,
   "metadata": {},
   "outputs": [
    {
     "name": "stdout",
     "output_type": "stream",
     "text": [
      "  2           0 LOAD_FAST                0 (a)\n",
      "              2 LOAD_FAST                1 (b)\n",
      "              4 BINARY_ADD\n",
      "              6 STORE_FAST               2 (c)\n",
      "\n",
      "  3           8 LOAD_FAST                2 (c)\n",
      "             10 RETURN_VALUE\n"
     ]
    }
   ],
   "source": [
    "dis.dis(myfunc2)"
   ]
  },
  {
   "cell_type": "markdown",
   "metadata": {},
   "source": [
    "### Breaking Down the OP CODES in myfunc2 Bytecode\n",
    " 1. __LOAD_FAST:__ Pushes a reference to the local co_varnames[var_num] onto the stack.\n",
    " 2. __BINARY_ADD:__ Implements TOS = TOS1 + TOS. \n",
    " 3. __STORE_FAST:__ Stores TOS into the local co_varnames[var_num].\n",
    " 4. __RETURN_VALUE:__ Returns with TOS to the caller of the function.\n",
    " "
   ]
  },
  {
   "cell_type": "markdown",
   "metadata": {},
   "source": [
    "## Step 3: PVM - Python Virtual Machine"
   ]
  },
  {
   "cell_type": "code",
   "execution_count": null,
   "metadata": {},
   "outputs": [],
   "source": []
  },
  {
   "cell_type": "markdown",
   "metadata": {},
   "source": [
    "## Step 4: Assembly - Hardware"
   ]
  },
  {
   "cell_type": "code",
   "execution_count": null,
   "metadata": {},
   "outputs": [],
   "source": []
  }
 ],
 "metadata": {
  "kernelspec": {
   "display_name": "Python 3",
   "language": "python",
   "name": "python3"
  },
  "language_info": {
   "codemirror_mode": {
    "name": "ipython",
    "version": 3
   },
   "file_extension": ".py",
   "mimetype": "text/x-python",
   "name": "python",
   "nbconvert_exporter": "python",
   "pygments_lexer": "ipython3",
   "version": "3.6.4"
  }
 },
 "nbformat": 4,
 "nbformat_minor": 2
}
