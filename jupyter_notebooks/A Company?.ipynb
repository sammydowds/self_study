{
 "cells": [
  {
   "cell_type": "markdown",
   "metadata": {},
   "source": [
    "## Building a Company _...in code_\n",
    "\n",
    "#### Goals: \n",
    "- Build a class for incoming projects \n",
    "- Build a class for existing projects\n",
    "- Build a class for a company\n",
    "- Document\n",
    "- Test\n",
    "- Utilitze in the future \n",
    "- Share \n"
   ]
  },
  {
   "cell_type": "code",
   "execution_count": 41,
   "metadata": {},
   "outputs": [],
   "source": [
    "import time"
   ]
  },
  {
   "cell_type": "markdown",
   "metadata": {},
   "source": [
    "### Incoming Projects = Quotes\n",
    "_Let the money flow in._  "
   ]
  },
  {
   "cell_type": "code",
   "execution_count": 29,
   "metadata": {},
   "outputs": [],
   "source": [
    "class Quote:\n",
    "    def __init__(self, list_price, start, end, name):\n",
    "        self.list_price = list_price\n",
    "        self.start = time.strptime(start, '%m/%d/%Y') \n",
    "        self.end = time.strptime(end, '%m/%d/%Y') \n",
    "        self.name = name\n",
    "        self.id = null \n",
    "        \n",
    "    def update_list_price(self, new_price):\n",
    "        self.list_price = new_price\n",
    "        return self.list_price\n",
    "    \n",
    "    def update_start(self, new_start):\n",
    "        self.start = time.strptime(new_start, '%m/%d/%Y') \n",
    "        return self.start\n",
    "    \n",
    "    def update_end(self, new_end):\n",
    "        self.start = time.strptime(new_start, '%m/%d/%Y') \n",
    "        return self.end\n",
    "    \n",
    "    def update_name(self, new_name):\n",
    "        self.name = new_name\n",
    "        return self.name"
   ]
  },
  {
   "cell_type": "markdown",
   "metadata": {},
   "source": [
    "### Current Projects = Projects \n",
    "_Keep the GP alive._"
   ]
  },
  {
   "cell_type": "code",
   "execution_count": null,
   "metadata": {},
   "outputs": [],
   "source": [
    "class Project:\n",
    "    def __init__(self, list_price, start, end, name):\n",
    "        self.list_price = list_price\n",
    "        self.start = time.strptime(start, '%m/%d/%Y') \n",
    "        self.end = time.strptime(end, '%m/%d/%Y') \n",
    "        self.name = name\n",
    "        self.id = null \n",
    "        \n",
    "    def update_list_price(self, new_price):\n",
    "        self.list_price = new_price\n",
    "        return self.list_price\n",
    "    \n",
    "    def update_start(self, new_start):\n",
    "        self.start = time.strptime(new_start, '%m/%d/%Y') \n",
    "        return self.start\n",
    "    \n",
    "    def update_end(self, new_end):\n",
    "        self.start = time.strptime(new_start, '%m/%d/%Y') \n",
    "        return self.end\n",
    "    \n",
    "    def update_name(self, new_name):\n",
    "        self.name = new_name\n",
    "        return self.name"
   ]
  },
  {
   "cell_type": "markdown",
   "metadata": {},
   "source": [
    "### Creating our first Quote\n",
    "_Nervous gitters_"
   ]
  },
  {
   "cell_type": "code",
   "execution_count": 18,
   "metadata": {},
   "outputs": [],
   "source": [
    "quote1 = Quote(100000, '12/01/2020', '12/02/2021', 'XXX Manufactuerer in US')"
   ]
  },
  {
   "cell_type": "markdown",
   "metadata": {},
   "source": [
    "### Company = Company \n",
    "_Home Base_"
   ]
  },
  {
   "cell_type": "code",
   "execution_count": 76,
   "metadata": {},
   "outputs": [],
   "source": [
    "class Company:\n",
    "    def __init__(self, name, lg_project, md_project, sm_project, opt_num_proj):\n",
    "        self.name = name \n",
    "        self.quotes=[]\n",
    "        self.projects=[]\n",
    "        self.lg_project = lg_project\n",
    "        self.md_project = md_project\n",
    "        self.sm_project = sm_project\n",
    "        self.optimal_num_proj = opt_num_proj\n",
    "        self.quote_id = 0\n",
    "        \n",
    "    def add_quote(self, quote):\n",
    "        self.quote_id = self.quote_id + 1\n",
    "        quote.id = self.quote_id\n",
    "        self.quotes.append(quote)\n",
    "        return quote.name + ' quote has been added as quote number: ' + str(quote.id)\n",
    "    \n",
    "    def size_quote(self, quote):\n",
    "        if quote.list_price >= self.lg_project:\n",
    "            return quote.name + ' ' + 'quote is a large project for' + ' ' + self.name\n",
    "        elif quote.list_price >= self.md_project and quote.list_price <= self.md_project:\n",
    "            return quote.name + ' ' + 'quote is a medium project for' + ' ' + self.name\n",
    "        elif quote.list_price < self.sm_project:\n",
    "            return quote.name + ' ' + 'quote is a small project for' + ' ' + self.name\n",
    "\n",
    "    "
   ]
  },
  {
   "cell_type": "markdown",
   "metadata": {},
   "source": [
    "### Building our Company \n",
    "_Creating an instance of our Company_ "
   ]
  },
  {
   "cell_type": "code",
   "execution_count": 77,
   "metadata": {},
   "outputs": [],
   "source": [
    "my_company = Company('SDCorp', 100000, 50000, 25000, 4)\n"
   ]
  },
  {
   "cell_type": "markdown",
   "metadata": {},
   "source": [
    "### Adding our First Quote to our Quote Pool\n",
    "_No running_"
   ]
  },
  {
   "cell_type": "code",
   "execution_count": 78,
   "metadata": {},
   "outputs": [
    {
     "data": {
      "text/plain": [
       "'XXX Manufactuerer in US quote has been added as quote number: 1'"
      ]
     },
     "execution_count": 78,
     "metadata": {},
     "output_type": "execute_result"
    }
   ],
   "source": [
    "my_company.add_quote(quote1)"
   ]
  },
  {
   "cell_type": "markdown",
   "metadata": {},
   "source": [
    "### Checking how big a potential project could be for the Company\n",
    "_Ideally going up & up_\n",
    "\n",
    "This is created and set up when creating the instance of a company. "
   ]
  },
  {
   "cell_type": "code",
   "execution_count": 79,
   "metadata": {},
   "outputs": [
    {
     "data": {
      "text/plain": [
       "'XXX Manufactuerer in US quote is a large project for SDCorp'"
      ]
     },
     "execution_count": 79,
     "metadata": {},
     "output_type": "execute_result"
    }
   ],
   "source": [
    "my_company.size_quote(quote1)"
   ]
  },
  {
   "cell_type": "markdown",
   "metadata": {},
   "source": [
    "### Goals at this Point:\n",
    "\n",
    "1) Graph layout of incoming projects monthly \n",
    "\n",
    "2) Graph layout of current project monthly \n",
    "\n",
    "3) Graph capacity of company for next 12 months \n",
    "\n",
    "4) Build automatic scheduler for jobs "
   ]
  },
  {
   "cell_type": "code",
   "execution_count": null,
   "metadata": {},
   "outputs": [],
   "source": []
  }
 ],
 "metadata": {
  "kernelspec": {
   "display_name": "Python 3",
   "language": "python",
   "name": "python3"
  },
  "language_info": {
   "codemirror_mode": {
    "name": "ipython",
    "version": 3
   },
   "file_extension": ".py",
   "mimetype": "text/x-python",
   "name": "python",
   "nbconvert_exporter": "python",
   "pygments_lexer": "ipython3",
   "version": "3.6.4"
  }
 },
 "nbformat": 4,
 "nbformat_minor": 2
}
