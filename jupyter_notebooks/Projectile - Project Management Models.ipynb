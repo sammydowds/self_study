{
 "cells": [
  {
   "cell_type": "markdown",
   "metadata": {},
   "source": [
    "# Models for Automating Project Management "
   ]
  },
  {
   "cell_type": "code",
   "execution_count": 2037,
   "metadata": {},
   "outputs": [],
   "source": [
    "from mesa import Agent, Model "
   ]
  },
  {
   "cell_type": "code",
   "execution_count": 2038,
   "metadata": {},
   "outputs": [],
   "source": [
    "from mesa.time import RandomActivation, BaseScheduler "
   ]
  },
  {
   "cell_type": "code",
   "execution_count": 2039,
   "metadata": {},
   "outputs": [],
   "source": [
    "from mesa.datacollection import DataCollector\n",
    "import random \n",
    "import datetime"
   ]
  },
  {
   "cell_type": "markdown",
   "metadata": {},
   "source": [
    "## Automated Scheduler \n",
    "### Based on Tasks and the Team \n",
    "\n",
    "**Scope**: The goal of this model is to create potential schedules given a team with attributes and tasks with attributes. The tasks will be ordered by due date. The \"tick\" or time step size will be one day, and productivity will be defined as work/day. Each team member will only be allowed to work on one task. Date will be tracked in the model, and tasks will be marked as late and tracked in order to visualize task completion success. "
   ]
  },
  {
   "cell_type": "markdown",
   "metadata": {},
   "source": [
    "### Team Member Agent "
   ]
  },
  {
   "cell_type": "code",
   "execution_count": 2040,
   "metadata": {},
   "outputs": [],
   "source": [
    "class TeamMember(Agent):\n",
    "    def __init__(self, unique_id, model, name, expertise, competency):\n",
    "        super().__init__(unique_id, model)\n",
    "        self.name = name\n",
    "        self.available = True \n",
    "        self.num_tasks_completed = 0\n",
    "        self.task = None \n",
    "        self.expertise = expertise\n",
    "        self.competency = competency\n",
    "        \n",
    "    def step(self):\n",
    "        \n",
    "        #assigning task if agent is available \n",
    "        if self.available: \n",
    "            for task in self.model.schedule.agents: \n",
    "                if task.state == \"open\" and self.expertise >= task.expertise and any(x in task.competency for x in self.competency):\n",
    "                    task.state = \"in_progress\"\n",
    "                    task.start_date = self.model.date.isoformat()\n",
    "                    task.human = self.name\n",
    "                    self.task = task\n",
    "                    self.available = False\n",
    "                    return \n",
    "                \n",
    "        #if busy working on something, update task information \n",
    "        else:\n",
    "            self.task.duration -= 1\n",
    "            if self.task.duration <= 0:\n",
    "                self.available = True\n",
    "                self.task.state = \"complete\"\n",
    "                self.task.end_date = self.model.date.isoformat()\n",
    "                self.task = None\n",
    "                self.num_tasks_completed += 1\n",
    "                self.model.tasks_closed += 1\n",
    "                return \n",
    "        "
   ]
  },
  {
   "cell_type": "markdown",
   "metadata": {},
   "source": [
    "### Task Agent"
   ]
  },
  {
   "cell_type": "code",
   "execution_count": 2041,
   "metadata": {},
   "outputs": [],
   "source": [
    "class Task(Agent):\n",
    "    def __init__(self, unique_id, model, name, duration, expertise, competency):\n",
    "        super().__init__(unique_id, model)\n",
    "        self.name = name\n",
    "        self.state = \"open\"\n",
    "        self.duration = duration\n",
    "        self.expertise = expertise\n",
    "        self.complete = False\n",
    "        self.start_date = None\n",
    "        self.end_date = None\n",
    "        self.human = None\n",
    "        self.competency = competency \n",
    "        "
   ]
  },
  {
   "cell_type": "markdown",
   "metadata": {},
   "source": [
    "### Model "
   ]
  },
  {
   "cell_type": "code",
   "execution_count": 2042,
   "metadata": {},
   "outputs": [],
   "source": [
    "class Scheduler(Model):\n",
    "    def __init__(self, team, tasks):\n",
    "        self.team = team\n",
    "        self.schedule = BaseScheduler(self)\n",
    "        self.staff_schedule = BaseScheduler(self)\n",
    "        self.perc_late_tasks = 0\n",
    "        self.tasks_closed = 0\n",
    "        self.date = datetime.datetime.now().date() \n",
    "        \n",
    "        #building our team agents\n",
    "        for i in range(len(team)):\n",
    "            m = TeamMember(i, self, team[i]['name'], team[i]['expertise'], team[i]['competency'])\n",
    "            self.staff_schedule.add(m)\n",
    "        \n",
    "        #building our task agents\n",
    "        for j in range(len(tasks)):\n",
    "            t = Task(j, self, tasks[j]['name'], tasks[j]['duration'], tasks[j]['expertise'], tasks[j]['competency'])\n",
    "            self.schedule.add(t)\n",
    "        \n",
    "        #adding in our datacollector \n",
    "        self.datacollector = DataCollector(\n",
    "            model_reporters={\"Tasks Closed\": \"tasks_closed\"}, \n",
    "            agent_reporters={\"Task\": \"name\", \"Start\": \"start_date\", \"Finish\":\"end_date\", \"Human\": \"human\", \"Expertise\":\"expertise\"}\n",
    "        )\n",
    "\n",
    "    def step(self):\n",
    "        self.date = self.date + datetime.timedelta(days=1)\n",
    "        self.schedule.step()\n",
    "        self.staff_schedule.step()\n",
    "        self.datacollector.collect(self)"
   ]
  },
  {
   "cell_type": "markdown",
   "metadata": {},
   "source": [
    "### Building and Running Our Scheduler"
   ]
  },
  {
   "cell_type": "markdown",
   "metadata": {},
   "source": [
    "#### First - We Need A Team "
   ]
  },
  {
   "cell_type": "code",
   "execution_count": 2083,
   "metadata": {},
   "outputs": [],
   "source": [
    "team_list = [\n",
    "    {\n",
    "        \"name\": \"Anthony\", \n",
    "        \"expertise\": 2, \n",
    "        \"competency\": ['Redux', 'React', 'Angular']\n",
    "    },\n",
    "    {\n",
    "        \"name\": \"George\", \n",
    "        \"expertise\": 3, \n",
    "        \"competency\": ['Ruby on Rails', 'React', 'REST API', 'Python']\n",
    "    }, \n",
    "    {\n",
    "        \"name\": \"Elizabeth\", \n",
    "        \"expertise\": 1, \n",
    "        \"competency\": ['React', 'Angular', 'Redux']\n",
    "    }, \n",
    "    {\n",
    "        \"name\": \"Ron\", \n",
    "        \"expertise\": 3, \n",
    "        \"competency\": ['Ruby on Rails', 'React', 'REST API', 'Python', 'Angular'] \n",
    "    } \n",
    "]"
   ]
  },
  {
   "cell_type": "markdown",
   "metadata": {},
   "source": [
    "#### Second - We Need Tasks (note: we are going to sort this data based on time_remaining before passing to the model."
   ]
  },
  {
   "cell_type": "code",
   "execution_count": 2084,
   "metadata": {},
   "outputs": [],
   "source": [
    "competency_list = ['Redux', 'Ruby on Rails', 'React', 'Python', 'Angular', 'REST API']"
   ]
  },
  {
   "cell_type": "code",
   "execution_count": 2097,
   "metadata": {},
   "outputs": [],
   "source": [
    "def task_list_generator(num_tasks):\n",
    "    temp = []\n",
    "    for i in range(num_tasks):\n",
    "        temp_task = {}\n",
    "        temp_task['name'] = \"Task Number \" + str(i)\n",
    "        temp_task['duration'] = random.randrange(4, 10)\n",
    "        temp_task['expertise'] = random.choice([1, 2, 3])\n",
    "        temp_task['competency'] = random.choice(competency_list)\n",
    "        temp.append(temp_task)\n",
    "    return temp\n",
    "        "
   ]
  },
  {
   "cell_type": "code",
   "execution_count": 2098,
   "metadata": {},
   "outputs": [],
   "source": [
    "tasks_list = task_list_generator(15)"
   ]
  },
  {
   "cell_type": "markdown",
   "metadata": {},
   "source": [
    "#### Plug our Team and Tasks into the Model "
   ]
  },
  {
   "cell_type": "code",
   "execution_count": 2099,
   "metadata": {},
   "outputs": [],
   "source": [
    "model = Scheduler(team_list, tasks_list)"
   ]
  },
  {
   "cell_type": "markdown",
   "metadata": {},
   "source": [
    "##### Simulate for Defined Amount of Days "
   ]
  },
  {
   "cell_type": "code",
   "execution_count": 2100,
   "metadata": {},
   "outputs": [],
   "source": [
    "days_of_simulation = 60"
   ]
  },
  {
   "cell_type": "code",
   "execution_count": 2101,
   "metadata": {},
   "outputs": [],
   "source": [
    "for i in range(days_of_simulation): \n",
    "    model.step()"
   ]
  },
  {
   "cell_type": "markdown",
   "metadata": {},
   "source": [
    "##### Pulling Data From the Data Collector and Plotting "
   ]
  },
  {
   "cell_type": "code",
   "execution_count": 2102,
   "metadata": {},
   "outputs": [],
   "source": [
    "model_df = model.datacollector.get_model_vars_dataframe()"
   ]
  },
  {
   "cell_type": "code",
   "execution_count": 2103,
   "metadata": {},
   "outputs": [
    {
     "data": {
      "text/plain": [
       "<matplotlib.axes._subplots.AxesSubplot at 0x121ea7080>"
      ]
     },
     "execution_count": 2103,
     "metadata": {},
     "output_type": "execute_result"
    },
    {
     "data": {
      "image/png": "[encoded data removed]",
      "text/plain": [
       "<Figure size 432x288 with 1 Axes>"
      ]
     },
     "metadata": {
      "needs_background": "light"
     },
     "output_type": "display_data"
    }
   ],
   "source": [
    "model_df['Tasks Closed'].plot()"
   ]
  },
  {
   "cell_type": "markdown",
   "metadata": {},
   "source": [
    "### Visualizing Schedules  "
   ]
  },
  {
   "cell_type": "code",
   "execution_count": 2104,
   "metadata": {},
   "outputs": [],
   "source": [
    "import plotly.express as px\n",
    "import pandas as pd"
   ]
  },
  {
   "cell_type": "code",
   "execution_count": 2105,
   "metadata": {},
   "outputs": [],
   "source": [
    "task_dict = []\n",
    "for agent in model.schedule.agents: \n",
    "    task_dict.append({\"Task\": agent.name, \"Start\": agent.start_date, \"Finish\": agent.end_date, \"Human\": agent.human, \"Expertise\": agent.expertise, \"Competency\": agent.competency})"
   ]
  },
  {
   "cell_type": "code",
   "execution_count": 2106,
   "metadata": {},
   "outputs": [],
   "source": [
    "df = pd.DataFrame(task_dict)"
   ]
  },
  {
   "cell_type": "code",
   "execution_count": 2107,
   "metadata": {},
   "outputs": [],
   "source": [
    "fig = px.timeline(df, x_start=\"Start\", x_end=\"Finish\", y=\"Human\", color=\"Task\", height=300, text=\"Competency\")"
   ]
  },
  {
   "cell_type": "code",
   "execution_count": 2108,
   "metadata": {},
   "outputs": [
    {
     "data": {
      "application/vnd.plotly.v1+json": {
       "config": {
        "plotlyServerURL": "https://plot.ly"
       },
       "data": [
        {
         "alignmentgroup": "True",
         "base": [
          "2020-08-26"
         ],
         "hovertemplate": "Task=Task Number 0<br>Start=%{base}<br>Finish=%{x}<br>Human=%{y}<br>Competency=%{text}<extra></extra>",
         "legendgroup": "Task Number 0",
         "marker": {
          "color": "#636efa"
         },
         "name": "Task Number 0",
         "offsetgroup": "Task Number 0",
         "orientation": "h",
         "showlegend": true,
         "text": [
          "Angular"
         ],
         "textposition": "auto",
         "type": "bar",
         "x": [
          432000000
         ],
         "xaxis": "x",
         "y": [
          "Anthony"
         ],
         "yaxis": "y"
        },
        {
         "alignmentgroup": "True",
         "base": [
          "2020-08-26"
         ],
         "hovertemplate": "Task=Task Number 1<br>Start=%{base}<br>Finish=%{x}<br>Human=%{y}<br>Competency=%{text}<extra></extra>",
         "legendgroup": "Task Number 1",
         "marker": {
          "color": "#EF553B"
         },
         "name": "Task Number 1",
         "offsetgroup": "Task Number 1",
         "orientation": "h",
         "showlegend": true,
         "text": [
          "React"
         ],
         "textposition": "auto",
         "type": "bar",
         "x": [
          432000000
         ],
         "xaxis": "x",
         "y": [
          "George"
         ],
         "yaxis": "y"
        },
        {
         "alignmentgroup": "True",
         "base": [
          "2020-08-26"
         ],
         "hovertemplate": "Task=Task Number 2<br>Start=%{base}<br>Finish=%{x}<br>Human=%{y}<br>Competency=%{text}<extra></extra>",
         "legendgroup": "Task Number 2",
         "marker": {
          "color": "#00cc96"
         },
         "name": "Task Number 2",
         "offsetgroup": "Task Number 2",
         "orientation": "h",
         "showlegend": true,
         "text": [
          "Redux"
         ],
         "textposition": "auto",
         "type": "bar",
         "x": [
          518400000
         ],
         "xaxis": "x",
         "y": [
          "Elizabeth"
         ],
         "yaxis": "y"
        },
        {
         "alignmentgroup": "True",
         "base": [
          "2020-09-01"
         ],
         "hovertemplate": "Task=Task Number 3<br>Start=%{base}<br>Finish=%{x}<br>Human=%{y}<br>Competency=%{text}<extra></extra>",
         "legendgroup": "Task Number 3",
         "marker": {
          "color": "#ab63fa"
         },
         "name": "Task Number 3",
         "offsetgroup": "Task Number 3",
         "orientation": "h",
         "showlegend": true,
         "text": [
          "Redux"
         ],
         "textposition": "auto",
         "type": "bar",
         "x": [
          777600000
         ],
         "xaxis": "x",
         "y": [
          "Anthony"
         ],
         "yaxis": "y"
        },
        {
         "alignmentgroup": "True",
         "base": [
          "2020-08-26"
         ],
         "hovertemplate": "Task=Task Number 4<br>Start=%{base}<br>Finish=%{x}<br>Human=%{y}<br>Competency=%{text}<extra></extra>",
         "legendgroup": "Task Number 4",
         "marker": {
          "color": "#FFA15A"
         },
         "name": "Task Number 4",
         "offsetgroup": "Task Number 4",
         "orientation": "h",
         "showlegend": true,
         "text": [
          "REST API"
         ],
         "textposition": "auto",
         "type": "bar",
         "x": [
          604800000
         ],
         "xaxis": "x",
         "y": [
          "Ron"
         ],
         "yaxis": "y"
        },
        {
         "alignmentgroup": "True",
         "base": [
          "2020-09-03"
         ],
         "hovertemplate": "Task=Task Number 5<br>Start=%{base}<br>Finish=%{x}<br>Human=%{y}<br>Competency=%{text}<extra></extra>",
         "legendgroup": "Task Number 5",
         "marker": {
          "color": "#19d3f3"
         },
         "name": "Task Number 5",
         "offsetgroup": "Task Number 5",
         "orientation": "h",
         "showlegend": true,
         "text": [
          "Angular"
         ],
         "textposition": "auto",
         "type": "bar",
         "x": [
          345600000
         ],
         "xaxis": "x",
         "y": [
          "Ron"
         ],
         "yaxis": "y"
        },
        {
         "alignmentgroup": "True",
         "base": [
          "2020-09-02"
         ],
         "hovertemplate": "Task=Task Number 6<br>Start=%{base}<br>Finish=%{x}<br>Human=%{y}<br>Competency=%{text}<extra></extra>",
         "legendgroup": "Task Number 6",
         "marker": {
          "color": "#FF6692"
         },
         "name": "Task Number 6",
         "offsetgroup": "Task Number 6",
         "orientation": "h",
         "showlegend": true,
         "text": [
          "Angular"
         ],
         "textposition": "auto",
         "type": "bar",
         "x": [
          432000000
         ],
         "xaxis": "x",
         "y": [
          "Elizabeth"
         ],
         "yaxis": "y"
        },
        {
         "alignmentgroup": "True",
         "base": [
          "2020-09-01"
         ],
         "hovertemplate": "Task=Task Number 7<br>Start=%{base}<br>Finish=%{x}<br>Human=%{y}<br>Competency=%{text}<extra></extra>",
         "legendgroup": "Task Number 7",
         "marker": {
          "color": "#B6E880"
         },
         "name": "Task Number 7",
         "offsetgroup": "Task Number 7",
         "orientation": "h",
         "showlegend": true,
         "text": [
          "Python"
         ],
         "textposition": "auto",
         "type": "bar",
         "x": [
          345600000
         ],
         "xaxis": "x",
         "y": [
          "George"
         ],
         "yaxis": "y"
        },
        {
         "alignmentgroup": "True",
         "base": [
          "2020-09-06"
         ],
         "hovertemplate": "Task=Task Number 8<br>Start=%{base}<br>Finish=%{x}<br>Human=%{y}<br>Competency=%{text}<extra></extra>",
         "legendgroup": "Task Number 8",
         "marker": {
          "color": "#FF97FF"
         },
         "name": "Task Number 8",
         "offsetgroup": "Task Number 8",
         "orientation": "h",
         "showlegend": true,
         "text": [
          "React"
         ],
         "textposition": "auto",
         "type": "bar",
         "x": [
          691200000
         ],
         "xaxis": "x",
         "y": [
          "George"
         ],
         "yaxis": "y"
        },
        {
         "alignmentgroup": "True",
         "base": [
          "2020-09-08"
         ],
         "hovertemplate": "Task=Task Number 9<br>Start=%{base}<br>Finish=%{x}<br>Human=%{y}<br>Competency=%{text}<extra></extra>",
         "legendgroup": "Task Number 9",
         "marker": {
          "color": "#FECB52"
         },
         "name": "Task Number 9",
         "offsetgroup": "Task Number 9",
         "orientation": "h",
         "showlegend": true,
         "text": [
          "Redux"
         ],
         "textposition": "auto",
         "type": "bar",
         "x": [
          432000000
         ],
         "xaxis": "x",
         "y": [
          "Elizabeth"
         ],
         "yaxis": "y"
        },
        {
         "alignmentgroup": "True",
         "base": [
          "2020-09-08"
         ],
         "hovertemplate": "Task=Task Number 10<br>Start=%{base}<br>Finish=%{x}<br>Human=%{y}<br>Competency=%{text}<extra></extra>",
         "legendgroup": "Task Number 10",
         "marker": {
          "color": "#636efa"
         },
         "name": "Task Number 10",
         "offsetgroup": "Task Number 10",
         "orientation": "h",
         "showlegend": true,
         "text": [
          "React"
         ],
         "textposition": "auto",
         "type": "bar",
         "x": [
          777600000
         ],
         "xaxis": "x",
         "y": [
          "Ron"
         ],
         "yaxis": "y"
        },
        {
         "alignmentgroup": "True",
         "base": [
          "2020-09-15"
         ],
         "hovertemplate": "Task=Task Number 11<br>Start=%{base}<br>Finish=%{x}<br>Human=%{y}<br>Competency=%{text}<extra></extra>",
         "legendgroup": "Task Number 11",
         "marker": {
          "color": "#EF553B"
         },
         "name": "Task Number 11",
         "offsetgroup": "Task Number 11",
         "orientation": "h",
         "showlegend": true,
         "text": [
          "REST API"
         ],
         "textposition": "auto",
         "type": "bar",
         "x": [
          777600000
         ],
         "xaxis": "x",
         "y": [
          "George"
         ],
         "yaxis": "y"
        },
        {
         "alignmentgroup": "True",
         "base": [
          "2020-09-11"
         ],
         "hovertemplate": "Task=Task Number 12<br>Start=%{base}<br>Finish=%{x}<br>Human=%{y}<br>Competency=%{text}<extra></extra>",
         "legendgroup": "Task Number 12",
         "marker": {
          "color": "#00cc96"
         },
         "name": "Task Number 12",
         "offsetgroup": "Task Number 12",
         "orientation": "h",
         "showlegend": true,
         "text": [
          "React"
         ],
         "textposition": "auto",
         "type": "bar",
         "x": [
          345600000
         ],
         "xaxis": "x",
         "y": [
          "Anthony"
         ],
         "yaxis": "y"
        },
        {
         "alignmentgroup": "True",
         "base": [
          "2020-09-14"
         ],
         "hovertemplate": "Task=Task Number 13<br>Start=%{base}<br>Finish=%{x}<br>Human=%{y}<br>Competency=%{text}<extra></extra>",
         "legendgroup": "Task Number 13",
         "marker": {
          "color": "#ab63fa"
         },
         "name": "Task Number 13",
         "offsetgroup": "Task Number 13",
         "orientation": "h",
         "showlegend": true,
         "text": [
          "Angular"
         ],
         "textposition": "auto",
         "type": "bar",
         "x": [
          432000000
         ],
         "xaxis": "x",
         "y": [
          "Elizabeth"
         ],
         "yaxis": "y"
        },
        {
         "alignmentgroup": "True",
         "base": [
          "2020-09-16"
         ],
         "hovertemplate": "Task=Task Number 14<br>Start=%{base}<br>Finish=%{x}<br>Human=%{y}<br>Competency=%{text}<extra></extra>",
         "legendgroup": "Task Number 14",
         "marker": {
          "color": "#FFA15A"
         },
         "name": "Task Number 14",
         "offsetgroup": "Task Number 14",
         "orientation": "h",
         "showlegend": true,
         "text": [
          "React"
         ],
         "textposition": "auto",
         "type": "bar",
         "x": [
          691200000
         ],
         "xaxis": "x",
         "y": [
          "Anthony"
         ],
         "yaxis": "y"
        }
       ],
       "layout": {
        "barmode": "overlay",
        "height": 300,
        "legend": {
         "title": {
          "text": "Task"
         },
         "tracegroupgap": 0
        },
        "margin": {
         "t": 60
        },
        "template": {
         "data": {
          "bar": [
           {
            "error_x": {
             "color": "#2a3f5f"
            },
            "error_y": {
             "color": "#2a3f5f"
            },
            "marker": {
             "line": {
              "color": "#E5ECF6",
              "width": 0.5
             }
            },
            "type": "bar"
           }
          ],
          "barpolar": [
           {
            "marker": {
             "line": {
              "color": "#E5ECF6",
              "width": 0.5
             }
            },
            "type": "barpolar"
           }
          ],
          "carpet": [
           {
            "aaxis": {
             "endlinecolor": "#2a3f5f",
             "gridcolor": "white",
             "linecolor": "white",
             "minorgridcolor": "white",
             "startlinecolor": "#2a3f5f"
            },
            "baxis": {
             "endlinecolor": "#2a3f5f",
             "gridcolor": "white",
             "linecolor": "white",
             "minorgridcolor": "white",
             "startlinecolor": "#2a3f5f"
            },
            "type": "carpet"
           }
          ],
          "choropleth": [
           {
            "colorbar": {
             "outlinewidth": 0,
             "ticks": ""
            },
            "type": "choropleth"
           }
          ],
          "contour": [
           {
            "colorbar": {
             "outlinewidth": 0,
             "ticks": ""
            },
            "colorscale": [
             [
              0,
              "#0d0887"
             ],
             [
              0.1111111111111111,
              "#46039f"
             ],
             [
              0.2222222222222222,
              "#7201a8"
             ],
             [
              0.3333333333333333,
              "#9c179e"
             ],
             [
              0.4444444444444444,
              "#bd3786"
             ],
             [
              0.5555555555555556,
              "#d8576b"
             ],
             [
              0.6666666666666666,
              "#ed7953"
             ],
             [
              0.7777777777777778,
              "#fb9f3a"
             ],
             [
              0.8888888888888888,
              "#fdca26"
             ],
             [
              1,
              "#f0f921"
             ]
            ],
            "type": "contour"
           }
          ],
          "contourcarpet": [
           {
            "colorbar": {
             "outlinewidth": 0,
             "ticks": ""
            },
            "type": "contourcarpet"
           }
          ],
          "heatmap": [
           {
            "colorbar": {
             "outlinewidth": 0,
             "ticks": ""
            },
            "colorscale": [
             [
              0,
              "#0d0887"
             ],
             [
              0.1111111111111111,
              "#46039f"
             ],
             [
              0.2222222222222222,
              "#7201a8"
             ],
             [
              0.3333333333333333,
              "#9c179e"
             ],
             [
              0.4444444444444444,
              "#bd3786"
             ],
             [
              0.5555555555555556,
              "#d8576b"
             ],
             [
              0.6666666666666666,
              "#ed7953"
             ],
             [
              0.7777777777777778,
              "#fb9f3a"
             ],
             [
              0.8888888888888888,
              "#fdca26"
             ],
             [
              1,
              "#f0f921"
             ]
            ],
            "type": "heatmap"
           }
          ],
          "heatmapgl": [
           {
            "colorbar": {
             "outlinewidth": 0,
             "ticks": ""
            },
            "colorscale": [
             [
              0,
              "#0d0887"
             ],
             [
              0.1111111111111111,
              "#46039f"
             ],
             [
              0.2222222222222222,
              "#7201a8"
             ],
             [
              0.3333333333333333,
              "#9c179e"
             ],
             [
              0.4444444444444444,
              "#bd3786"
             ],
             [
              0.5555555555555556,
              "#d8576b"
             ],
             [
              0.6666666666666666,
              "#ed7953"
             ],
             [
              0.7777777777777778,
              "#fb9f3a"
             ],
             [
              0.8888888888888888,
              "#fdca26"
             ],
             [
              1,
              "#f0f921"
             ]
            ],
            "type": "heatmapgl"
           }
          ],
          "histogram": [
           {
            "marker": {
             "colorbar": {
              "outlinewidth": 0,
              "ticks": ""
             }
            },
            "type": "histogram"
           }
          ],
          "histogram2d": [
           {
            "colorbar": {
             "outlinewidth": 0,
             "ticks": ""
            },
            "colorscale": [
             [
              0,
              "#0d0887"
             ],
             [
              0.1111111111111111,
              "#46039f"
             ],
             [
              0.2222222222222222,
              "#7201a8"
             ],
             [
              0.3333333333333333,
              "#9c179e"
             ],
             [
              0.4444444444444444,
              "#bd3786"
             ],
             [
              0.5555555555555556,
              "#d8576b"
             ],
             [
              0.6666666666666666,
              "#ed7953"
             ],
             [
              0.7777777777777778,
              "#fb9f3a"
             ],
             [
              0.8888888888888888,
              "#fdca26"
             ],
             [
              1,
              "#f0f921"
             ]
            ],
            "type": "histogram2d"
           }
          ],
          "histogram2dcontour": [
           {
            "colorbar": {
             "outlinewidth": 0,
             "ticks": ""
            },
            "colorscale": [
             [
              0,
              "#0d0887"
             ],
             [
              0.1111111111111111,
              "#46039f"
             ],
             [
              0.2222222222222222,
              "#7201a8"
             ],
             [
              0.3333333333333333,
              "#9c179e"
             ],
             [
              0.4444444444444444,
              "#bd3786"
             ],
             [
              0.5555555555555556,
              "#d8576b"
             ],
             [
              0.6666666666666666,
              "#ed7953"
             ],
             [
              0.7777777777777778,
              "#fb9f3a"
             ],
             [
              0.8888888888888888,
              "#fdca26"
             ],
             [
              1,
              "#f0f921"
             ]
            ],
            "type": "histogram2dcontour"
           }
          ],
          "mesh3d": [
           {
            "colorbar": {
             "outlinewidth": 0,
             "ticks": ""
            },
            "type": "mesh3d"
           }
          ],
          "parcoords": [
           {
            "line": {
             "colorbar": {
              "outlinewidth": 0,
              "ticks": ""
             }
            },
            "type": "parcoords"
           }
          ],
          "pie": [
           {
            "automargin": true,
            "type": "pie"
           }
          ],
          "scatter": [
           {
            "marker": {
             "colorbar": {
              "outlinewidth": 0,
              "ticks": ""
             }
            },
            "type": "scatter"
           }
          ],
          "scatter3d": [
           {
            "line": {
             "colorbar": {
              "outlinewidth": 0,
              "ticks": ""
             }
            },
            "marker": {
             "colorbar": {
              "outlinewidth": 0,
              "ticks": ""
             }
            },
            "type": "scatter3d"
           }
          ],
          "scattercarpet": [
           {
            "marker": {
             "colorbar": {
              "outlinewidth": 0,
              "ticks": ""
             }
            },
            "type": "scattercarpet"
           }
          ],
          "scattergeo": [
           {
            "marker": {
             "colorbar": {
              "outlinewidth": 0,
              "ticks": ""
             }
            },
            "type": "scattergeo"
           }
          ],
          "scattergl": [
           {
            "marker": {
             "colorbar": {
              "outlinewidth": 0,
              "ticks": ""
             }
            },
            "type": "scattergl"
           }
          ],
          "scattermapbox": [
           {
            "marker": {
             "colorbar": {
              "outlinewidth": 0,
              "ticks": ""
             }
            },
            "type": "scattermapbox"
           }
          ],
          "scatterpolar": [
           {
            "marker": {
             "colorbar": {
              "outlinewidth": 0,
              "ticks": ""
             }
            },
            "type": "scatterpolar"
           }
          ],
          "scatterpolargl": [
           {
            "marker": {
             "colorbar": {
              "outlinewidth": 0,
              "ticks": ""
             }
            },
            "type": "scatterpolargl"
           }
          ],
          "scatterternary": [
           {
            "marker": {
             "colorbar": {
              "outlinewidth": 0,
              "ticks": ""
             }
            },
            "type": "scatterternary"
           }
          ],
          "surface": [
           {
            "colorbar": {
             "outlinewidth": 0,
             "ticks": ""
            },
            "colorscale": [
             [
              0,
              "#0d0887"
             ],
             [
              0.1111111111111111,
              "#46039f"
             ],
             [
              0.2222222222222222,
              "#7201a8"
             ],
             [
              0.3333333333333333,
              "#9c179e"
             ],
             [
              0.4444444444444444,
              "#bd3786"
             ],
             [
              0.5555555555555556,
              "#d8576b"
             ],
             [
              0.6666666666666666,
              "#ed7953"
             ],
             [
              0.7777777777777778,
              "#fb9f3a"
             ],
             [
              0.8888888888888888,
              "#fdca26"
             ],
             [
              1,
              "#f0f921"
             ]
            ],
            "type": "surface"
           }
          ],
          "table": [
           {
            "cells": {
             "fill": {
              "color": "#EBF0F8"
             },
             "line": {
              "color": "white"
             }
            },
            "header": {
             "fill": {
              "color": "#C8D4E3"
             },
             "line": {
              "color": "white"
             }
            },
            "type": "table"
           }
          ]
         },
         "layout": {
          "annotationdefaults": {
           "arrowcolor": "#2a3f5f",
           "arrowhead": 0,
           "arrowwidth": 1
          },
          "coloraxis": {
           "colorbar": {
            "outlinewidth": 0,
            "ticks": ""
           }
          },
          "colorscale": {
           "diverging": [
            [
             0,
             "#8e0152"
            ],
            [
             0.1,
             "#c51b7d"
            ],
            [
             0.2,
             "#de77ae"
            ],
            [
             0.3,
             "#f1b6da"
            ],
            [
             0.4,
             "#fde0ef"
            ],
            [
             0.5,
             "#f7f7f7"
            ],
            [
             0.6,
             "#e6f5d0"
            ],
            [
             0.7,
             "#b8e186"
            ],
            [
             0.8,
             "#7fbc41"
            ],
            [
             0.9,
             "#4d9221"
            ],
            [
             1,
             "#276419"
            ]
           ],
           "sequential": [
            [
             0,
             "#0d0887"
            ],
            [
             0.1111111111111111,
             "#46039f"
            ],
            [
             0.2222222222222222,
             "#7201a8"
            ],
            [
             0.3333333333333333,
             "#9c179e"
            ],
            [
             0.4444444444444444,
             "#bd3786"
            ],
            [
             0.5555555555555556,
             "#d8576b"
            ],
            [
             0.6666666666666666,
             "#ed7953"
            ],
            [
             0.7777777777777778,
             "#fb9f3a"
            ],
            [
             0.8888888888888888,
             "#fdca26"
            ],
            [
             1,
             "#f0f921"
            ]
           ],
           "sequentialminus": [
            [
             0,
             "#0d0887"
            ],
            [
             0.1111111111111111,
             "#46039f"
            ],
            [
             0.2222222222222222,
             "#7201a8"
            ],
            [
             0.3333333333333333,
             "#9c179e"
            ],
            [
             0.4444444444444444,
             "#bd3786"
            ],
            [
             0.5555555555555556,
             "#d8576b"
            ],
            [
             0.6666666666666666,
             "#ed7953"
            ],
            [
             0.7777777777777778,
             "#fb9f3a"
            ],
            [
             0.8888888888888888,
             "#fdca26"
            ],
            [
             1,
             "#f0f921"
            ]
           ]
          },
          "colorway": [
           "#636efa",
           "#EF553B",
           "#00cc96",
           "#ab63fa",
           "#FFA15A",
           "#19d3f3",
           "#FF6692",
           "#B6E880",
           "#FF97FF",
           "#FECB52"
          ],
          "font": {
           "color": "#2a3f5f"
          },
          "geo": {
           "bgcolor": "white",
           "lakecolor": "white",
           "landcolor": "#E5ECF6",
           "showlakes": true,
           "showland": true,
           "subunitcolor": "white"
          },
          "hoverlabel": {
           "align": "left"
          },
          "hovermode": "closest",
          "mapbox": {
           "style": "light"
          },
          "paper_bgcolor": "white",
          "plot_bgcolor": "#E5ECF6",
          "polar": {
           "angularaxis": {
            "gridcolor": "white",
            "linecolor": "white",
            "ticks": ""
           },
           "bgcolor": "#E5ECF6",
           "radialaxis": {
            "gridcolor": "white",
            "linecolor": "white",
            "ticks": ""
           }
          },
          "scene": {
           "xaxis": {
            "backgroundcolor": "#E5ECF6",
            "gridcolor": "white",
            "gridwidth": 2,
            "linecolor": "white",
            "showbackground": true,
            "ticks": "",
            "zerolinecolor": "white"
           },
           "yaxis": {
            "backgroundcolor": "#E5ECF6",
            "gridcolor": "white",
            "gridwidth": 2,
            "linecolor": "white",
            "showbackground": true,
            "ticks": "",
            "zerolinecolor": "white"
           },
           "zaxis": {
            "backgroundcolor": "#E5ECF6",
            "gridcolor": "white",
            "gridwidth": 2,
            "linecolor": "white",
            "showbackground": true,
            "ticks": "",
            "zerolinecolor": "white"
           }
          },
          "shapedefaults": {
           "line": {
            "color": "#2a3f5f"
           }
          },
          "ternary": {
           "aaxis": {
            "gridcolor": "white",
            "linecolor": "white",
            "ticks": ""
           },
           "baxis": {
            "gridcolor": "white",
            "linecolor": "white",
            "ticks": ""
           },
           "bgcolor": "#E5ECF6",
           "caxis": {
            "gridcolor": "white",
            "linecolor": "white",
            "ticks": ""
           }
          },
          "title": {
           "x": 0.05
          },
          "xaxis": {
           "automargin": true,
           "gridcolor": "white",
           "linecolor": "white",
           "ticks": "",
           "title": {
            "standoff": 15
           },
           "zerolinecolor": "white",
           "zerolinewidth": 2
          },
          "yaxis": {
           "automargin": true,
           "gridcolor": "white",
           "linecolor": "white",
           "ticks": "",
           "title": {
            "standoff": 15
           },
           "zerolinecolor": "white",
           "zerolinewidth": 2
          }
         }
        },
        "xaxis": {
         "anchor": "y",
         "domain": [
          0,
          1
         ],
         "type": "date"
        },
        "yaxis": {
         "anchor": "x",
         "domain": [
          0,
          1
         ],
         "title": {
          "text": "Human"
         }
        }
       }
      },
      "text/html": [
       "<div>\n",
       "        \n",
       "        \n",
       "            <div id=\"e9318212-34d7-48bf-a4de-3ddfff3984f1\" class=\"plotly-graph-div\" style=\"height:300px; width:100%;\"></div>\n",
       "            <script type=\"text/javascript\">\n",
       "                require([\"plotly\"], function(Plotly) {\n",
       "                    window.PLOTLYENV=window.PLOTLYENV || {};\n",
       "                    \n",
       "                if (document.getElementById(\"e9318212-34d7-48bf-a4de-3ddfff3984f1\")) {\n",
       "                    Plotly.newPlot(\n",
       "                        'e9318212-34d7-48bf-a4de-3ddfff3984f1',\n",
       "                        [{\"alignmentgroup\": \"True\", \"base\": [\"2020-08-26\"], \"hovertemplate\": \"Task=Task Number 0<br>Start=%{base}<br>Finish=%{x}<br>Human=%{y}<br>Competency=%{text}<extra></extra>\", \"legendgroup\": \"Task Number 0\", \"marker\": {\"color\": \"#636efa\"}, \"name\": \"Task Number 0\", \"offsetgroup\": \"Task Number 0\", \"orientation\": \"h\", \"showlegend\": true, \"text\": [\"Angular\"], \"textposition\": \"auto\", \"type\": \"bar\", \"x\": [432000000.0], \"xaxis\": \"x\", \"y\": [\"Anthony\"], \"yaxis\": \"y\"}, {\"alignmentgroup\": \"True\", \"base\": [\"2020-08-26\"], \"hovertemplate\": \"Task=Task Number 1<br>Start=%{base}<br>Finish=%{x}<br>Human=%{y}<br>Competency=%{text}<extra></extra>\", \"legendgroup\": \"Task Number 1\", \"marker\": {\"color\": \"#EF553B\"}, \"name\": \"Task Number 1\", \"offsetgroup\": \"Task Number 1\", \"orientation\": \"h\", \"showlegend\": true, \"text\": [\"React\"], \"textposition\": \"auto\", \"type\": \"bar\", \"x\": [432000000.0], \"xaxis\": \"x\", \"y\": [\"George\"], \"yaxis\": \"y\"}, {\"alignmentgroup\": \"True\", \"base\": [\"2020-08-26\"], \"hovertemplate\": \"Task=Task Number 2<br>Start=%{base}<br>Finish=%{x}<br>Human=%{y}<br>Competency=%{text}<extra></extra>\", \"legendgroup\": \"Task Number 2\", \"marker\": {\"color\": \"#00cc96\"}, \"name\": \"Task Number 2\", \"offsetgroup\": \"Task Number 2\", \"orientation\": \"h\", \"showlegend\": true, \"text\": [\"Redux\"], \"textposition\": \"auto\", \"type\": \"bar\", \"x\": [518400000.0], \"xaxis\": \"x\", \"y\": [\"Elizabeth\"], \"yaxis\": \"y\"}, {\"alignmentgroup\": \"True\", \"base\": [\"2020-09-01\"], \"hovertemplate\": \"Task=Task Number 3<br>Start=%{base}<br>Finish=%{x}<br>Human=%{y}<br>Competency=%{text}<extra></extra>\", \"legendgroup\": \"Task Number 3\", \"marker\": {\"color\": \"#ab63fa\"}, \"name\": \"Task Number 3\", \"offsetgroup\": \"Task Number 3\", \"orientation\": \"h\", \"showlegend\": true, \"text\": [\"Redux\"], \"textposition\": \"auto\", \"type\": \"bar\", \"x\": [777600000.0], \"xaxis\": \"x\", \"y\": [\"Anthony\"], \"yaxis\": \"y\"}, {\"alignmentgroup\": \"True\", \"base\": [\"2020-08-26\"], \"hovertemplate\": \"Task=Task Number 4<br>Start=%{base}<br>Finish=%{x}<br>Human=%{y}<br>Competency=%{text}<extra></extra>\", \"legendgroup\": \"Task Number 4\", \"marker\": {\"color\": \"#FFA15A\"}, \"name\": \"Task Number 4\", \"offsetgroup\": \"Task Number 4\", \"orientation\": \"h\", \"showlegend\": true, \"text\": [\"REST API\"], \"textposition\": \"auto\", \"type\": \"bar\", \"x\": [604800000.0], \"xaxis\": \"x\", \"y\": [\"Ron\"], \"yaxis\": \"y\"}, {\"alignmentgroup\": \"True\", \"base\": [\"2020-09-03\"], \"hovertemplate\": \"Task=Task Number 5<br>Start=%{base}<br>Finish=%{x}<br>Human=%{y}<br>Competency=%{text}<extra></extra>\", \"legendgroup\": \"Task Number 5\", \"marker\": {\"color\": \"#19d3f3\"}, \"name\": \"Task Number 5\", \"offsetgroup\": \"Task Number 5\", \"orientation\": \"h\", \"showlegend\": true, \"text\": [\"Angular\"], \"textposition\": \"auto\", \"type\": \"bar\", \"x\": [345600000.0], \"xaxis\": \"x\", \"y\": [\"Ron\"], \"yaxis\": \"y\"}, {\"alignmentgroup\": \"True\", \"base\": [\"2020-09-02\"], \"hovertemplate\": \"Task=Task Number 6<br>Start=%{base}<br>Finish=%{x}<br>Human=%{y}<br>Competency=%{text}<extra></extra>\", \"legendgroup\": \"Task Number 6\", \"marker\": {\"color\": \"#FF6692\"}, \"name\": \"Task Number 6\", \"offsetgroup\": \"Task Number 6\", \"orientation\": \"h\", \"showlegend\": true, \"text\": [\"Angular\"], \"textposition\": \"auto\", \"type\": \"bar\", \"x\": [432000000.0], \"xaxis\": \"x\", \"y\": [\"Elizabeth\"], \"yaxis\": \"y\"}, {\"alignmentgroup\": \"True\", \"base\": [\"2020-09-01\"], \"hovertemplate\": \"Task=Task Number 7<br>Start=%{base}<br>Finish=%{x}<br>Human=%{y}<br>Competency=%{text}<extra></extra>\", \"legendgroup\": \"Task Number 7\", \"marker\": {\"color\": \"#B6E880\"}, \"name\": \"Task Number 7\", \"offsetgroup\": \"Task Number 7\", \"orientation\": \"h\", \"showlegend\": true, \"text\": [\"Python\"], \"textposition\": \"auto\", \"type\": \"bar\", \"x\": [345600000.0], \"xaxis\": \"x\", \"y\": [\"George\"], \"yaxis\": \"y\"}, {\"alignmentgroup\": \"True\", \"base\": [\"2020-09-06\"], \"hovertemplate\": \"Task=Task Number 8<br>Start=%{base}<br>Finish=%{x}<br>Human=%{y}<br>Competency=%{text}<extra></extra>\", \"legendgroup\": \"Task Number 8\", \"marker\": {\"color\": \"#FF97FF\"}, \"name\": \"Task Number 8\", \"offsetgroup\": \"Task Number 8\", \"orientation\": \"h\", \"showlegend\": true, \"text\": [\"React\"], \"textposition\": \"auto\", \"type\": \"bar\", \"x\": [691200000.0], \"xaxis\": \"x\", \"y\": [\"George\"], \"yaxis\": \"y\"}, {\"alignmentgroup\": \"True\", \"base\": [\"2020-09-08\"], \"hovertemplate\": \"Task=Task Number 9<br>Start=%{base}<br>Finish=%{x}<br>Human=%{y}<br>Competency=%{text}<extra></extra>\", \"legendgroup\": \"Task Number 9\", \"marker\": {\"color\": \"#FECB52\"}, \"name\": \"Task Number 9\", \"offsetgroup\": \"Task Number 9\", \"orientation\": \"h\", \"showlegend\": true, \"text\": [\"Redux\"], \"textposition\": \"auto\", \"type\": \"bar\", \"x\": [432000000.0], \"xaxis\": \"x\", \"y\": [\"Elizabeth\"], \"yaxis\": \"y\"}, {\"alignmentgroup\": \"True\", \"base\": [\"2020-09-08\"], \"hovertemplate\": \"Task=Task Number 10<br>Start=%{base}<br>Finish=%{x}<br>Human=%{y}<br>Competency=%{text}<extra></extra>\", \"legendgroup\": \"Task Number 10\", \"marker\": {\"color\": \"#636efa\"}, \"name\": \"Task Number 10\", \"offsetgroup\": \"Task Number 10\", \"orientation\": \"h\", \"showlegend\": true, \"text\": [\"React\"], \"textposition\": \"auto\", \"type\": \"bar\", \"x\": [777600000.0], \"xaxis\": \"x\", \"y\": [\"Ron\"], \"yaxis\": \"y\"}, {\"alignmentgroup\": \"True\", \"base\": [\"2020-09-15\"], \"hovertemplate\": \"Task=Task Number 11<br>Start=%{base}<br>Finish=%{x}<br>Human=%{y}<br>Competency=%{text}<extra></extra>\", \"legendgroup\": \"Task Number 11\", \"marker\": {\"color\": \"#EF553B\"}, \"name\": \"Task Number 11\", \"offsetgroup\": \"Task Number 11\", \"orientation\": \"h\", \"showlegend\": true, \"text\": [\"REST API\"], \"textposition\": \"auto\", \"type\": \"bar\", \"x\": [777600000.0], \"xaxis\": \"x\", \"y\": [\"George\"], \"yaxis\": \"y\"}, {\"alignmentgroup\": \"True\", \"base\": [\"2020-09-11\"], \"hovertemplate\": \"Task=Task Number 12<br>Start=%{base}<br>Finish=%{x}<br>Human=%{y}<br>Competency=%{text}<extra></extra>\", \"legendgroup\": \"Task Number 12\", \"marker\": {\"color\": \"#00cc96\"}, \"name\": \"Task Number 12\", \"offsetgroup\": \"Task Number 12\", \"orientation\": \"h\", \"showlegend\": true, \"text\": [\"React\"], \"textposition\": \"auto\", \"type\": \"bar\", \"x\": [345600000.0], \"xaxis\": \"x\", \"y\": [\"Anthony\"], \"yaxis\": \"y\"}, {\"alignmentgroup\": \"True\", \"base\": [\"2020-09-14\"], \"hovertemplate\": \"Task=Task Number 13<br>Start=%{base}<br>Finish=%{x}<br>Human=%{y}<br>Competency=%{text}<extra></extra>\", \"legendgroup\": \"Task Number 13\", \"marker\": {\"color\": \"#ab63fa\"}, \"name\": \"Task Number 13\", \"offsetgroup\": \"Task Number 13\", \"orientation\": \"h\", \"showlegend\": true, \"text\": [\"Angular\"], \"textposition\": \"auto\", \"type\": \"bar\", \"x\": [432000000.0], \"xaxis\": \"x\", \"y\": [\"Elizabeth\"], \"yaxis\": \"y\"}, {\"alignmentgroup\": \"True\", \"base\": [\"2020-09-16\"], \"hovertemplate\": \"Task=Task Number 14<br>Start=%{base}<br>Finish=%{x}<br>Human=%{y}<br>Competency=%{text}<extra></extra>\", \"legendgroup\": \"Task Number 14\", \"marker\": {\"color\": \"#FFA15A\"}, \"name\": \"Task Number 14\", \"offsetgroup\": \"Task Number 14\", \"orientation\": \"h\", \"showlegend\": true, \"text\": [\"React\"], \"textposition\": \"auto\", \"type\": \"bar\", \"x\": [691200000.0], \"xaxis\": \"x\", \"y\": [\"Anthony\"], \"yaxis\": \"y\"}],\n",
       "                        {\"barmode\": \"overlay\", \"height\": 300, \"legend\": {\"title\": {\"text\": \"Task\"}, \"tracegroupgap\": 0}, \"margin\": {\"t\": 60}, \"template\": {\"data\": {\"bar\": [{\"error_x\": {\"color\": \"#2a3f5f\"}, \"error_y\": {\"color\": \"#2a3f5f\"}, \"marker\": {\"line\": {\"color\": \"#E5ECF6\", \"width\": 0.5}}, \"type\": \"bar\"}], \"barpolar\": [{\"marker\": {\"line\": {\"color\": \"#E5ECF6\", \"width\": 0.5}}, \"type\": \"barpolar\"}], \"carpet\": [{\"aaxis\": {\"endlinecolor\": \"#2a3f5f\", \"gridcolor\": \"white\", \"linecolor\": \"white\", \"minorgridcolor\": \"white\", \"startlinecolor\": \"#2a3f5f\"}, \"baxis\": {\"endlinecolor\": \"#2a3f5f\", \"gridcolor\": \"white\", \"linecolor\": \"white\", \"minorgridcolor\": \"white\", \"startlinecolor\": \"#2a3f5f\"}, \"type\": \"carpet\"}], \"choropleth\": [{\"colorbar\": {\"outlinewidth\": 0, \"ticks\": \"\"}, \"type\": \"choropleth\"}], \"contour\": [{\"colorbar\": {\"outlinewidth\": 0, \"ticks\": \"\"}, \"colorscale\": [[0.0, \"#0d0887\"], [0.1111111111111111, \"#46039f\"], [0.2222222222222222, \"#7201a8\"], [0.3333333333333333, \"#9c179e\"], [0.4444444444444444, \"#bd3786\"], [0.5555555555555556, \"#d8576b\"], [0.6666666666666666, \"#ed7953\"], [0.7777777777777778, \"#fb9f3a\"], [0.8888888888888888, \"#fdca26\"], [1.0, \"#f0f921\"]], \"type\": \"contour\"}], \"contourcarpet\": [{\"colorbar\": {\"outlinewidth\": 0, \"ticks\": \"\"}, \"type\": \"contourcarpet\"}], \"heatmap\": [{\"colorbar\": {\"outlinewidth\": 0, \"ticks\": \"\"}, \"colorscale\": [[0.0, \"#0d0887\"], [0.1111111111111111, \"#46039f\"], [0.2222222222222222, \"#7201a8\"], [0.3333333333333333, \"#9c179e\"], [0.4444444444444444, \"#bd3786\"], [0.5555555555555556, \"#d8576b\"], [0.6666666666666666, \"#ed7953\"], [0.7777777777777778, \"#fb9f3a\"], [0.8888888888888888, \"#fdca26\"], [1.0, \"#f0f921\"]], \"type\": \"heatmap\"}], \"heatmapgl\": [{\"colorbar\": {\"outlinewidth\": 0, \"ticks\": \"\"}, \"colorscale\": [[0.0, \"#0d0887\"], [0.1111111111111111, \"#46039f\"], [0.2222222222222222, \"#7201a8\"], [0.3333333333333333, \"#9c179e\"], [0.4444444444444444, \"#bd3786\"], [0.5555555555555556, \"#d8576b\"], [0.6666666666666666, \"#ed7953\"], [0.7777777777777778, \"#fb9f3a\"], [0.8888888888888888, \"#fdca26\"], [1.0, \"#f0f921\"]], \"type\": \"heatmapgl\"}], \"histogram\": [{\"marker\": {\"colorbar\": {\"outlinewidth\": 0, \"ticks\": \"\"}}, \"type\": \"histogram\"}], \"histogram2d\": [{\"colorbar\": {\"outlinewidth\": 0, \"ticks\": \"\"}, \"colorscale\": [[0.0, \"#0d0887\"], [0.1111111111111111, \"#46039f\"], [0.2222222222222222, \"#7201a8\"], [0.3333333333333333, \"#9c179e\"], [0.4444444444444444, \"#bd3786\"], [0.5555555555555556, \"#d8576b\"], [0.6666666666666666, \"#ed7953\"], [0.7777777777777778, \"#fb9f3a\"], [0.8888888888888888, \"#fdca26\"], [1.0, \"#f0f921\"]], \"type\": \"histogram2d\"}], \"histogram2dcontour\": [{\"colorbar\": {\"outlinewidth\": 0, \"ticks\": \"\"}, \"colorscale\": [[0.0, \"#0d0887\"], [0.1111111111111111, \"#46039f\"], [0.2222222222222222, \"#7201a8\"], [0.3333333333333333, \"#9c179e\"], [0.4444444444444444, \"#bd3786\"], [0.5555555555555556, \"#d8576b\"], [0.6666666666666666, \"#ed7953\"], [0.7777777777777778, \"#fb9f3a\"], [0.8888888888888888, \"#fdca26\"], [1.0, \"#f0f921\"]], \"type\": \"histogram2dcontour\"}], \"mesh3d\": [{\"colorbar\": {\"outlinewidth\": 0, \"ticks\": \"\"}, \"type\": \"mesh3d\"}], \"parcoords\": [{\"line\": {\"colorbar\": {\"outlinewidth\": 0, \"ticks\": \"\"}}, \"type\": \"parcoords\"}], \"pie\": [{\"automargin\": true, \"type\": \"pie\"}], \"scatter\": [{\"marker\": {\"colorbar\": {\"outlinewidth\": 0, \"ticks\": \"\"}}, \"type\": \"scatter\"}], \"scatter3d\": [{\"line\": {\"colorbar\": {\"outlinewidth\": 0, \"ticks\": \"\"}}, \"marker\": {\"colorbar\": {\"outlinewidth\": 0, \"ticks\": \"\"}}, \"type\": \"scatter3d\"}], \"scattercarpet\": [{\"marker\": {\"colorbar\": {\"outlinewidth\": 0, \"ticks\": \"\"}}, \"type\": \"scattercarpet\"}], \"scattergeo\": [{\"marker\": {\"colorbar\": {\"outlinewidth\": 0, \"ticks\": \"\"}}, \"type\": \"scattergeo\"}], \"scattergl\": [{\"marker\": {\"colorbar\": {\"outlinewidth\": 0, \"ticks\": \"\"}}, \"type\": \"scattergl\"}], \"scattermapbox\": [{\"marker\": {\"colorbar\": {\"outlinewidth\": 0, \"ticks\": \"\"}}, \"type\": \"scattermapbox\"}], \"scatterpolar\": [{\"marker\": {\"colorbar\": {\"outlinewidth\": 0, \"ticks\": \"\"}}, \"type\": \"scatterpolar\"}], \"scatterpolargl\": [{\"marker\": {\"colorbar\": {\"outlinewidth\": 0, \"ticks\": \"\"}}, \"type\": \"scatterpolargl\"}], \"scatterternary\": [{\"marker\": {\"colorbar\": {\"outlinewidth\": 0, \"ticks\": \"\"}}, \"type\": \"scatterternary\"}], \"surface\": [{\"colorbar\": {\"outlinewidth\": 0, \"ticks\": \"\"}, \"colorscale\": [[0.0, \"#0d0887\"], [0.1111111111111111, \"#46039f\"], [0.2222222222222222, \"#7201a8\"], [0.3333333333333333, \"#9c179e\"], [0.4444444444444444, \"#bd3786\"], [0.5555555555555556, \"#d8576b\"], [0.6666666666666666, \"#ed7953\"], [0.7777777777777778, \"#fb9f3a\"], [0.8888888888888888, \"#fdca26\"], [1.0, \"#f0f921\"]], \"type\": \"surface\"}], \"table\": [{\"cells\": {\"fill\": {\"color\": \"#EBF0F8\"}, \"line\": {\"color\": \"white\"}}, \"header\": {\"fill\": {\"color\": \"#C8D4E3\"}, \"line\": {\"color\": \"white\"}}, \"type\": \"table\"}]}, \"layout\": {\"annotationdefaults\": {\"arrowcolor\": \"#2a3f5f\", \"arrowhead\": 0, \"arrowwidth\": 1}, \"coloraxis\": {\"colorbar\": {\"outlinewidth\": 0, \"ticks\": \"\"}}, \"colorscale\": {\"diverging\": [[0, \"#8e0152\"], [0.1, \"#c51b7d\"], [0.2, \"#de77ae\"], [0.3, \"#f1b6da\"], [0.4, \"#fde0ef\"], [0.5, \"#f7f7f7\"], [0.6, \"#e6f5d0\"], [0.7, \"#b8e186\"], [0.8, \"#7fbc41\"], [0.9, \"#4d9221\"], [1, \"#276419\"]], \"sequential\": [[0.0, \"#0d0887\"], [0.1111111111111111, \"#46039f\"], [0.2222222222222222, \"#7201a8\"], [0.3333333333333333, \"#9c179e\"], [0.4444444444444444, \"#bd3786\"], [0.5555555555555556, \"#d8576b\"], [0.6666666666666666, \"#ed7953\"], [0.7777777777777778, \"#fb9f3a\"], [0.8888888888888888, \"#fdca26\"], [1.0, \"#f0f921\"]], \"sequentialminus\": [[0.0, \"#0d0887\"], [0.1111111111111111, \"#46039f\"], [0.2222222222222222, \"#7201a8\"], [0.3333333333333333, \"#9c179e\"], [0.4444444444444444, \"#bd3786\"], [0.5555555555555556, \"#d8576b\"], [0.6666666666666666, \"#ed7953\"], [0.7777777777777778, \"#fb9f3a\"], [0.8888888888888888, \"#fdca26\"], [1.0, \"#f0f921\"]]}, \"colorway\": [\"#636efa\", \"#EF553B\", \"#00cc96\", \"#ab63fa\", \"#FFA15A\", \"#19d3f3\", \"#FF6692\", \"#B6E880\", \"#FF97FF\", \"#FECB52\"], \"font\": {\"color\": \"#2a3f5f\"}, \"geo\": {\"bgcolor\": \"white\", \"lakecolor\": \"white\", \"landcolor\": \"#E5ECF6\", \"showlakes\": true, \"showland\": true, \"subunitcolor\": \"white\"}, \"hoverlabel\": {\"align\": \"left\"}, \"hovermode\": \"closest\", \"mapbox\": {\"style\": \"light\"}, \"paper_bgcolor\": \"white\", \"plot_bgcolor\": \"#E5ECF6\", \"polar\": {\"angularaxis\": {\"gridcolor\": \"white\", \"linecolor\": \"white\", \"ticks\": \"\"}, \"bgcolor\": \"#E5ECF6\", \"radialaxis\": {\"gridcolor\": \"white\", \"linecolor\": \"white\", \"ticks\": \"\"}}, \"scene\": {\"xaxis\": {\"backgroundcolor\": \"#E5ECF6\", \"gridcolor\": \"white\", \"gridwidth\": 2, \"linecolor\": \"white\", \"showbackground\": true, \"ticks\": \"\", \"zerolinecolor\": \"white\"}, \"yaxis\": {\"backgroundcolor\": \"#E5ECF6\", \"gridcolor\": \"white\", \"gridwidth\": 2, \"linecolor\": \"white\", \"showbackground\": true, \"ticks\": \"\", \"zerolinecolor\": \"white\"}, \"zaxis\": {\"backgroundcolor\": \"#E5ECF6\", \"gridcolor\": \"white\", \"gridwidth\": 2, \"linecolor\": \"white\", \"showbackground\": true, \"ticks\": \"\", \"zerolinecolor\": \"white\"}}, \"shapedefaults\": {\"line\": {\"color\": \"#2a3f5f\"}}, \"ternary\": {\"aaxis\": {\"gridcolor\": \"white\", \"linecolor\": \"white\", \"ticks\": \"\"}, \"baxis\": {\"gridcolor\": \"white\", \"linecolor\": \"white\", \"ticks\": \"\"}, \"bgcolor\": \"#E5ECF6\", \"caxis\": {\"gridcolor\": \"white\", \"linecolor\": \"white\", \"ticks\": \"\"}}, \"title\": {\"x\": 0.05}, \"xaxis\": {\"automargin\": true, \"gridcolor\": \"white\", \"linecolor\": \"white\", \"ticks\": \"\", \"title\": {\"standoff\": 15}, \"zerolinecolor\": \"white\", \"zerolinewidth\": 2}, \"yaxis\": {\"automargin\": true, \"gridcolor\": \"white\", \"linecolor\": \"white\", \"ticks\": \"\", \"title\": {\"standoff\": 15}, \"zerolinecolor\": \"white\", \"zerolinewidth\": 2}}}, \"xaxis\": {\"anchor\": \"y\", \"domain\": [0.0, 1.0], \"type\": \"date\"}, \"yaxis\": {\"anchor\": \"x\", \"domain\": [0.0, 1.0], \"title\": {\"text\": \"Human\"}}},\n",
       "                        {\"responsive\": true}\n",
       "                    ).then(function(){\n",
       "                            \n",
       "var gd = document.getElementById('e9318212-34d7-48bf-a4de-3ddfff3984f1');\n",
       "var x = new MutationObserver(function (mutations, observer) {{\n",
       "        var display = window.getComputedStyle(gd).display;\n",
       "        if (!display || display === 'none') {{\n",
       "            console.log([gd, 'removed!']);\n",
       "            Plotly.purge(gd);\n",
       "            observer.disconnect();\n",
       "        }}\n",
       "}});\n",
       "\n",
       "// Listen for the removal of the full notebook cells\n",
       "var notebookContainer = gd.closest('#notebook-container');\n",
       "if (notebookContainer) {{\n",
       "    x.observe(notebookContainer, {childList: true});\n",
       "}}\n",
       "\n",
       "// Listen for the clearing of the current output cell\n",
       "var outputEl = gd.closest('.output');\n",
       "if (outputEl) {{\n",
       "    x.observe(outputEl, {childList: true});\n",
       "}}\n",
       "\n",
       "                        })\n",
       "                };\n",
       "                });\n",
       "            </script>\n",
       "        </div>"
      ]
     },
     "metadata": {},
     "output_type": "display_data"
    }
   ],
   "source": [
    "fig.show()"
   ]
  }
 ],
 "metadata": {
  "kernelspec": {
   "display_name": "Python 3",
   "language": "python",
   "name": "python3"
  },
  "language_info": {
   "codemirror_mode": {
    "name": "ipython",
    "version": 3
   },
   "file_extension": ".py",
   "mimetype": "text/x-python",
   "name": "python",
   "nbconvert_exporter": "python",
   "pygments_lexer": "ipython3",
   "version": "3.6.4"
  }
 },
 "nbformat": 4,
 "nbformat_minor": 2
}
