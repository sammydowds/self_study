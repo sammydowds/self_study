{
 "cells": [
  {
   "cell_type": "markdown",
   "metadata": {},
   "source": [
    "# Models for Automating Project Management "
   ]
  },
  {
   "cell_type": "code",
   "execution_count": 1419,
   "metadata": {},
   "outputs": [],
   "source": [
    "from mesa import Agent, Model"
   ]
  },
  {
   "cell_type": "code",
   "execution_count": 1420,
   "metadata": {},
   "outputs": [],
   "source": [
    "from mesa.time import RandomActivation, BaseScheduler "
   ]
  },
  {
   "cell_type": "code",
   "execution_count": 1421,
   "metadata": {},
   "outputs": [],
   "source": [
    "from mesa.datacollection import DataCollector\n",
    "import random \n",
    "import datetime"
   ]
  },
  {
   "cell_type": "markdown",
   "metadata": {},
   "source": [
    "## Automated Scheduler \n",
    "### Based on Tasks and the Team \n",
    "\n",
    "**Scope**: The goal of this model is to create potential schedules given a team with attributes and tasks with attributes. The tasks will be ordered by due date. The \"tick\" or time step size will be one day, and productivity will be defined as work/day. Each team member will only be allowed to work on one task. Date will be tracked in the model, and tasks will be marked as late and tracked in order to visualize task completion success. "
   ]
  },
  {
   "cell_type": "markdown",
   "metadata": {},
   "source": [
    "### Team Member Agent "
   ]
  },
  {
   "cell_type": "code",
   "execution_count": 1422,
   "metadata": {},
   "outputs": [],
   "source": [
    "class TeamMember(Agent):\n",
    "    def __init__(self, unique_id, model, name, expertise, competency):\n",
    "        super().__init__(unique_id, model)\n",
    "        self.name = name\n",
    "        self.available = True \n",
    "        self.num_tasks_completed = 0\n",
    "        self.task = None \n",
    "        self.expertise = expertise\n",
    "        self.competency = competency\n",
    "        \n",
    "    def step(self):\n",
    "        \n",
    "        #assigning task if agent is available \n",
    "        if self.available: \n",
    "            for task in self.model.schedule.agents: \n",
    "                if task.state == \"open\":\n",
    "                    if self.expertise >= task.expertise and any(x in task.competency for x in self.competency):\n",
    "                        task.state = \"in_progress\"\n",
    "                        task.start_date = self.model.date.isoformat()\n",
    "                        task.human = self.name\n",
    "                        self.task = task\n",
    "                        self.available = False\n",
    "                        return \n",
    "                \n",
    "        #if busy working on something, update task information \n",
    "        else:\n",
    "            self.task.duration -= 1\n",
    "            if self.task.duration <= 0:\n",
    "                self.available = True\n",
    "                self.task.state = \"complete\"\n",
    "                self.task.end_date = self.model.date.isoformat()\n",
    "                self.task = None\n",
    "                self.num_tasks_completed += 1\n",
    "                self.model.tasks_closed += 1\n",
    "                return \n",
    "        "
   ]
  },
  {
   "cell_type": "markdown",
   "metadata": {},
   "source": [
    "### Task Agent"
   ]
  },
  {
   "cell_type": "code",
   "execution_count": 1423,
   "metadata": {},
   "outputs": [],
   "source": [
    "class Task(Agent):\n",
    "    def __init__(self, unique_id, model, name, duration, expertise, competency):\n",
    "        super().__init__(unique_id, model)\n",
    "        self.name = name\n",
    "        self.state = \"open\"\n",
    "        self.duration = duration\n",
    "        self.expertise = expertise\n",
    "        self.complete = False\n",
    "        self.start_date = None\n",
    "        self.end_date = None\n",
    "        self.human = None\n",
    "        self.competency = competency \n",
    "        "
   ]
  },
  {
   "cell_type": "markdown",
   "metadata": {},
   "source": [
    "### Model "
   ]
  },
  {
   "cell_type": "code",
   "execution_count": 1424,
   "metadata": {},
   "outputs": [],
   "source": [
    "class Scheduler(Model):\n",
    "    def __init__(self, team, tasks):\n",
    "        self.team = team\n",
    "        self.schedule = BaseScheduler(self)\n",
    "        self.staff_schedule = RandomActivation(self)\n",
    "        self.perc_late_tasks = 0\n",
    "        self.tasks_closed = 0\n",
    "        self.date = datetime.datetime.now().date()\n",
    "        \n",
    "        #building our team agents\n",
    "        for i in range(len(team)):\n",
    "            m = TeamMember(i, self, team[i]['name'], team[i]['expertise'], team[i]['competency'])\n",
    "            self.staff_schedule.add(m)\n",
    "        \n",
    "        #building our task agents\n",
    "        for j in range(len(tasks)):\n",
    "            t = Task(j, self, tasks[j]['name'], tasks[j]['duration'], tasks[j]['expertise'], tasks[j]['competency'])\n",
    "            self.schedule.add(t)\n",
    "        \n",
    "        #adding in our datacollector \n",
    "        self.datacollector = DataCollector(\n",
    "            model_reporters={\"Tasks Closed\": \"tasks_closed\"}, \n",
    "            agent_reporters={\"Task\": \"name\", \"Start\": \"start_date\", \"Finish\":\"end_date\", \"Human\": \"human\", \"Expertise\":\"expertise\"}\n",
    "        )\n",
    "\n",
    "    def step(self):\n",
    "        self.date = self.date + datetime.timedelta(days=1)\n",
    "        self.schedule.step()\n",
    "        self.staff_schedule.step()\n",
    "        self.datacollector.collect(self)"
   ]
  },
  {
   "cell_type": "markdown",
   "metadata": {},
   "source": [
    "### Building and Running Our Scheduler"
   ]
  },
  {
   "cell_type": "markdown",
   "metadata": {},
   "source": [
    "#### First - We Need A Team "
   ]
  },
  {
   "cell_type": "code",
   "execution_count": 1425,
   "metadata": {},
   "outputs": [],
   "source": [
    "team_list = [\n",
    "    {\n",
    "        \"name\": \"Anthony\", \n",
    "        \"expertise\": 3, \n",
    "        \"competency\": ['Skill 1', 'Skill 2', 'Skill 3']\n",
    "    },\n",
    "    {\n",
    "        \"name\": \"George\", \n",
    "        \"expertise\": 1, \n",
    "        \"competency\": ['Skill 4', 'Skill 5', 'Skill 6']\n",
    "    }, \n",
    "    {\n",
    "        \"name\": \"Elizabeth\", \n",
    "        \"expertise\": 1, \n",
    "        \"competency\": ['Skill 1', 'Skill 2', 'Skill 3']\n",
    "    }, \n",
    "    {\n",
    "        \"name\": \"Ron\", \n",
    "        \"expertise\": 3, \n",
    "        \"competency\": ['Skill 4', 'Skill 5', 'Skill 6'] \n",
    "    } \n",
    "]"
   ]
  },
  {
   "cell_type": "markdown",
   "metadata": {},
   "source": [
    "#### Second - We Need Tasks (note: we are going to sort this data based on time_remaining before passing to the model."
   ]
  },
  {
   "cell_type": "code",
   "execution_count": 1426,
   "metadata": {},
   "outputs": [],
   "source": [
    "competency_list = ['Skill 1', 'Skill 2', 'Skill 3','Skill 4', 'Skill 5', 'Skill 6']"
   ]
  },
  {
   "cell_type": "code",
   "execution_count": 1474,
   "metadata": {},
   "outputs": [],
   "source": [
    "def task_list_generator(num_tasks):\n",
    "    temp = []\n",
    "    for i in range(num_tasks):\n",
    "        temp_task = {}\n",
    "        temp_task['name'] = \"Task Number \" + str(i)\n",
    "        temp_task['duration'] = random.randrange(1, 3)\n",
    "        temp_task['expertise'] = random.choices([1, 2, 3], [0.6, 0.3, 0.1])[0]\n",
    "        temp_task['competency'] = random.choice(competency_list)\n",
    "        temp.append(temp_task)\n",
    "    return temp\n",
    "        "
   ]
  },
  {
   "cell_type": "code",
   "execution_count": 1475,
   "metadata": {},
   "outputs": [],
   "source": [
    "tasks_list = task_list_generator(75)"
   ]
  },
  {
   "cell_type": "markdown",
   "metadata": {},
   "source": [
    "#### Plug our Team and Tasks into the Model "
   ]
  },
  {
   "cell_type": "code",
   "execution_count": 1476,
   "metadata": {},
   "outputs": [],
   "source": [
    "model = Scheduler(team_list, tasks_list)"
   ]
  },
  {
   "cell_type": "markdown",
   "metadata": {},
   "source": [
    "##### Simulate for Defined Amount of Days "
   ]
  },
  {
   "cell_type": "code",
   "execution_count": 1477,
   "metadata": {},
   "outputs": [],
   "source": [
    "days_of_simulation = 50"
   ]
  },
  {
   "cell_type": "code",
   "execution_count": 1478,
   "metadata": {},
   "outputs": [],
   "source": [
    "for i in range(days_of_simulation): \n",
    "    model.step()"
   ]
  },
  {
   "cell_type": "markdown",
   "metadata": {},
   "source": [
    "##### Pulling Data From the Data Collector and Plotting "
   ]
  },
  {
   "cell_type": "code",
   "execution_count": 1479,
   "metadata": {},
   "outputs": [],
   "source": [
    "model_df = model.datacollector.get_model_vars_dataframe()"
   ]
  },
  {
   "cell_type": "code",
   "execution_count": 1480,
   "metadata": {},
   "outputs": [
    {
     "data": {
      "text/plain": [
       "<matplotlib.axes._subplots.AxesSubplot at 0x11f2b8400>"
      ]
     },
     "execution_count": 1480,
     "metadata": {},
     "output_type": "execute_result"
    },
    {
     "data": {
      "image/png": "[encoded data removed]",
      "text/plain": [
       "<Figure size 432x288 with 1 Axes>"
      ]
     },
     "metadata": {
      "needs_background": "light"
     },
     "output_type": "display_data"
    }
   ],
   "source": [
    "model_df['Tasks Closed'].plot()"
   ]
  },
  {
   "cell_type": "markdown",
   "metadata": {},
   "source": [
    "### Visualizing Schedules with Plotly "
   ]
  },
  {
   "cell_type": "code",
   "execution_count": 1481,
   "metadata": {},
   "outputs": [],
   "source": [
    "import plotly.express as px\n",
    "import pandas as pd"
   ]
  },
  {
   "cell_type": "code",
   "execution_count": 1482,
   "metadata": {},
   "outputs": [],
   "source": [
    "def GetGantt(agents):\n",
    "    task_dict = []\n",
    "    for agent in agents:\n",
    "        task_dict.append({\"Task\": agent.name, \"Start\": agent.start_date, \"Finish\": agent.end_date, \"Human\": agent.human, \"Expertise\": agent.expertise, \"Competency\": agent.competency})\n",
    "    df = pd.DataFrame(task_dict)\n",
    "    fig = px.timeline(df, x_start=\"Start\", x_end=\"Finish\", y=\"Human\", color=\"Task\", height=300, title=\"Optimal Schedule\")\n",
    "    fig.show()"
   ]
  },
  {
   "cell_type": "code",
   "execution_count": 1483,
   "metadata": {},
   "outputs": [
    {
     "data": {
      "application/vnd.plotly.v1+json": {
       "config": {
        "plotlyServerURL": "https://plot.ly"
       },
       "data": [
        {
         "alignmentgroup": "True",
         "base": [
          "2020-08-27"
         ],
         "hovertemplate": "Task=Task Number 0<br>Start=%{base}<br>Finish=%{x}<br>Human=%{y}<extra></extra>",
         "legendgroup": "Task Number 0",
         "marker": {
          "color": "#636efa"
         },
         "name": "Task Number 0",
         "offsetgroup": "Task Number 0",
         "orientation": "h",
         "showlegend": true,
         "textposition": "auto",
         "type": "bar",
         "x": [
          172800000
         ],
         "xaxis": "x",
         "y": [
          "Elizabeth"
         ],
         "yaxis": "y"
        },
        {
         "alignmentgroup": "True",
         "base": [
          "2020-08-27"
         ],
         "hovertemplate": "Task=Task Number 1<br>Start=%{base}<br>Finish=%{x}<br>Human=%{y}<extra></extra>",
         "legendgroup": "Task Number 1",
         "marker": {
          "color": "#EF553B"
         },
         "name": "Task Number 1",
         "offsetgroup": "Task Number 1",
         "orientation": "h",
         "showlegend": true,
         "textposition": "auto",
         "type": "bar",
         "x": [
          86400000
         ],
         "xaxis": "x",
         "y": [
          "Anthony"
         ],
         "yaxis": "y"
        },
        {
         "alignmentgroup": "True",
         "base": [
          "2020-08-29"
         ],
         "hovertemplate": "Task=Task Number 2<br>Start=%{base}<br>Finish=%{x}<br>Human=%{y}<extra></extra>",
         "legendgroup": "Task Number 2",
         "marker": {
          "color": "#00cc96"
         },
         "name": "Task Number 2",
         "offsetgroup": "Task Number 2",
         "orientation": "h",
         "showlegend": true,
         "textposition": "auto",
         "type": "bar",
         "x": [
          172800000
         ],
         "xaxis": "x",
         "y": [
          "Anthony"
         ],
         "yaxis": "y"
        },
        {
         "alignmentgroup": "True",
         "base": [
          "2020-09-01"
         ],
         "hovertemplate": "Task=Task Number 3<br>Start=%{base}<br>Finish=%{x}<br>Human=%{y}<extra></extra>",
         "legendgroup": "Task Number 3",
         "marker": {
          "color": "#ab63fa"
         },
         "name": "Task Number 3",
         "offsetgroup": "Task Number 3",
         "orientation": "h",
         "showlegend": true,
         "textposition": "auto",
         "type": "bar",
         "x": [
          86400000
         ],
         "xaxis": "x",
         "y": [
          "Anthony"
         ],
         "yaxis": "y"
        },
        {
         "alignmentgroup": "True",
         "base": [
          "2020-09-03"
         ],
         "hovertemplate": "Task=Task Number 4<br>Start=%{base}<br>Finish=%{x}<br>Human=%{y}<extra></extra>",
         "legendgroup": "Task Number 4",
         "marker": {
          "color": "#FFA15A"
         },
         "name": "Task Number 4",
         "offsetgroup": "Task Number 4",
         "orientation": "h",
         "showlegend": true,
         "textposition": "auto",
         "type": "bar",
         "x": [
          172800000
         ],
         "xaxis": "x",
         "y": [
          "Anthony"
         ],
         "yaxis": "y"
        },
        {
         "alignmentgroup": "True",
         "base": [
          "2020-08-27"
         ],
         "hovertemplate": "Task=Task Number 5<br>Start=%{base}<br>Finish=%{x}<br>Human=%{y}<extra></extra>",
         "legendgroup": "Task Number 5",
         "marker": {
          "color": "#19d3f3"
         },
         "name": "Task Number 5",
         "offsetgroup": "Task Number 5",
         "orientation": "h",
         "showlegend": true,
         "textposition": "auto",
         "type": "bar",
         "x": [
          86400000
         ],
         "xaxis": "x",
         "y": [
          "George"
         ],
         "yaxis": "y"
        },
        {
         "alignmentgroup": "True",
         "base": [
          "2020-08-27"
         ],
         "hovertemplate": "Task=Task Number 6<br>Start=%{base}<br>Finish=%{x}<br>Human=%{y}<extra></extra>",
         "legendgroup": "Task Number 6",
         "marker": {
          "color": "#FF6692"
         },
         "name": "Task Number 6",
         "offsetgroup": "Task Number 6",
         "orientation": "h",
         "showlegend": true,
         "textposition": "auto",
         "type": "bar",
         "x": [
          172800000
         ],
         "xaxis": "x",
         "y": [
          "Ron"
         ],
         "yaxis": "y"
        },
        {
         "alignmentgroup": "True",
         "base": [
          "2020-08-29"
         ],
         "hovertemplate": "Task=Task Number 7<br>Start=%{base}<br>Finish=%{x}<br>Human=%{y}<extra></extra>",
         "legendgroup": "Task Number 7",
         "marker": {
          "color": "#B6E880"
         },
         "name": "Task Number 7",
         "offsetgroup": "Task Number 7",
         "orientation": "h",
         "showlegend": true,
         "textposition": "auto",
         "type": "bar",
         "x": [
          86400000
         ],
         "xaxis": "x",
         "y": [
          "George"
         ],
         "yaxis": "y"
        },
        {
         "alignmentgroup": "True",
         "base": [
          "2020-08-30"
         ],
         "hovertemplate": "Task=Task Number 8<br>Start=%{base}<br>Finish=%{x}<br>Human=%{y}<extra></extra>",
         "legendgroup": "Task Number 8",
         "marker": {
          "color": "#FF97FF"
         },
         "name": "Task Number 8",
         "offsetgroup": "Task Number 8",
         "orientation": "h",
         "showlegend": true,
         "textposition": "auto",
         "type": "bar",
         "x": [
          86400000
         ],
         "xaxis": "x",
         "y": [
          "Ron"
         ],
         "yaxis": "y"
        },
        {
         "alignmentgroup": "True",
         "base": [
          "2020-08-30"
         ],
         "hovertemplate": "Task=Task Number 9<br>Start=%{base}<br>Finish=%{x}<br>Human=%{y}<extra></extra>",
         "legendgroup": "Task Number 9",
         "marker": {
          "color": "#FECB52"
         },
         "name": "Task Number 9",
         "offsetgroup": "Task Number 9",
         "orientation": "h",
         "showlegend": true,
         "textposition": "auto",
         "type": "bar",
         "x": [
          172800000
         ],
         "xaxis": "x",
         "y": [
          "Elizabeth"
         ],
         "yaxis": "y"
        },
        {
         "alignmentgroup": "True",
         "base": [
          "2020-09-02"
         ],
         "hovertemplate": "Task=Task Number 10<br>Start=%{base}<br>Finish=%{x}<br>Human=%{y}<extra></extra>",
         "legendgroup": "Task Number 10",
         "marker": {
          "color": "#636efa"
         },
         "name": "Task Number 10",
         "offsetgroup": "Task Number 10",
         "orientation": "h",
         "showlegend": true,
         "textposition": "auto",
         "type": "bar",
         "x": [
          86400000
         ],
         "xaxis": "x",
         "y": [
          "Elizabeth"
         ],
         "yaxis": "y"
        },
        {
         "alignmentgroup": "True",
         "base": [
          "2020-08-31"
         ],
         "hovertemplate": "Task=Task Number 11<br>Start=%{base}<br>Finish=%{x}<br>Human=%{y}<extra></extra>",
         "legendgroup": "Task Number 11",
         "marker": {
          "color": "#EF553B"
         },
         "name": "Task Number 11",
         "offsetgroup": "Task Number 11",
         "orientation": "h",
         "showlegend": true,
         "textposition": "auto",
         "type": "bar",
         "x": [
          172800000
         ],
         "xaxis": "x",
         "y": [
          "George"
         ],
         "yaxis": "y"
        },
        {
         "alignmentgroup": "True",
         "base": [
          "2020-09-01"
         ],
         "hovertemplate": "Task=Task Number 12<br>Start=%{base}<br>Finish=%{x}<br>Human=%{y}<extra></extra>",
         "legendgroup": "Task Number 12",
         "marker": {
          "color": "#00cc96"
         },
         "name": "Task Number 12",
         "offsetgroup": "Task Number 12",
         "orientation": "h",
         "showlegend": true,
         "textposition": "auto",
         "type": "bar",
         "x": [
          86400000
         ],
         "xaxis": "x",
         "y": [
          "Ron"
         ],
         "yaxis": "y"
        },
        {
         "alignmentgroup": "True",
         "base": [
          "2020-09-03"
         ],
         "hovertemplate": "Task=Task Number 13<br>Start=%{base}<br>Finish=%{x}<br>Human=%{y}<extra></extra>",
         "legendgroup": "Task Number 13",
         "marker": {
          "color": "#ab63fa"
         },
         "name": "Task Number 13",
         "offsetgroup": "Task Number 13",
         "orientation": "h",
         "showlegend": true,
         "textposition": "auto",
         "type": "bar",
         "x": [
          172800000
         ],
         "xaxis": "x",
         "y": [
          "Ron"
         ],
         "yaxis": "y"
        },
        {
         "alignmentgroup": "True",
         "base": [
          "2020-09-04"
         ],
         "hovertemplate": "Task=Task Number 14<br>Start=%{base}<br>Finish=%{x}<br>Human=%{y}<extra></extra>",
         "legendgroup": "Task Number 14",
         "marker": {
          "color": "#FFA15A"
         },
         "name": "Task Number 14",
         "offsetgroup": "Task Number 14",
         "orientation": "h",
         "showlegend": true,
         "textposition": "auto",
         "type": "bar",
         "x": [
          172800000
         ],
         "xaxis": "x",
         "y": [
          "Elizabeth"
         ],
         "yaxis": "y"
        },
        {
         "alignmentgroup": "True",
         "base": [
          "2020-09-06"
         ],
         "hovertemplate": "Task=Task Number 15<br>Start=%{base}<br>Finish=%{x}<br>Human=%{y}<extra></extra>",
         "legendgroup": "Task Number 15",
         "marker": {
          "color": "#19d3f3"
         },
         "name": "Task Number 15",
         "offsetgroup": "Task Number 15",
         "orientation": "h",
         "showlegend": true,
         "textposition": "auto",
         "type": "bar",
         "x": [
          172800000
         ],
         "xaxis": "x",
         "y": [
          "Anthony"
         ],
         "yaxis": "y"
        },
        {
         "alignmentgroup": "True",
         "base": [
          "2020-09-07"
         ],
         "hovertemplate": "Task=Task Number 16<br>Start=%{base}<br>Finish=%{x}<br>Human=%{y}<extra></extra>",
         "legendgroup": "Task Number 16",
         "marker": {
          "color": "#FF6692"
         },
         "name": "Task Number 16",
         "offsetgroup": "Task Number 16",
         "orientation": "h",
         "showlegend": true,
         "textposition": "auto",
         "type": "bar",
         "x": [
          172800000
         ],
         "xaxis": "x",
         "y": [
          "Elizabeth"
         ],
         "yaxis": "y"
        },
        {
         "alignmentgroup": "True",
         "base": [
          "2020-09-03"
         ],
         "hovertemplate": "Task=Task Number 17<br>Start=%{base}<br>Finish=%{x}<br>Human=%{y}<extra></extra>",
         "legendgroup": "Task Number 17",
         "marker": {
          "color": "#B6E880"
         },
         "name": "Task Number 17",
         "offsetgroup": "Task Number 17",
         "orientation": "h",
         "showlegend": true,
         "textposition": "auto",
         "type": "bar",
         "x": [
          86400000
         ],
         "xaxis": "x",
         "y": [
          "George"
         ],
         "yaxis": "y"
        },
        {
         "alignmentgroup": "True",
         "base": [
          "2020-09-06"
         ],
         "hovertemplate": "Task=Task Number 18<br>Start=%{base}<br>Finish=%{x}<br>Human=%{y}<extra></extra>",
         "legendgroup": "Task Number 18",
         "marker": {
          "color": "#FF97FF"
         },
         "name": "Task Number 18",
         "offsetgroup": "Task Number 18",
         "orientation": "h",
         "showlegend": true,
         "textposition": "auto",
         "type": "bar",
         "x": [
          86400000
         ],
         "xaxis": "x",
         "y": [
          "Ron"
         ],
         "yaxis": "y"
        },
        {
         "alignmentgroup": "True",
         "base": [
          "2020-09-05"
         ],
         "hovertemplate": "Task=Task Number 19<br>Start=%{base}<br>Finish=%{x}<br>Human=%{y}<extra></extra>",
         "legendgroup": "Task Number 19",
         "marker": {
          "color": "#FECB52"
         },
         "name": "Task Number 19",
         "offsetgroup": "Task Number 19",
         "orientation": "h",
         "showlegend": true,
         "textposition": "auto",
         "type": "bar",
         "x": [
          172800000
         ],
         "xaxis": "x",
         "y": [
          "George"
         ],
         "yaxis": "y"
        },
        {
         "alignmentgroup": "True",
         "base": [
          "2020-09-08"
         ],
         "hovertemplate": "Task=Task Number 20<br>Start=%{base}<br>Finish=%{x}<br>Human=%{y}<extra></extra>",
         "legendgroup": "Task Number 20",
         "marker": {
          "color": "#636efa"
         },
         "name": "Task Number 20",
         "offsetgroup": "Task Number 20",
         "orientation": "h",
         "showlegend": true,
         "textposition": "auto",
         "type": "bar",
         "x": [
          86400000
         ],
         "xaxis": "x",
         "y": [
          "George"
         ],
         "yaxis": "y"
        },
        {
         "alignmentgroup": "True",
         "base": [
          "2020-09-09"
         ],
         "hovertemplate": "Task=Task Number 21<br>Start=%{base}<br>Finish=%{x}<br>Human=%{y}<extra></extra>",
         "legendgroup": "Task Number 21",
         "marker": {
          "color": "#EF553B"
         },
         "name": "Task Number 21",
         "offsetgroup": "Task Number 21",
         "orientation": "h",
         "showlegend": true,
         "textposition": "auto",
         "type": "bar",
         "x": [
          86400000
         ],
         "xaxis": "x",
         "y": [
          "Anthony"
         ],
         "yaxis": "y"
        },
        {
         "alignmentgroup": "True",
         "base": [
          "2020-09-10"
         ],
         "hovertemplate": "Task=Task Number 22<br>Start=%{base}<br>Finish=%{x}<br>Human=%{y}<extra></extra>",
         "legendgroup": "Task Number 22",
         "marker": {
          "color": "#00cc96"
         },
         "name": "Task Number 22",
         "offsetgroup": "Task Number 22",
         "orientation": "h",
         "showlegend": true,
         "textposition": "auto",
         "type": "bar",
         "x": [
          172800000
         ],
         "xaxis": "x",
         "y": [
          "Elizabeth"
         ],
         "yaxis": "y"
        },
        {
         "alignmentgroup": "True",
         "base": [
          "2020-09-08"
         ],
         "hovertemplate": "Task=Task Number 23<br>Start=%{base}<br>Finish=%{x}<br>Human=%{y}<extra></extra>",
         "legendgroup": "Task Number 23",
         "marker": {
          "color": "#ab63fa"
         },
         "name": "Task Number 23",
         "offsetgroup": "Task Number 23",
         "orientation": "h",
         "showlegend": true,
         "textposition": "auto",
         "type": "bar",
         "x": [
          172800000
         ],
         "xaxis": "x",
         "y": [
          "Ron"
         ],
         "yaxis": "y"
        },
        {
         "alignmentgroup": "True",
         "base": [
          "2020-09-11"
         ],
         "hovertemplate": "Task=Task Number 24<br>Start=%{base}<br>Finish=%{x}<br>Human=%{y}<extra></extra>",
         "legendgroup": "Task Number 24",
         "marker": {
          "color": "#FFA15A"
         },
         "name": "Task Number 24",
         "offsetgroup": "Task Number 24",
         "orientation": "h",
         "showlegend": true,
         "textposition": "auto",
         "type": "bar",
         "x": [
          172800000
         ],
         "xaxis": "x",
         "y": [
          "Anthony"
         ],
         "yaxis": "y"
        },
        {
         "alignmentgroup": "True",
         "base": [
          "2020-09-10"
         ],
         "hovertemplate": "Task=Task Number 25<br>Start=%{base}<br>Finish=%{x}<br>Human=%{y}<extra></extra>",
         "legendgroup": "Task Number 25",
         "marker": {
          "color": "#19d3f3"
         },
         "name": "Task Number 25",
         "offsetgroup": "Task Number 25",
         "orientation": "h",
         "showlegend": true,
         "textposition": "auto",
         "type": "bar",
         "x": [
          86400000
         ],
         "xaxis": "x",
         "y": [
          "George"
         ],
         "yaxis": "y"
        },
        {
         "alignmentgroup": "True",
         "base": [
          "2020-09-11"
         ],
         "hovertemplate": "Task=Task Number 26<br>Start=%{base}<br>Finish=%{x}<br>Human=%{y}<extra></extra>",
         "legendgroup": "Task Number 26",
         "marker": {
          "color": "#FF6692"
         },
         "name": "Task Number 26",
         "offsetgroup": "Task Number 26",
         "orientation": "h",
         "showlegend": true,
         "textposition": "auto",
         "type": "bar",
         "x": [
          86400000
         ],
         "xaxis": "x",
         "y": [
          "Ron"
         ],
         "yaxis": "y"
        },
        {
         "alignmentgroup": "True",
         "base": [
          "2020-09-12"
         ],
         "hovertemplate": "Task=Task Number 27<br>Start=%{base}<br>Finish=%{x}<br>Human=%{y}<extra></extra>",
         "legendgroup": "Task Number 27",
         "marker": {
          "color": "#B6E880"
         },
         "name": "Task Number 27",
         "offsetgroup": "Task Number 27",
         "orientation": "h",
         "showlegend": true,
         "textposition": "auto",
         "type": "bar",
         "x": [
          86400000
         ],
         "xaxis": "x",
         "y": [
          "George"
         ],
         "yaxis": "y"
        },
        {
         "alignmentgroup": "True",
         "base": [
          "2020-09-14"
         ],
         "hovertemplate": "Task=Task Number 28<br>Start=%{base}<br>Finish=%{x}<br>Human=%{y}<extra></extra>",
         "legendgroup": "Task Number 28",
         "marker": {
          "color": "#FF97FF"
         },
         "name": "Task Number 28",
         "offsetgroup": "Task Number 28",
         "orientation": "h",
         "showlegend": true,
         "textposition": "auto",
         "type": "bar",
         "x": [
          172800000
         ],
         "xaxis": "x",
         "y": [
          "Anthony"
         ],
         "yaxis": "y"
        },
        {
         "alignmentgroup": "True",
         "base": [
          "2020-09-13"
         ],
         "hovertemplate": "Task=Task Number 29<br>Start=%{base}<br>Finish=%{x}<br>Human=%{y}<extra></extra>",
         "legendgroup": "Task Number 29",
         "marker": {
          "color": "#FECB52"
         },
         "name": "Task Number 29",
         "offsetgroup": "Task Number 29",
         "orientation": "h",
         "showlegend": true,
         "textposition": "auto",
         "type": "bar",
         "x": [
          86400000
         ],
         "xaxis": "x",
         "y": [
          "Elizabeth"
         ],
         "yaxis": "y"
        },
        {
         "alignmentgroup": "True",
         "base": [
          "2020-09-17"
         ],
         "hovertemplate": "Task=Task Number 30<br>Start=%{base}<br>Finish=%{x}<br>Human=%{y}<extra></extra>",
         "legendgroup": "Task Number 30",
         "marker": {
          "color": "#636efa"
         },
         "name": "Task Number 30",
         "offsetgroup": "Task Number 30",
         "orientation": "h",
         "showlegend": true,
         "textposition": "auto",
         "type": "bar",
         "x": [
          86400000
         ],
         "xaxis": "x",
         "y": [
          "Anthony"
         ],
         "yaxis": "y"
        },
        {
         "alignmentgroup": "True",
         "base": [
          "2020-09-13"
         ],
         "hovertemplate": "Task=Task Number 31<br>Start=%{base}<br>Finish=%{x}<br>Human=%{y}<extra></extra>",
         "legendgroup": "Task Number 31",
         "marker": {
          "color": "#EF553B"
         },
         "name": "Task Number 31",
         "offsetgroup": "Task Number 31",
         "orientation": "h",
         "showlegend": true,
         "textposition": "auto",
         "type": "bar",
         "x": [
          172800000
         ],
         "xaxis": "x",
         "y": [
          "Ron"
         ],
         "yaxis": "y"
        },
        {
         "alignmentgroup": "True",
         "base": [
          "2020-09-16"
         ],
         "hovertemplate": "Task=Task Number 32<br>Start=%{base}<br>Finish=%{x}<br>Human=%{y}<extra></extra>",
         "legendgroup": "Task Number 32",
         "marker": {
          "color": "#00cc96"
         },
         "name": "Task Number 32",
         "offsetgroup": "Task Number 32",
         "orientation": "h",
         "showlegend": true,
         "textposition": "auto",
         "type": "bar",
         "x": [
          86400000
         ],
         "xaxis": "x",
         "y": [
          "Ron"
         ],
         "yaxis": "y"
        },
        {
         "alignmentgroup": "True",
         "base": [
          "2020-09-14"
         ],
         "hovertemplate": "Task=Task Number 33<br>Start=%{base}<br>Finish=%{x}<br>Human=%{y}<extra></extra>",
         "legendgroup": "Task Number 33",
         "marker": {
          "color": "#ab63fa"
         },
         "name": "Task Number 33",
         "offsetgroup": "Task Number 33",
         "orientation": "h",
         "showlegend": true,
         "textposition": "auto",
         "type": "bar",
         "x": [
          86400000
         ],
         "xaxis": "x",
         "y": [
          "George"
         ],
         "yaxis": "y"
        },
        {
         "alignmentgroup": "True",
         "base": [
          "2020-09-16"
         ],
         "hovertemplate": "Task=Task Number 34<br>Start=%{base}<br>Finish=%{x}<br>Human=%{y}<extra></extra>",
         "legendgroup": "Task Number 34",
         "marker": {
          "color": "#FFA15A"
         },
         "name": "Task Number 34",
         "offsetgroup": "Task Number 34",
         "orientation": "h",
         "showlegend": true,
         "textposition": "auto",
         "type": "bar",
         "x": [
          172800000
         ],
         "xaxis": "x",
         "y": [
          "George"
         ],
         "yaxis": "y"
        },
        {
         "alignmentgroup": "True",
         "base": [
          "2020-09-19"
         ],
         "hovertemplate": "Task=Task Number 35<br>Start=%{base}<br>Finish=%{x}<br>Human=%{y}<extra></extra>",
         "legendgroup": "Task Number 35",
         "marker": {
          "color": "#19d3f3"
         },
         "name": "Task Number 35",
         "offsetgroup": "Task Number 35",
         "orientation": "h",
         "showlegend": true,
         "textposition": "auto",
         "type": "bar",
         "x": [
          172800000
         ],
         "xaxis": "x",
         "y": [
          "Anthony"
         ],
         "yaxis": "y"
        },
        {
         "alignmentgroup": "True",
         "base": [
          "2020-09-15"
         ],
         "hovertemplate": "Task=Task Number 36<br>Start=%{base}<br>Finish=%{x}<br>Human=%{y}<extra></extra>",
         "legendgroup": "Task Number 36",
         "marker": {
          "color": "#FF6692"
         },
         "name": "Task Number 36",
         "offsetgroup": "Task Number 36",
         "orientation": "h",
         "showlegend": true,
         "textposition": "auto",
         "type": "bar",
         "x": [
          172800000
         ],
         "xaxis": "x",
         "y": [
          "Elizabeth"
         ],
         "yaxis": "y"
        },
        {
         "alignmentgroup": "True",
         "base": [
          "2020-09-18"
         ],
         "hovertemplate": "Task=Task Number 37<br>Start=%{base}<br>Finish=%{x}<br>Human=%{y}<extra></extra>",
         "legendgroup": "Task Number 37",
         "marker": {
          "color": "#B6E880"
         },
         "name": "Task Number 37",
         "offsetgroup": "Task Number 37",
         "orientation": "h",
         "showlegend": true,
         "textposition": "auto",
         "type": "bar",
         "x": [
          86400000
         ],
         "xaxis": "x",
         "y": [
          "Ron"
         ],
         "yaxis": "y"
        },
        {
         "alignmentgroup": "True",
         "base": [
          "2020-09-18"
         ],
         "hovertemplate": "Task=Task Number 38<br>Start=%{base}<br>Finish=%{x}<br>Human=%{y}<extra></extra>",
         "legendgroup": "Task Number 38",
         "marker": {
          "color": "#FF97FF"
         },
         "name": "Task Number 38",
         "offsetgroup": "Task Number 38",
         "orientation": "h",
         "showlegend": true,
         "textposition": "auto",
         "type": "bar",
         "x": [
          172800000
         ],
         "xaxis": "x",
         "y": [
          "Elizabeth"
         ],
         "yaxis": "y"
        },
        {
         "alignmentgroup": "True",
         "base": [
          "2020-09-20"
         ],
         "hovertemplate": "Task=Task Number 39<br>Start=%{base}<br>Finish=%{x}<br>Human=%{y}<extra></extra>",
         "legendgroup": "Task Number 39",
         "marker": {
          "color": "#FECB52"
         },
         "name": "Task Number 39",
         "offsetgroup": "Task Number 39",
         "orientation": "h",
         "showlegend": true,
         "textposition": "auto",
         "type": "bar",
         "x": [
          86400000
         ],
         "xaxis": "x",
         "y": [
          "Ron"
         ],
         "yaxis": "y"
        },
        {
         "alignmentgroup": "True",
         "base": [
          "2020-09-21"
         ],
         "hovertemplate": "Task=Task Number 40<br>Start=%{base}<br>Finish=%{x}<br>Human=%{y}<extra></extra>",
         "legendgroup": "Task Number 40",
         "marker": {
          "color": "#636efa"
         },
         "name": "Task Number 40",
         "offsetgroup": "Task Number 40",
         "orientation": "h",
         "showlegend": true,
         "textposition": "auto",
         "type": "bar",
         "x": [
          86400000
         ],
         "xaxis": "x",
         "y": [
          "Elizabeth"
         ],
         "yaxis": "y"
        },
        {
         "alignmentgroup": "True",
         "base": [
          "2020-09-19"
         ],
         "hovertemplate": "Task=Task Number 41<br>Start=%{base}<br>Finish=%{x}<br>Human=%{y}<extra></extra>",
         "legendgroup": "Task Number 41",
         "marker": {
          "color": "#EF553B"
         },
         "name": "Task Number 41",
         "offsetgroup": "Task Number 41",
         "orientation": "h",
         "showlegend": true,
         "textposition": "auto",
         "type": "bar",
         "x": [
          86400000
         ],
         "xaxis": "x",
         "y": [
          "George"
         ],
         "yaxis": "y"
        },
        {
         "alignmentgroup": "True",
         "base": [
          "2020-09-22"
         ],
         "hovertemplate": "Task=Task Number 42<br>Start=%{base}<br>Finish=%{x}<br>Human=%{y}<extra></extra>",
         "legendgroup": "Task Number 42",
         "marker": {
          "color": "#00cc96"
         },
         "name": "Task Number 42",
         "offsetgroup": "Task Number 42",
         "orientation": "h",
         "showlegend": true,
         "textposition": "auto",
         "type": "bar",
         "x": [
          172800000
         ],
         "xaxis": "x",
         "y": [
          "Anthony"
         ],
         "yaxis": "y"
        },
        {
         "alignmentgroup": "True",
         "base": [
          "2020-09-23"
         ],
         "hovertemplate": "Task=Task Number 43<br>Start=%{base}<br>Finish=%{x}<br>Human=%{y}<extra></extra>",
         "legendgroup": "Task Number 43",
         "marker": {
          "color": "#ab63fa"
         },
         "name": "Task Number 43",
         "offsetgroup": "Task Number 43",
         "orientation": "h",
         "showlegend": true,
         "textposition": "auto",
         "type": "bar",
         "x": [
          172800000
         ],
         "xaxis": "x",
         "y": [
          "Elizabeth"
         ],
         "yaxis": "y"
        },
        {
         "alignmentgroup": "True",
         "base": [
          "2020-09-21"
         ],
         "hovertemplate": "Task=Task Number 44<br>Start=%{base}<br>Finish=%{x}<br>Human=%{y}<extra></extra>",
         "legendgroup": "Task Number 44",
         "marker": {
          "color": "#FFA15A"
         },
         "name": "Task Number 44",
         "offsetgroup": "Task Number 44",
         "orientation": "h",
         "showlegend": true,
         "textposition": "auto",
         "type": "bar",
         "x": [
          172800000
         ],
         "xaxis": "x",
         "y": [
          "George"
         ],
         "yaxis": "y"
        },
        {
         "alignmentgroup": "True",
         "base": [
          "2020-09-25"
         ],
         "hovertemplate": "Task=Task Number 45<br>Start=%{base}<br>Finish=%{x}<br>Human=%{y}<extra></extra>",
         "legendgroup": "Task Number 45",
         "marker": {
          "color": "#19d3f3"
         },
         "name": "Task Number 45",
         "offsetgroup": "Task Number 45",
         "orientation": "h",
         "showlegend": true,
         "textposition": "auto",
         "type": "bar",
         "x": [
          172800000
         ],
         "xaxis": "x",
         "y": [
          "Anthony"
         ],
         "yaxis": "y"
        },
        {
         "alignmentgroup": "True",
         "base": [
          "2020-09-26"
         ],
         "hovertemplate": "Task=Task Number 46<br>Start=%{base}<br>Finish=%{x}<br>Human=%{y}<extra></extra>",
         "legendgroup": "Task Number 46",
         "marker": {
          "color": "#FF6692"
         },
         "name": "Task Number 46",
         "offsetgroup": "Task Number 46",
         "orientation": "h",
         "showlegend": true,
         "textposition": "auto",
         "type": "bar",
         "x": [
          172800000
         ],
         "xaxis": "x",
         "y": [
          "Elizabeth"
         ],
         "yaxis": "y"
        },
        {
         "alignmentgroup": "True",
         "base": [
          "2020-09-28"
         ],
         "hovertemplate": "Task=Task Number 47<br>Start=%{base}<br>Finish=%{x}<br>Human=%{y}<extra></extra>",
         "legendgroup": "Task Number 47",
         "marker": {
          "color": "#B6E880"
         },
         "name": "Task Number 47",
         "offsetgroup": "Task Number 47",
         "orientation": "h",
         "showlegend": true,
         "textposition": "auto",
         "type": "bar",
         "x": [
          86400000
         ],
         "xaxis": "x",
         "y": [
          "Anthony"
         ],
         "yaxis": "y"
        },
        {
         "alignmentgroup": "True",
         "base": [
          "2020-09-22"
         ],
         "hovertemplate": "Task=Task Number 48<br>Start=%{base}<br>Finish=%{x}<br>Human=%{y}<extra></extra>",
         "legendgroup": "Task Number 48",
         "marker": {
          "color": "#FF97FF"
         },
         "name": "Task Number 48",
         "offsetgroup": "Task Number 48",
         "orientation": "h",
         "showlegend": true,
         "textposition": "auto",
         "type": "bar",
         "x": [
          172800000
         ],
         "xaxis": "x",
         "y": [
          "Ron"
         ],
         "yaxis": "y"
        },
        {
         "alignmentgroup": "True",
         "base": [
          "2020-09-30"
         ],
         "hovertemplate": "Task=Task Number 49<br>Start=%{base}<br>Finish=%{x}<br>Human=%{y}<extra></extra>",
         "legendgroup": "Task Number 49",
         "marker": {
          "color": "#FECB52"
         },
         "name": "Task Number 49",
         "offsetgroup": "Task Number 49",
         "orientation": "h",
         "showlegend": true,
         "textposition": "auto",
         "type": "bar",
         "x": [
          86400000
         ],
         "xaxis": "x",
         "y": [
          "Anthony"
         ],
         "yaxis": "y"
        },
        {
         "alignmentgroup": "True",
         "base": [
          "2020-09-24"
         ],
         "hovertemplate": "Task=Task Number 50<br>Start=%{base}<br>Finish=%{x}<br>Human=%{y}<extra></extra>",
         "legendgroup": "Task Number 50",
         "marker": {
          "color": "#636efa"
         },
         "name": "Task Number 50",
         "offsetgroup": "Task Number 50",
         "orientation": "h",
         "showlegend": true,
         "textposition": "auto",
         "type": "bar",
         "x": [
          172800000
         ],
         "xaxis": "x",
         "y": [
          "George"
         ],
         "yaxis": "y"
        },
        {
         "alignmentgroup": "True",
         "base": [
          "2020-10-02"
         ],
         "hovertemplate": "Task=Task Number 51<br>Start=%{base}<br>Finish=%{x}<br>Human=%{y}<extra></extra>",
         "legendgroup": "Task Number 51",
         "marker": {
          "color": "#EF553B"
         },
         "name": "Task Number 51",
         "offsetgroup": "Task Number 51",
         "orientation": "h",
         "showlegend": true,
         "textposition": "auto",
         "type": "bar",
         "x": [
          172800000
         ],
         "xaxis": "x",
         "y": [
          "Anthony"
         ],
         "yaxis": "y"
        },
        {
         "alignmentgroup": "True",
         "base": [
          "2020-10-05"
         ],
         "hovertemplate": "Task=Task Number 52<br>Start=%{base}<br>Finish=%{x}<br>Human=%{y}<extra></extra>",
         "legendgroup": "Task Number 52",
         "marker": {
          "color": "#00cc96"
         },
         "name": "Task Number 52",
         "offsetgroup": "Task Number 52",
         "orientation": "h",
         "showlegend": true,
         "textposition": "auto",
         "type": "bar",
         "x": [
          172800000
         ],
         "xaxis": "x",
         "y": [
          "Anthony"
         ],
         "yaxis": "y"
        },
        {
         "alignmentgroup": "True",
         "base": [
          "2020-10-08"
         ],
         "hovertemplate": "Task=Task Number 53<br>Start=%{base}<br>Finish=%{x}<br>Human=%{y}<extra></extra>",
         "legendgroup": "Task Number 53",
         "marker": {
          "color": "#ab63fa"
         },
         "name": "Task Number 53",
         "offsetgroup": "Task Number 53",
         "orientation": "h",
         "showlegend": true,
         "textposition": "auto",
         "type": "bar",
         "x": [
          172800000
         ],
         "xaxis": "x",
         "y": [
          "Anthony"
         ],
         "yaxis": "y"
        },
        {
         "alignmentgroup": "True",
         "base": [
          "2020-09-25"
         ],
         "hovertemplate": "Task=Task Number 54<br>Start=%{base}<br>Finish=%{x}<br>Human=%{y}<extra></extra>",
         "legendgroup": "Task Number 54",
         "marker": {
          "color": "#FFA15A"
         },
         "name": "Task Number 54",
         "offsetgroup": "Task Number 54",
         "orientation": "h",
         "showlegend": true,
         "textposition": "auto",
         "type": "bar",
         "x": [
          86400000
         ],
         "xaxis": "x",
         "y": [
          "Ron"
         ],
         "yaxis": "y"
        },
        {
         "alignmentgroup": "True",
         "base": [
          "2020-10-11"
         ],
         "hovertemplate": "Task=Task Number 55<br>Start=%{base}<br>Finish=%{x}<br>Human=%{y}<extra></extra>",
         "legendgroup": "Task Number 55",
         "marker": {
          "color": "#19d3f3"
         },
         "name": "Task Number 55",
         "offsetgroup": "Task Number 55",
         "orientation": "h",
         "showlegend": true,
         "textposition": "auto",
         "type": "bar",
         "x": [
          172800000
         ],
         "xaxis": "x",
         "y": [
          "Anthony"
         ],
         "yaxis": "y"
        },
        {
         "alignmentgroup": "True",
         "base": [
          "2020-09-27"
         ],
         "hovertemplate": "Task=Task Number 56<br>Start=%{base}<br>Finish=%{x}<br>Human=%{y}<extra></extra>",
         "legendgroup": "Task Number 56",
         "marker": {
          "color": "#FF6692"
         },
         "name": "Task Number 56",
         "offsetgroup": "Task Number 56",
         "orientation": "h",
         "showlegend": true,
         "textposition": "auto",
         "type": "bar",
         "x": [
          172800000
         ],
         "xaxis": "x",
         "y": [
          "Ron"
         ],
         "yaxis": "y"
        },
        {
         "alignmentgroup": "True",
         "base": [
          "2020-09-30"
         ],
         "hovertemplate": "Task=Task Number 57<br>Start=%{base}<br>Finish=%{x}<br>Human=%{y}<extra></extra>",
         "legendgroup": "Task Number 57",
         "marker": {
          "color": "#B6E880"
         },
         "name": "Task Number 57",
         "offsetgroup": "Task Number 57",
         "orientation": "h",
         "showlegend": true,
         "textposition": "auto",
         "type": "bar",
         "x": [
          86400000
         ],
         "xaxis": "x",
         "y": [
          "Ron"
         ],
         "yaxis": "y"
        },
        {
         "alignmentgroup": "True",
         "base": [
          "2020-10-02"
         ],
         "hovertemplate": "Task=Task Number 58<br>Start=%{base}<br>Finish=%{x}<br>Human=%{y}<extra></extra>",
         "legendgroup": "Task Number 58",
         "marker": {
          "color": "#FF97FF"
         },
         "name": "Task Number 58",
         "offsetgroup": "Task Number 58",
         "orientation": "h",
         "showlegend": true,
         "textposition": "auto",
         "type": "bar",
         "x": [
          172800000
         ],
         "xaxis": "x",
         "y": [
          "Ron"
         ],
         "yaxis": "y"
        },
        {
         "alignmentgroup": "True",
         "base": [
          "2020-09-27"
         ],
         "hovertemplate": "Task=Task Number 59<br>Start=%{base}<br>Finish=%{x}<br>Human=%{y}<extra></extra>",
         "legendgroup": "Task Number 59",
         "marker": {
          "color": "#FECB52"
         },
         "name": "Task Number 59",
         "offsetgroup": "Task Number 59",
         "orientation": "h",
         "showlegend": true,
         "textposition": "auto",
         "type": "bar",
         "x": [
          86400000
         ],
         "xaxis": "x",
         "y": [
          "George"
         ],
         "yaxis": "y"
        },
        {
         "alignmentgroup": "True",
         "base": [
          "2020-09-29"
         ],
         "hovertemplate": "Task=Task Number 60<br>Start=%{base}<br>Finish=%{x}<br>Human=%{y}<extra></extra>",
         "legendgroup": "Task Number 60",
         "marker": {
          "color": "#636efa"
         },
         "name": "Task Number 60",
         "offsetgroup": "Task Number 60",
         "orientation": "h",
         "showlegend": true,
         "textposition": "auto",
         "type": "bar",
         "x": [
          86400000
         ],
         "xaxis": "x",
         "y": [
          "Elizabeth"
         ],
         "yaxis": "y"
        },
        {
         "alignmentgroup": "True",
         "base": [
          "2020-10-01"
         ],
         "hovertemplate": "Task=Task Number 61<br>Start=%{base}<br>Finish=%{x}<br>Human=%{y}<extra></extra>",
         "legendgroup": "Task Number 61",
         "marker": {
          "color": "#EF553B"
         },
         "name": "Task Number 61",
         "offsetgroup": "Task Number 61",
         "orientation": "h",
         "showlegend": true,
         "textposition": "auto",
         "type": "bar",
         "x": [
          86400000
         ],
         "xaxis": "x",
         "y": [
          "Elizabeth"
         ],
         "yaxis": "y"
        },
        {
         "alignmentgroup": "True",
         "base": [
          "2020-10-03"
         ],
         "hovertemplate": "Task=Task Number 62<br>Start=%{base}<br>Finish=%{x}<br>Human=%{y}<extra></extra>",
         "legendgroup": "Task Number 62",
         "marker": {
          "color": "#00cc96"
         },
         "name": "Task Number 62",
         "offsetgroup": "Task Number 62",
         "orientation": "h",
         "showlegend": true,
         "textposition": "auto",
         "type": "bar",
         "x": [
          86400000
         ],
         "xaxis": "x",
         "y": [
          "Elizabeth"
         ],
         "yaxis": "y"
        },
        {
         "alignmentgroup": "True",
         "base": [
          "2020-10-05"
         ],
         "hovertemplate": "Task=Task Number 63<br>Start=%{base}<br>Finish=%{x}<br>Human=%{y}<extra></extra>",
         "legendgroup": "Task Number 63",
         "marker": {
          "color": "#ab63fa"
         },
         "name": "Task Number 63",
         "offsetgroup": "Task Number 63",
         "orientation": "h",
         "showlegend": true,
         "textposition": "auto",
         "type": "bar",
         "x": [
          86400000
         ],
         "xaxis": "x",
         "y": [
          "Ron"
         ],
         "yaxis": "y"
        },
        {
         "alignmentgroup": "True",
         "base": [
          "2020-10-14"
         ],
         "hovertemplate": "Task=Task Number 64<br>Start=%{base}<br>Finish=%{x}<br>Human=%{y}<extra></extra>",
         "legendgroup": "Task Number 64",
         "marker": {
          "color": "#FFA15A"
         },
         "name": "Task Number 64",
         "offsetgroup": "Task Number 64",
         "orientation": "h",
         "showlegend": true,
         "textposition": "auto",
         "type": "bar",
         "x": [
          86400000
         ],
         "xaxis": "x",
         "y": [
          "Anthony"
         ],
         "yaxis": "y"
        },
        {
         "alignmentgroup": "True",
         "base": [
          null
         ],
         "hovertemplate": "Task=Task Number 65<br>Start=%{base}<br>Finish=%{x}<br>Human=%{y}<extra></extra>",
         "legendgroup": "Task Number 65",
         "marker": {
          "color": "#19d3f3"
         },
         "name": "Task Number 65",
         "offsetgroup": "Task Number 65",
         "orientation": "h",
         "showlegend": true,
         "textposition": "auto",
         "type": "bar",
         "x": [
          null
         ],
         "xaxis": "x",
         "y": [
          null
         ],
         "yaxis": "y"
        },
        {
         "alignmentgroup": "True",
         "base": [
          "2020-10-05"
         ],
         "hovertemplate": "Task=Task Number 66<br>Start=%{base}<br>Finish=%{x}<br>Human=%{y}<extra></extra>",
         "legendgroup": "Task Number 66",
         "marker": {
          "color": "#FF6692"
         },
         "name": "Task Number 66",
         "offsetgroup": "Task Number 66",
         "orientation": "h",
         "showlegend": true,
         "textposition": "auto",
         "type": "bar",
         "x": [
          86400000
         ],
         "xaxis": "x",
         "y": [
          "Elizabeth"
         ],
         "yaxis": "y"
        },
        {
         "alignmentgroup": "True",
         "base": [
          null
         ],
         "hovertemplate": "Task=Task Number 67<br>Start=%{base}<br>Finish=%{x}<br>Human=%{y}<extra></extra>",
         "legendgroup": "Task Number 67",
         "marker": {
          "color": "#B6E880"
         },
         "name": "Task Number 67",
         "offsetgroup": "Task Number 67",
         "orientation": "h",
         "showlegend": true,
         "textposition": "auto",
         "type": "bar",
         "x": [
          null
         ],
         "xaxis": "x",
         "y": [
          null
         ],
         "yaxis": "y"
        },
        {
         "alignmentgroup": "True",
         "base": [
          null
         ],
         "hovertemplate": "Task=Task Number 68<br>Start=%{base}<br>Finish=%{x}<br>Human=%{y}<extra></extra>",
         "legendgroup": "Task Number 68",
         "marker": {
          "color": "#FF97FF"
         },
         "name": "Task Number 68",
         "offsetgroup": "Task Number 68",
         "orientation": "h",
         "showlegend": true,
         "textposition": "auto",
         "type": "bar",
         "x": [
          null
         ],
         "xaxis": "x",
         "y": [
          null
         ],
         "yaxis": "y"
        },
        {
         "alignmentgroup": "True",
         "base": [
          null
         ],
         "hovertemplate": "Task=Task Number 69<br>Start=%{base}<br>Finish=%{x}<br>Human=%{y}<extra></extra>",
         "legendgroup": "Task Number 69",
         "marker": {
          "color": "#FECB52"
         },
         "name": "Task Number 69",
         "offsetgroup": "Task Number 69",
         "orientation": "h",
         "showlegend": true,
         "textposition": "auto",
         "type": "bar",
         "x": [
          null
         ],
         "xaxis": "x",
         "y": [
          null
         ],
         "yaxis": "y"
        },
        {
         "alignmentgroup": "True",
         "base": [
          null
         ],
         "hovertemplate": "Task=Task Number 70<br>Start=%{base}<br>Finish=%{x}<br>Human=%{y}<extra></extra>",
         "legendgroup": "Task Number 70",
         "marker": {
          "color": "#636efa"
         },
         "name": "Task Number 70",
         "offsetgroup": "Task Number 70",
         "orientation": "h",
         "showlegend": true,
         "textposition": "auto",
         "type": "bar",
         "x": [
          null
         ],
         "xaxis": "x",
         "y": [
          null
         ],
         "yaxis": "y"
        },
        {
         "alignmentgroup": "True",
         "base": [
          "2020-09-29"
         ],
         "hovertemplate": "Task=Task Number 71<br>Start=%{base}<br>Finish=%{x}<br>Human=%{y}<extra></extra>",
         "legendgroup": "Task Number 71",
         "marker": {
          "color": "#EF553B"
         },
         "name": "Task Number 71",
         "offsetgroup": "Task Number 71",
         "orientation": "h",
         "showlegend": true,
         "textposition": "auto",
         "type": "bar",
         "x": [
          86400000
         ],
         "xaxis": "x",
         "y": [
          "George"
         ],
         "yaxis": "y"
        },
        {
         "alignmentgroup": "True",
         "base": [
          "2020-10-01"
         ],
         "hovertemplate": "Task=Task Number 72<br>Start=%{base}<br>Finish=%{x}<br>Human=%{y}<extra></extra>",
         "legendgroup": "Task Number 72",
         "marker": {
          "color": "#00cc96"
         },
         "name": "Task Number 72",
         "offsetgroup": "Task Number 72",
         "orientation": "h",
         "showlegend": true,
         "textposition": "auto",
         "type": "bar",
         "x": [
          172800000
         ],
         "xaxis": "x",
         "y": [
          "George"
         ],
         "yaxis": "y"
        },
        {
         "alignmentgroup": "True",
         "base": [
          "2020-10-04"
         ],
         "hovertemplate": "Task=Task Number 73<br>Start=%{base}<br>Finish=%{x}<br>Human=%{y}<extra></extra>",
         "legendgroup": "Task Number 73",
         "marker": {
          "color": "#ab63fa"
         },
         "name": "Task Number 73",
         "offsetgroup": "Task Number 73",
         "orientation": "h",
         "showlegend": true,
         "textposition": "auto",
         "type": "bar",
         "x": [
          172800000
         ],
         "xaxis": "x",
         "y": [
          "George"
         ],
         "yaxis": "y"
        },
        {
         "alignmentgroup": "True",
         "base": [
          "2020-10-07"
         ],
         "hovertemplate": "Task=Task Number 74<br>Start=%{base}<br>Finish=%{x}<br>Human=%{y}<extra></extra>",
         "legendgroup": "Task Number 74",
         "marker": {
          "color": "#FFA15A"
         },
         "name": "Task Number 74",
         "offsetgroup": "Task Number 74",
         "orientation": "h",
         "showlegend": true,
         "textposition": "auto",
         "type": "bar",
         "x": [
          86400000
         ],
         "xaxis": "x",
         "y": [
          "George"
         ],
         "yaxis": "y"
        }
       ],
       "layout": {
        "barmode": "overlay",
        "height": 300,
        "legend": {
         "title": {
          "text": "Task"
         },
         "tracegroupgap": 0
        },
        "template": {
         "data": {
          "bar": [
           {
            "error_x": {
             "color": "#2a3f5f"
            },
            "error_y": {
             "color": "#2a3f5f"
            },
            "marker": {
             "line": {
              "color": "#E5ECF6",
              "width": 0.5
             }
            },
            "type": "bar"
           }
          ],
          "barpolar": [
           {
            "marker": {
             "line": {
              "color": "#E5ECF6",
              "width": 0.5
             }
            },
            "type": "barpolar"
           }
          ],
          "carpet": [
           {
            "aaxis": {
             "endlinecolor": "#2a3f5f",
             "gridcolor": "white",
             "linecolor": "white",
             "minorgridcolor": "white",
             "startlinecolor": "#2a3f5f"
            },
            "baxis": {
             "endlinecolor": "#2a3f5f",
             "gridcolor": "white",
             "linecolor": "white",
             "minorgridcolor": "white",
             "startlinecolor": "#2a3f5f"
            },
            "type": "carpet"
           }
          ],
          "choropleth": [
           {
            "colorbar": {
             "outlinewidth": 0,
             "ticks": ""
            },
            "type": "choropleth"
           }
          ],
          "contour": [
           {
            "colorbar": {
             "outlinewidth": 0,
             "ticks": ""
            },
            "colorscale": [
             [
              0,
              "#0d0887"
             ],
             [
              0.1111111111111111,
              "#46039f"
             ],
             [
              0.2222222222222222,
              "#7201a8"
             ],
             [
              0.3333333333333333,
              "#9c179e"
             ],
             [
              0.4444444444444444,
              "#bd3786"
             ],
             [
              0.5555555555555556,
              "#d8576b"
             ],
             [
              0.6666666666666666,
              "#ed7953"
             ],
             [
              0.7777777777777778,
              "#fb9f3a"
             ],
             [
              0.8888888888888888,
              "#fdca26"
             ],
             [
              1,
              "#f0f921"
             ]
            ],
            "type": "contour"
           }
          ],
          "contourcarpet": [
           {
            "colorbar": {
             "outlinewidth": 0,
             "ticks": ""
            },
            "type": "contourcarpet"
           }
          ],
          "heatmap": [
           {
            "colorbar": {
             "outlinewidth": 0,
             "ticks": ""
            },
            "colorscale": [
             [
              0,
              "#0d0887"
             ],
             [
              0.1111111111111111,
              "#46039f"
             ],
             [
              0.2222222222222222,
              "#7201a8"
             ],
             [
              0.3333333333333333,
              "#9c179e"
             ],
             [
              0.4444444444444444,
              "#bd3786"
             ],
             [
              0.5555555555555556,
              "#d8576b"
             ],
             [
              0.6666666666666666,
              "#ed7953"
             ],
             [
              0.7777777777777778,
              "#fb9f3a"
             ],
             [
              0.8888888888888888,
              "#fdca26"
             ],
             [
              1,
              "#f0f921"
             ]
            ],
            "type": "heatmap"
           }
          ],
          "heatmapgl": [
           {
            "colorbar": {
             "outlinewidth": 0,
             "ticks": ""
            },
            "colorscale": [
             [
              0,
              "#0d0887"
             ],
             [
              0.1111111111111111,
              "#46039f"
             ],
             [
              0.2222222222222222,
              "#7201a8"
             ],
             [
              0.3333333333333333,
              "#9c179e"
             ],
             [
              0.4444444444444444,
              "#bd3786"
             ],
             [
              0.5555555555555556,
              "#d8576b"
             ],
             [
              0.6666666666666666,
              "#ed7953"
             ],
             [
              0.7777777777777778,
              "#fb9f3a"
             ],
             [
              0.8888888888888888,
              "#fdca26"
             ],
             [
              1,
              "#f0f921"
             ]
            ],
            "type": "heatmapgl"
           }
          ],
          "histogram": [
           {
            "marker": {
             "colorbar": {
              "outlinewidth": 0,
              "ticks": ""
             }
            },
            "type": "histogram"
           }
          ],
          "histogram2d": [
           {
            "colorbar": {
             "outlinewidth": 0,
             "ticks": ""
            },
            "colorscale": [
             [
              0,
              "#0d0887"
             ],
             [
              0.1111111111111111,
              "#46039f"
             ],
             [
              0.2222222222222222,
              "#7201a8"
             ],
             [
              0.3333333333333333,
              "#9c179e"
             ],
             [
              0.4444444444444444,
              "#bd3786"
             ],
             [
              0.5555555555555556,
              "#d8576b"
             ],
             [
              0.6666666666666666,
              "#ed7953"
             ],
             [
              0.7777777777777778,
              "#fb9f3a"
             ],
             [
              0.8888888888888888,
              "#fdca26"
             ],
             [
              1,
              "#f0f921"
             ]
            ],
            "type": "histogram2d"
           }
          ],
          "histogram2dcontour": [
           {
            "colorbar": {
             "outlinewidth": 0,
             "ticks": ""
            },
            "colorscale": [
             [
              0,
              "#0d0887"
             ],
             [
              0.1111111111111111,
              "#46039f"
             ],
             [
              0.2222222222222222,
              "#7201a8"
             ],
             [
              0.3333333333333333,
              "#9c179e"
             ],
             [
              0.4444444444444444,
              "#bd3786"
             ],
             [
              0.5555555555555556,
              "#d8576b"
             ],
             [
              0.6666666666666666,
              "#ed7953"
             ],
             [
              0.7777777777777778,
              "#fb9f3a"
             ],
             [
              0.8888888888888888,
              "#fdca26"
             ],
             [
              1,
              "#f0f921"
             ]
            ],
            "type": "histogram2dcontour"
           }
          ],
          "mesh3d": [
           {
            "colorbar": {
             "outlinewidth": 0,
             "ticks": ""
            },
            "type": "mesh3d"
           }
          ],
          "parcoords": [
           {
            "line": {
             "colorbar": {
              "outlinewidth": 0,
              "ticks": ""
             }
            },
            "type": "parcoords"
           }
          ],
          "pie": [
           {
            "automargin": true,
            "type": "pie"
           }
          ],
          "scatter": [
           {
            "marker": {
             "colorbar": {
              "outlinewidth": 0,
              "ticks": ""
             }
            },
            "type": "scatter"
           }
          ],
          "scatter3d": [
           {
            "line": {
             "colorbar": {
              "outlinewidth": 0,
              "ticks": ""
             }
            },
            "marker": {
             "colorbar": {
              "outlinewidth": 0,
              "ticks": ""
             }
            },
            "type": "scatter3d"
           }
          ],
          "scattercarpet": [
           {
            "marker": {
             "colorbar": {
              "outlinewidth": 0,
              "ticks": ""
             }
            },
            "type": "scattercarpet"
           }
          ],
          "scattergeo": [
           {
            "marker": {
             "colorbar": {
              "outlinewidth": 0,
              "ticks": ""
             }
            },
            "type": "scattergeo"
           }
          ],
          "scattergl": [
           {
            "marker": {
             "colorbar": {
              "outlinewidth": 0,
              "ticks": ""
             }
            },
            "type": "scattergl"
           }
          ],
          "scattermapbox": [
           {
            "marker": {
             "colorbar": {
              "outlinewidth": 0,
              "ticks": ""
             }
            },
            "type": "scattermapbox"
           }
          ],
          "scatterpolar": [
           {
            "marker": {
             "colorbar": {
              "outlinewidth": 0,
              "ticks": ""
             }
            },
            "type": "scatterpolar"
           }
          ],
          "scatterpolargl": [
           {
            "marker": {
             "colorbar": {
              "outlinewidth": 0,
              "ticks": ""
             }
            },
            "type": "scatterpolargl"
           }
          ],
          "scatterternary": [
           {
            "marker": {
             "colorbar": {
              "outlinewidth": 0,
              "ticks": ""
             }
            },
            "type": "scatterternary"
           }
          ],
          "surface": [
           {
            "colorbar": {
             "outlinewidth": 0,
             "ticks": ""
            },
            "colorscale": [
             [
              0,
              "#0d0887"
             ],
             [
              0.1111111111111111,
              "#46039f"
             ],
             [
              0.2222222222222222,
              "#7201a8"
             ],
             [
              0.3333333333333333,
              "#9c179e"
             ],
             [
              0.4444444444444444,
              "#bd3786"
             ],
             [
              0.5555555555555556,
              "#d8576b"
             ],
             [
              0.6666666666666666,
              "#ed7953"
             ],
             [
              0.7777777777777778,
              "#fb9f3a"
             ],
             [
              0.8888888888888888,
              "#fdca26"
             ],
             [
              1,
              "#f0f921"
             ]
            ],
            "type": "surface"
           }
          ],
          "table": [
           {
            "cells": {
             "fill": {
              "color": "#EBF0F8"
             },
             "line": {
              "color": "white"
             }
            },
            "header": {
             "fill": {
              "color": "#C8D4E3"
             },
             "line": {
              "color": "white"
             }
            },
            "type": "table"
           }
          ]
         },
         "layout": {
          "annotationdefaults": {
           "arrowcolor": "#2a3f5f",
           "arrowhead": 0,
           "arrowwidth": 1
          },
          "coloraxis": {
           "colorbar": {
            "outlinewidth": 0,
            "ticks": ""
           }
          },
          "colorscale": {
           "diverging": [
            [
             0,
             "#8e0152"
            ],
            [
             0.1,
             "#c51b7d"
            ],
            [
             0.2,
             "#de77ae"
            ],
            [
             0.3,
             "#f1b6da"
            ],
            [
             0.4,
             "#fde0ef"
            ],
            [
             0.5,
             "#f7f7f7"
            ],
            [
             0.6,
             "#e6f5d0"
            ],
            [
             0.7,
             "#b8e186"
            ],
            [
             0.8,
             "#7fbc41"
            ],
            [
             0.9,
             "#4d9221"
            ],
            [
             1,
             "#276419"
            ]
           ],
           "sequential": [
            [
             0,
             "#0d0887"
            ],
            [
             0.1111111111111111,
             "#46039f"
            ],
            [
             0.2222222222222222,
             "#7201a8"
            ],
            [
             0.3333333333333333,
             "#9c179e"
            ],
            [
             0.4444444444444444,
             "#bd3786"
            ],
            [
             0.5555555555555556,
             "#d8576b"
            ],
            [
             0.6666666666666666,
             "#ed7953"
            ],
            [
             0.7777777777777778,
             "#fb9f3a"
            ],
            [
             0.8888888888888888,
             "#fdca26"
            ],
            [
             1,
             "#f0f921"
            ]
           ],
           "sequentialminus": [
            [
             0,
             "#0d0887"
            ],
            [
             0.1111111111111111,
             "#46039f"
            ],
            [
             0.2222222222222222,
             "#7201a8"
            ],
            [
             0.3333333333333333,
             "#9c179e"
            ],
            [
             0.4444444444444444,
             "#bd3786"
            ],
            [
             0.5555555555555556,
             "#d8576b"
            ],
            [
             0.6666666666666666,
             "#ed7953"
            ],
            [
             0.7777777777777778,
             "#fb9f3a"
            ],
            [
             0.8888888888888888,
             "#fdca26"
            ],
            [
             1,
             "#f0f921"
            ]
           ]
          },
          "colorway": [
           "#636efa",
           "#EF553B",
           "#00cc96",
           "#ab63fa",
           "#FFA15A",
           "#19d3f3",
           "#FF6692",
           "#B6E880",
           "#FF97FF",
           "#FECB52"
          ],
          "font": {
           "color": "#2a3f5f"
          },
          "geo": {
           "bgcolor": "white",
           "lakecolor": "white",
           "landcolor": "#E5ECF6",
           "showlakes": true,
           "showland": true,
           "subunitcolor": "white"
          },
          "hoverlabel": {
           "align": "left"
          },
          "hovermode": "closest",
          "mapbox": {
           "style": "light"
          },
          "paper_bgcolor": "white",
          "plot_bgcolor": "#E5ECF6",
          "polar": {
           "angularaxis": {
            "gridcolor": "white",
            "linecolor": "white",
            "ticks": ""
           },
           "bgcolor": "#E5ECF6",
           "radialaxis": {
            "gridcolor": "white",
            "linecolor": "white",
            "ticks": ""
           }
          },
          "scene": {
           "xaxis": {
            "backgroundcolor": "#E5ECF6",
            "gridcolor": "white",
            "gridwidth": 2,
            "linecolor": "white",
            "showbackground": true,
            "ticks": "",
            "zerolinecolor": "white"
           },
           "yaxis": {
            "backgroundcolor": "#E5ECF6",
            "gridcolor": "white",
            "gridwidth": 2,
            "linecolor": "white",
            "showbackground": true,
            "ticks": "",
            "zerolinecolor": "white"
           },
           "zaxis": {
            "backgroundcolor": "#E5ECF6",
            "gridcolor": "white",
            "gridwidth": 2,
            "linecolor": "white",
            "showbackground": true,
            "ticks": "",
            "zerolinecolor": "white"
           }
          },
          "shapedefaults": {
           "line": {
            "color": "#2a3f5f"
           }
          },
          "ternary": {
           "aaxis": {
            "gridcolor": "white",
            "linecolor": "white",
            "ticks": ""
           },
           "baxis": {
            "gridcolor": "white",
            "linecolor": "white",
            "ticks": ""
           },
           "bgcolor": "#E5ECF6",
           "caxis": {
            "gridcolor": "white",
            "linecolor": "white",
            "ticks": ""
           }
          },
          "title": {
           "x": 0.05
          },
          "xaxis": {
           "automargin": true,
           "gridcolor": "white",
           "linecolor": "white",
           "ticks": "",
           "title": {
            "standoff": 15
           },
           "zerolinecolor": "white",
           "zerolinewidth": 2
          },
          "yaxis": {
           "automargin": true,
           "gridcolor": "white",
           "linecolor": "white",
           "ticks": "",
           "title": {
            "standoff": 15
           },
           "zerolinecolor": "white",
           "zerolinewidth": 2
          }
         }
        },
        "title": {
         "text": "Optimal Schedule"
        },
        "xaxis": {
         "anchor": "y",
         "domain": [
          0,
          1
         ],
         "type": "date"
        },
        "yaxis": {
         "anchor": "x",
         "domain": [
          0,
          1
         ],
         "title": {
          "text": "Human"
         }
        }
       }
      },
      "text/html": [
       "<div>\n",
       "        \n",
       "        \n",
       "            <div id=\"6c3f26ef-1a5b-4a14-ba89-573b7a5c6c37\" class=\"plotly-graph-div\" style=\"height:300px; width:100%;\"></div>\n",
       "            <script type=\"text/javascript\">\n",
       "                require([\"plotly\"], function(Plotly) {\n",
       "                    window.PLOTLYENV=window.PLOTLYENV || {};\n",
       "                    \n",
       "                if (document.getElementById(\"6c3f26ef-1a5b-4a14-ba89-573b7a5c6c37\")) {\n",
       "                    Plotly.newPlot(\n",
       "                        '6c3f26ef-1a5b-4a14-ba89-573b7a5c6c37',\n",
       "                        [{\"alignmentgroup\": \"True\", \"base\": [\"2020-08-27\"], \"hovertemplate\": \"Task=Task Number 0<br>Start=%{base}<br>Finish=%{x}<br>Human=%{y}<extra></extra>\", \"legendgroup\": \"Task Number 0\", \"marker\": {\"color\": \"#636efa\"}, \"name\": \"Task Number 0\", \"offsetgroup\": \"Task Number 0\", \"orientation\": \"h\", \"showlegend\": true, \"textposition\": \"auto\", \"type\": \"bar\", \"x\": [172800000.0], \"xaxis\": \"x\", \"y\": [\"Elizabeth\"], \"yaxis\": \"y\"}, {\"alignmentgroup\": \"True\", \"base\": [\"2020-08-27\"], \"hovertemplate\": \"Task=Task Number 1<br>Start=%{base}<br>Finish=%{x}<br>Human=%{y}<extra></extra>\", \"legendgroup\": \"Task Number 1\", \"marker\": {\"color\": \"#EF553B\"}, \"name\": \"Task Number 1\", \"offsetgroup\": \"Task Number 1\", \"orientation\": \"h\", \"showlegend\": true, \"textposition\": \"auto\", \"type\": \"bar\", \"x\": [86400000.0], \"xaxis\": \"x\", \"y\": [\"Anthony\"], \"yaxis\": \"y\"}, {\"alignmentgroup\": \"True\", \"base\": [\"2020-08-29\"], \"hovertemplate\": \"Task=Task Number 2<br>Start=%{base}<br>Finish=%{x}<br>Human=%{y}<extra></extra>\", \"legendgroup\": \"Task Number 2\", \"marker\": {\"color\": \"#00cc96\"}, \"name\": \"Task Number 2\", \"offsetgroup\": \"Task Number 2\", \"orientation\": \"h\", \"showlegend\": true, \"textposition\": \"auto\", \"type\": \"bar\", \"x\": [172800000.0], \"xaxis\": \"x\", \"y\": [\"Anthony\"], \"yaxis\": \"y\"}, {\"alignmentgroup\": \"True\", \"base\": [\"2020-09-01\"], \"hovertemplate\": \"Task=Task Number 3<br>Start=%{base}<br>Finish=%{x}<br>Human=%{y}<extra></extra>\", \"legendgroup\": \"Task Number 3\", \"marker\": {\"color\": \"#ab63fa\"}, \"name\": \"Task Number 3\", \"offsetgroup\": \"Task Number 3\", \"orientation\": \"h\", \"showlegend\": true, \"textposition\": \"auto\", \"type\": \"bar\", \"x\": [86400000.0], \"xaxis\": \"x\", \"y\": [\"Anthony\"], \"yaxis\": \"y\"}, {\"alignmentgroup\": \"True\", \"base\": [\"2020-09-03\"], \"hovertemplate\": \"Task=Task Number 4<br>Start=%{base}<br>Finish=%{x}<br>Human=%{y}<extra></extra>\", \"legendgroup\": \"Task Number 4\", \"marker\": {\"color\": \"#FFA15A\"}, \"name\": \"Task Number 4\", \"offsetgroup\": \"Task Number 4\", \"orientation\": \"h\", \"showlegend\": true, \"textposition\": \"auto\", \"type\": \"bar\", \"x\": [172800000.0], \"xaxis\": \"x\", \"y\": [\"Anthony\"], \"yaxis\": \"y\"}, {\"alignmentgroup\": \"True\", \"base\": [\"2020-08-27\"], \"hovertemplate\": \"Task=Task Number 5<br>Start=%{base}<br>Finish=%{x}<br>Human=%{y}<extra></extra>\", \"legendgroup\": \"Task Number 5\", \"marker\": {\"color\": \"#19d3f3\"}, \"name\": \"Task Number 5\", \"offsetgroup\": \"Task Number 5\", \"orientation\": \"h\", \"showlegend\": true, \"textposition\": \"auto\", \"type\": \"bar\", \"x\": [86400000.0], \"xaxis\": \"x\", \"y\": [\"George\"], \"yaxis\": \"y\"}, {\"alignmentgroup\": \"True\", \"base\": [\"2020-08-27\"], \"hovertemplate\": \"Task=Task Number 6<br>Start=%{base}<br>Finish=%{x}<br>Human=%{y}<extra></extra>\", \"legendgroup\": \"Task Number 6\", \"marker\": {\"color\": \"#FF6692\"}, \"name\": \"Task Number 6\", \"offsetgroup\": \"Task Number 6\", \"orientation\": \"h\", \"showlegend\": true, \"textposition\": \"auto\", \"type\": \"bar\", \"x\": [172800000.0], \"xaxis\": \"x\", \"y\": [\"Ron\"], \"yaxis\": \"y\"}, {\"alignmentgroup\": \"True\", \"base\": [\"2020-08-29\"], \"hovertemplate\": \"Task=Task Number 7<br>Start=%{base}<br>Finish=%{x}<br>Human=%{y}<extra></extra>\", \"legendgroup\": \"Task Number 7\", \"marker\": {\"color\": \"#B6E880\"}, \"name\": \"Task Number 7\", \"offsetgroup\": \"Task Number 7\", \"orientation\": \"h\", \"showlegend\": true, \"textposition\": \"auto\", \"type\": \"bar\", \"x\": [86400000.0], \"xaxis\": \"x\", \"y\": [\"George\"], \"yaxis\": \"y\"}, {\"alignmentgroup\": \"True\", \"base\": [\"2020-08-30\"], \"hovertemplate\": \"Task=Task Number 8<br>Start=%{base}<br>Finish=%{x}<br>Human=%{y}<extra></extra>\", \"legendgroup\": \"Task Number 8\", \"marker\": {\"color\": \"#FF97FF\"}, \"name\": \"Task Number 8\", \"offsetgroup\": \"Task Number 8\", \"orientation\": \"h\", \"showlegend\": true, \"textposition\": \"auto\", \"type\": \"bar\", \"x\": [86400000.0], \"xaxis\": \"x\", \"y\": [\"Ron\"], \"yaxis\": \"y\"}, {\"alignmentgroup\": \"True\", \"base\": [\"2020-08-30\"], \"hovertemplate\": \"Task=Task Number 9<br>Start=%{base}<br>Finish=%{x}<br>Human=%{y}<extra></extra>\", \"legendgroup\": \"Task Number 9\", \"marker\": {\"color\": \"#FECB52\"}, \"name\": \"Task Number 9\", \"offsetgroup\": \"Task Number 9\", \"orientation\": \"h\", \"showlegend\": true, \"textposition\": \"auto\", \"type\": \"bar\", \"x\": [172800000.0], \"xaxis\": \"x\", \"y\": [\"Elizabeth\"], \"yaxis\": \"y\"}, {\"alignmentgroup\": \"True\", \"base\": [\"2020-09-02\"], \"hovertemplate\": \"Task=Task Number 10<br>Start=%{base}<br>Finish=%{x}<br>Human=%{y}<extra></extra>\", \"legendgroup\": \"Task Number 10\", \"marker\": {\"color\": \"#636efa\"}, \"name\": \"Task Number 10\", \"offsetgroup\": \"Task Number 10\", \"orientation\": \"h\", \"showlegend\": true, \"textposition\": \"auto\", \"type\": \"bar\", \"x\": [86400000.0], \"xaxis\": \"x\", \"y\": [\"Elizabeth\"], \"yaxis\": \"y\"}, {\"alignmentgroup\": \"True\", \"base\": [\"2020-08-31\"], \"hovertemplate\": \"Task=Task Number 11<br>Start=%{base}<br>Finish=%{x}<br>Human=%{y}<extra></extra>\", \"legendgroup\": \"Task Number 11\", \"marker\": {\"color\": \"#EF553B\"}, \"name\": \"Task Number 11\", \"offsetgroup\": \"Task Number 11\", \"orientation\": \"h\", \"showlegend\": true, \"textposition\": \"auto\", \"type\": \"bar\", \"x\": [172800000.0], \"xaxis\": \"x\", \"y\": [\"George\"], \"yaxis\": \"y\"}, {\"alignmentgroup\": \"True\", \"base\": [\"2020-09-01\"], \"hovertemplate\": \"Task=Task Number 12<br>Start=%{base}<br>Finish=%{x}<br>Human=%{y}<extra></extra>\", \"legendgroup\": \"Task Number 12\", \"marker\": {\"color\": \"#00cc96\"}, \"name\": \"Task Number 12\", \"offsetgroup\": \"Task Number 12\", \"orientation\": \"h\", \"showlegend\": true, \"textposition\": \"auto\", \"type\": \"bar\", \"x\": [86400000.0], \"xaxis\": \"x\", \"y\": [\"Ron\"], \"yaxis\": \"y\"}, {\"alignmentgroup\": \"True\", \"base\": [\"2020-09-03\"], \"hovertemplate\": \"Task=Task Number 13<br>Start=%{base}<br>Finish=%{x}<br>Human=%{y}<extra></extra>\", \"legendgroup\": \"Task Number 13\", \"marker\": {\"color\": \"#ab63fa\"}, \"name\": \"Task Number 13\", \"offsetgroup\": \"Task Number 13\", \"orientation\": \"h\", \"showlegend\": true, \"textposition\": \"auto\", \"type\": \"bar\", \"x\": [172800000.0], \"xaxis\": \"x\", \"y\": [\"Ron\"], \"yaxis\": \"y\"}, {\"alignmentgroup\": \"True\", \"base\": [\"2020-09-04\"], \"hovertemplate\": \"Task=Task Number 14<br>Start=%{base}<br>Finish=%{x}<br>Human=%{y}<extra></extra>\", \"legendgroup\": \"Task Number 14\", \"marker\": {\"color\": \"#FFA15A\"}, \"name\": \"Task Number 14\", \"offsetgroup\": \"Task Number 14\", \"orientation\": \"h\", \"showlegend\": true, \"textposition\": \"auto\", \"type\": \"bar\", \"x\": [172800000.0], \"xaxis\": \"x\", \"y\": [\"Elizabeth\"], \"yaxis\": \"y\"}, {\"alignmentgroup\": \"True\", \"base\": [\"2020-09-06\"], \"hovertemplate\": \"Task=Task Number 15<br>Start=%{base}<br>Finish=%{x}<br>Human=%{y}<extra></extra>\", \"legendgroup\": \"Task Number 15\", \"marker\": {\"color\": \"#19d3f3\"}, \"name\": \"Task Number 15\", \"offsetgroup\": \"Task Number 15\", \"orientation\": \"h\", \"showlegend\": true, \"textposition\": \"auto\", \"type\": \"bar\", \"x\": [172800000.0], \"xaxis\": \"x\", \"y\": [\"Anthony\"], \"yaxis\": \"y\"}, {\"alignmentgroup\": \"True\", \"base\": [\"2020-09-07\"], \"hovertemplate\": \"Task=Task Number 16<br>Start=%{base}<br>Finish=%{x}<br>Human=%{y}<extra></extra>\", \"legendgroup\": \"Task Number 16\", \"marker\": {\"color\": \"#FF6692\"}, \"name\": \"Task Number 16\", \"offsetgroup\": \"Task Number 16\", \"orientation\": \"h\", \"showlegend\": true, \"textposition\": \"auto\", \"type\": \"bar\", \"x\": [172800000.0], \"xaxis\": \"x\", \"y\": [\"Elizabeth\"], \"yaxis\": \"y\"}, {\"alignmentgroup\": \"True\", \"base\": [\"2020-09-03\"], \"hovertemplate\": \"Task=Task Number 17<br>Start=%{base}<br>Finish=%{x}<br>Human=%{y}<extra></extra>\", \"legendgroup\": \"Task Number 17\", \"marker\": {\"color\": \"#B6E880\"}, \"name\": \"Task Number 17\", \"offsetgroup\": \"Task Number 17\", \"orientation\": \"h\", \"showlegend\": true, \"textposition\": \"auto\", \"type\": \"bar\", \"x\": [86400000.0], \"xaxis\": \"x\", \"y\": [\"George\"], \"yaxis\": \"y\"}, {\"alignmentgroup\": \"True\", \"base\": [\"2020-09-06\"], \"hovertemplate\": \"Task=Task Number 18<br>Start=%{base}<br>Finish=%{x}<br>Human=%{y}<extra></extra>\", \"legendgroup\": \"Task Number 18\", \"marker\": {\"color\": \"#FF97FF\"}, \"name\": \"Task Number 18\", \"offsetgroup\": \"Task Number 18\", \"orientation\": \"h\", \"showlegend\": true, \"textposition\": \"auto\", \"type\": \"bar\", \"x\": [86400000.0], \"xaxis\": \"x\", \"y\": [\"Ron\"], \"yaxis\": \"y\"}, {\"alignmentgroup\": \"True\", \"base\": [\"2020-09-05\"], \"hovertemplate\": \"Task=Task Number 19<br>Start=%{base}<br>Finish=%{x}<br>Human=%{y}<extra></extra>\", \"legendgroup\": \"Task Number 19\", \"marker\": {\"color\": \"#FECB52\"}, \"name\": \"Task Number 19\", \"offsetgroup\": \"Task Number 19\", \"orientation\": \"h\", \"showlegend\": true, \"textposition\": \"auto\", \"type\": \"bar\", \"x\": [172800000.0], \"xaxis\": \"x\", \"y\": [\"George\"], \"yaxis\": \"y\"}, {\"alignmentgroup\": \"True\", \"base\": [\"2020-09-08\"], \"hovertemplate\": \"Task=Task Number 20<br>Start=%{base}<br>Finish=%{x}<br>Human=%{y}<extra></extra>\", \"legendgroup\": \"Task Number 20\", \"marker\": {\"color\": \"#636efa\"}, \"name\": \"Task Number 20\", \"offsetgroup\": \"Task Number 20\", \"orientation\": \"h\", \"showlegend\": true, \"textposition\": \"auto\", \"type\": \"bar\", \"x\": [86400000.0], \"xaxis\": \"x\", \"y\": [\"George\"], \"yaxis\": \"y\"}, {\"alignmentgroup\": \"True\", \"base\": [\"2020-09-09\"], \"hovertemplate\": \"Task=Task Number 21<br>Start=%{base}<br>Finish=%{x}<br>Human=%{y}<extra></extra>\", \"legendgroup\": \"Task Number 21\", \"marker\": {\"color\": \"#EF553B\"}, \"name\": \"Task Number 21\", \"offsetgroup\": \"Task Number 21\", \"orientation\": \"h\", \"showlegend\": true, \"textposition\": \"auto\", \"type\": \"bar\", \"x\": [86400000.0], \"xaxis\": \"x\", \"y\": [\"Anthony\"], \"yaxis\": \"y\"}, {\"alignmentgroup\": \"True\", \"base\": [\"2020-09-10\"], \"hovertemplate\": \"Task=Task Number 22<br>Start=%{base}<br>Finish=%{x}<br>Human=%{y}<extra></extra>\", \"legendgroup\": \"Task Number 22\", \"marker\": {\"color\": \"#00cc96\"}, \"name\": \"Task Number 22\", \"offsetgroup\": \"Task Number 22\", \"orientation\": \"h\", \"showlegend\": true, \"textposition\": \"auto\", \"type\": \"bar\", \"x\": [172800000.0], \"xaxis\": \"x\", \"y\": [\"Elizabeth\"], \"yaxis\": \"y\"}, {\"alignmentgroup\": \"True\", \"base\": [\"2020-09-08\"], \"hovertemplate\": \"Task=Task Number 23<br>Start=%{base}<br>Finish=%{x}<br>Human=%{y}<extra></extra>\", \"legendgroup\": \"Task Number 23\", \"marker\": {\"color\": \"#ab63fa\"}, \"name\": \"Task Number 23\", \"offsetgroup\": \"Task Number 23\", \"orientation\": \"h\", \"showlegend\": true, \"textposition\": \"auto\", \"type\": \"bar\", \"x\": [172800000.0], \"xaxis\": \"x\", \"y\": [\"Ron\"], \"yaxis\": \"y\"}, {\"alignmentgroup\": \"True\", \"base\": [\"2020-09-11\"], \"hovertemplate\": \"Task=Task Number 24<br>Start=%{base}<br>Finish=%{x}<br>Human=%{y}<extra></extra>\", \"legendgroup\": \"Task Number 24\", \"marker\": {\"color\": \"#FFA15A\"}, \"name\": \"Task Number 24\", \"offsetgroup\": \"Task Number 24\", \"orientation\": \"h\", \"showlegend\": true, \"textposition\": \"auto\", \"type\": \"bar\", \"x\": [172800000.0], \"xaxis\": \"x\", \"y\": [\"Anthony\"], \"yaxis\": \"y\"}, {\"alignmentgroup\": \"True\", \"base\": [\"2020-09-10\"], \"hovertemplate\": \"Task=Task Number 25<br>Start=%{base}<br>Finish=%{x}<br>Human=%{y}<extra></extra>\", \"legendgroup\": \"Task Number 25\", \"marker\": {\"color\": \"#19d3f3\"}, \"name\": \"Task Number 25\", \"offsetgroup\": \"Task Number 25\", \"orientation\": \"h\", \"showlegend\": true, \"textposition\": \"auto\", \"type\": \"bar\", \"x\": [86400000.0], \"xaxis\": \"x\", \"y\": [\"George\"], \"yaxis\": \"y\"}, {\"alignmentgroup\": \"True\", \"base\": [\"2020-09-11\"], \"hovertemplate\": \"Task=Task Number 26<br>Start=%{base}<br>Finish=%{x}<br>Human=%{y}<extra></extra>\", \"legendgroup\": \"Task Number 26\", \"marker\": {\"color\": \"#FF6692\"}, \"name\": \"Task Number 26\", \"offsetgroup\": \"Task Number 26\", \"orientation\": \"h\", \"showlegend\": true, \"textposition\": \"auto\", \"type\": \"bar\", \"x\": [86400000.0], \"xaxis\": \"x\", \"y\": [\"Ron\"], \"yaxis\": \"y\"}, {\"alignmentgroup\": \"True\", \"base\": [\"2020-09-12\"], \"hovertemplate\": \"Task=Task Number 27<br>Start=%{base}<br>Finish=%{x}<br>Human=%{y}<extra></extra>\", \"legendgroup\": \"Task Number 27\", \"marker\": {\"color\": \"#B6E880\"}, \"name\": \"Task Number 27\", \"offsetgroup\": \"Task Number 27\", \"orientation\": \"h\", \"showlegend\": true, \"textposition\": \"auto\", \"type\": \"bar\", \"x\": [86400000.0], \"xaxis\": \"x\", \"y\": [\"George\"], \"yaxis\": \"y\"}, {\"alignmentgroup\": \"True\", \"base\": [\"2020-09-14\"], \"hovertemplate\": \"Task=Task Number 28<br>Start=%{base}<br>Finish=%{x}<br>Human=%{y}<extra></extra>\", \"legendgroup\": \"Task Number 28\", \"marker\": {\"color\": \"#FF97FF\"}, \"name\": \"Task Number 28\", \"offsetgroup\": \"Task Number 28\", \"orientation\": \"h\", \"showlegend\": true, \"textposition\": \"auto\", \"type\": \"bar\", \"x\": [172800000.0], \"xaxis\": \"x\", \"y\": [\"Anthony\"], \"yaxis\": \"y\"}, {\"alignmentgroup\": \"True\", \"base\": [\"2020-09-13\"], \"hovertemplate\": \"Task=Task Number 29<br>Start=%{base}<br>Finish=%{x}<br>Human=%{y}<extra></extra>\", \"legendgroup\": \"Task Number 29\", \"marker\": {\"color\": \"#FECB52\"}, \"name\": \"Task Number 29\", \"offsetgroup\": \"Task Number 29\", \"orientation\": \"h\", \"showlegend\": true, \"textposition\": \"auto\", \"type\": \"bar\", \"x\": [86400000.0], \"xaxis\": \"x\", \"y\": [\"Elizabeth\"], \"yaxis\": \"y\"}, {\"alignmentgroup\": \"True\", \"base\": [\"2020-09-17\"], \"hovertemplate\": \"Task=Task Number 30<br>Start=%{base}<br>Finish=%{x}<br>Human=%{y}<extra></extra>\", \"legendgroup\": \"Task Number 30\", \"marker\": {\"color\": \"#636efa\"}, \"name\": \"Task Number 30\", \"offsetgroup\": \"Task Number 30\", \"orientation\": \"h\", \"showlegend\": true, \"textposition\": \"auto\", \"type\": \"bar\", \"x\": [86400000.0], \"xaxis\": \"x\", \"y\": [\"Anthony\"], \"yaxis\": \"y\"}, {\"alignmentgroup\": \"True\", \"base\": [\"2020-09-13\"], \"hovertemplate\": \"Task=Task Number 31<br>Start=%{base}<br>Finish=%{x}<br>Human=%{y}<extra></extra>\", \"legendgroup\": \"Task Number 31\", \"marker\": {\"color\": \"#EF553B\"}, \"name\": \"Task Number 31\", \"offsetgroup\": \"Task Number 31\", \"orientation\": \"h\", \"showlegend\": true, \"textposition\": \"auto\", \"type\": \"bar\", \"x\": [172800000.0], \"xaxis\": \"x\", \"y\": [\"Ron\"], \"yaxis\": \"y\"}, {\"alignmentgroup\": \"True\", \"base\": [\"2020-09-16\"], \"hovertemplate\": \"Task=Task Number 32<br>Start=%{base}<br>Finish=%{x}<br>Human=%{y}<extra></extra>\", \"legendgroup\": \"Task Number 32\", \"marker\": {\"color\": \"#00cc96\"}, \"name\": \"Task Number 32\", \"offsetgroup\": \"Task Number 32\", \"orientation\": \"h\", \"showlegend\": true, \"textposition\": \"auto\", \"type\": \"bar\", \"x\": [86400000.0], \"xaxis\": \"x\", \"y\": [\"Ron\"], \"yaxis\": \"y\"}, {\"alignmentgroup\": \"True\", \"base\": [\"2020-09-14\"], \"hovertemplate\": \"Task=Task Number 33<br>Start=%{base}<br>Finish=%{x}<br>Human=%{y}<extra></extra>\", \"legendgroup\": \"Task Number 33\", \"marker\": {\"color\": \"#ab63fa\"}, \"name\": \"Task Number 33\", \"offsetgroup\": \"Task Number 33\", \"orientation\": \"h\", \"showlegend\": true, \"textposition\": \"auto\", \"type\": \"bar\", \"x\": [86400000.0], \"xaxis\": \"x\", \"y\": [\"George\"], \"yaxis\": \"y\"}, {\"alignmentgroup\": \"True\", \"base\": [\"2020-09-16\"], \"hovertemplate\": \"Task=Task Number 34<br>Start=%{base}<br>Finish=%{x}<br>Human=%{y}<extra></extra>\", \"legendgroup\": \"Task Number 34\", \"marker\": {\"color\": \"#FFA15A\"}, \"name\": \"Task Number 34\", \"offsetgroup\": \"Task Number 34\", \"orientation\": \"h\", \"showlegend\": true, \"textposition\": \"auto\", \"type\": \"bar\", \"x\": [172800000.0], \"xaxis\": \"x\", \"y\": [\"George\"], \"yaxis\": \"y\"}, {\"alignmentgroup\": \"True\", \"base\": [\"2020-09-19\"], \"hovertemplate\": \"Task=Task Number 35<br>Start=%{base}<br>Finish=%{x}<br>Human=%{y}<extra></extra>\", \"legendgroup\": \"Task Number 35\", \"marker\": {\"color\": \"#19d3f3\"}, \"name\": \"Task Number 35\", \"offsetgroup\": \"Task Number 35\", \"orientation\": \"h\", \"showlegend\": true, \"textposition\": \"auto\", \"type\": \"bar\", \"x\": [172800000.0], \"xaxis\": \"x\", \"y\": [\"Anthony\"], \"yaxis\": \"y\"}, {\"alignmentgroup\": \"True\", \"base\": [\"2020-09-15\"], \"hovertemplate\": \"Task=Task Number 36<br>Start=%{base}<br>Finish=%{x}<br>Human=%{y}<extra></extra>\", \"legendgroup\": \"Task Number 36\", \"marker\": {\"color\": \"#FF6692\"}, \"name\": \"Task Number 36\", \"offsetgroup\": \"Task Number 36\", \"orientation\": \"h\", \"showlegend\": true, \"textposition\": \"auto\", \"type\": \"bar\", \"x\": [172800000.0], \"xaxis\": \"x\", \"y\": [\"Elizabeth\"], \"yaxis\": \"y\"}, {\"alignmentgroup\": \"True\", \"base\": [\"2020-09-18\"], \"hovertemplate\": \"Task=Task Number 37<br>Start=%{base}<br>Finish=%{x}<br>Human=%{y}<extra></extra>\", \"legendgroup\": \"Task Number 37\", \"marker\": {\"color\": \"#B6E880\"}, \"name\": \"Task Number 37\", \"offsetgroup\": \"Task Number 37\", \"orientation\": \"h\", \"showlegend\": true, \"textposition\": \"auto\", \"type\": \"bar\", \"x\": [86400000.0], \"xaxis\": \"x\", \"y\": [\"Ron\"], \"yaxis\": \"y\"}, {\"alignmentgroup\": \"True\", \"base\": [\"2020-09-18\"], \"hovertemplate\": \"Task=Task Number 38<br>Start=%{base}<br>Finish=%{x}<br>Human=%{y}<extra></extra>\", \"legendgroup\": \"Task Number 38\", \"marker\": {\"color\": \"#FF97FF\"}, \"name\": \"Task Number 38\", \"offsetgroup\": \"Task Number 38\", \"orientation\": \"h\", \"showlegend\": true, \"textposition\": \"auto\", \"type\": \"bar\", \"x\": [172800000.0], \"xaxis\": \"x\", \"y\": [\"Elizabeth\"], \"yaxis\": \"y\"}, {\"alignmentgroup\": \"True\", \"base\": [\"2020-09-20\"], \"hovertemplate\": \"Task=Task Number 39<br>Start=%{base}<br>Finish=%{x}<br>Human=%{y}<extra></extra>\", \"legendgroup\": \"Task Number 39\", \"marker\": {\"color\": \"#FECB52\"}, \"name\": \"Task Number 39\", \"offsetgroup\": \"Task Number 39\", \"orientation\": \"h\", \"showlegend\": true, \"textposition\": \"auto\", \"type\": \"bar\", \"x\": [86400000.0], \"xaxis\": \"x\", \"y\": [\"Ron\"], \"yaxis\": \"y\"}, {\"alignmentgroup\": \"True\", \"base\": [\"2020-09-21\"], \"hovertemplate\": \"Task=Task Number 40<br>Start=%{base}<br>Finish=%{x}<br>Human=%{y}<extra></extra>\", \"legendgroup\": \"Task Number 40\", \"marker\": {\"color\": \"#636efa\"}, \"name\": \"Task Number 40\", \"offsetgroup\": \"Task Number 40\", \"orientation\": \"h\", \"showlegend\": true, \"textposition\": \"auto\", \"type\": \"bar\", \"x\": [86400000.0], \"xaxis\": \"x\", \"y\": [\"Elizabeth\"], \"yaxis\": \"y\"}, {\"alignmentgroup\": \"True\", \"base\": [\"2020-09-19\"], \"hovertemplate\": \"Task=Task Number 41<br>Start=%{base}<br>Finish=%{x}<br>Human=%{y}<extra></extra>\", \"legendgroup\": \"Task Number 41\", \"marker\": {\"color\": \"#EF553B\"}, \"name\": \"Task Number 41\", \"offsetgroup\": \"Task Number 41\", \"orientation\": \"h\", \"showlegend\": true, \"textposition\": \"auto\", \"type\": \"bar\", \"x\": [86400000.0], \"xaxis\": \"x\", \"y\": [\"George\"], \"yaxis\": \"y\"}, {\"alignmentgroup\": \"True\", \"base\": [\"2020-09-22\"], \"hovertemplate\": \"Task=Task Number 42<br>Start=%{base}<br>Finish=%{x}<br>Human=%{y}<extra></extra>\", \"legendgroup\": \"Task Number 42\", \"marker\": {\"color\": \"#00cc96\"}, \"name\": \"Task Number 42\", \"offsetgroup\": \"Task Number 42\", \"orientation\": \"h\", \"showlegend\": true, \"textposition\": \"auto\", \"type\": \"bar\", \"x\": [172800000.0], \"xaxis\": \"x\", \"y\": [\"Anthony\"], \"yaxis\": \"y\"}, {\"alignmentgroup\": \"True\", \"base\": [\"2020-09-23\"], \"hovertemplate\": \"Task=Task Number 43<br>Start=%{base}<br>Finish=%{x}<br>Human=%{y}<extra></extra>\", \"legendgroup\": \"Task Number 43\", \"marker\": {\"color\": \"#ab63fa\"}, \"name\": \"Task Number 43\", \"offsetgroup\": \"Task Number 43\", \"orientation\": \"h\", \"showlegend\": true, \"textposition\": \"auto\", \"type\": \"bar\", \"x\": [172800000.0], \"xaxis\": \"x\", \"y\": [\"Elizabeth\"], \"yaxis\": \"y\"}, {\"alignmentgroup\": \"True\", \"base\": [\"2020-09-21\"], \"hovertemplate\": \"Task=Task Number 44<br>Start=%{base}<br>Finish=%{x}<br>Human=%{y}<extra></extra>\", \"legendgroup\": \"Task Number 44\", \"marker\": {\"color\": \"#FFA15A\"}, \"name\": \"Task Number 44\", \"offsetgroup\": \"Task Number 44\", \"orientation\": \"h\", \"showlegend\": true, \"textposition\": \"auto\", \"type\": \"bar\", \"x\": [172800000.0], \"xaxis\": \"x\", \"y\": [\"George\"], \"yaxis\": \"y\"}, {\"alignmentgroup\": \"True\", \"base\": [\"2020-09-25\"], \"hovertemplate\": \"Task=Task Number 45<br>Start=%{base}<br>Finish=%{x}<br>Human=%{y}<extra></extra>\", \"legendgroup\": \"Task Number 45\", \"marker\": {\"color\": \"#19d3f3\"}, \"name\": \"Task Number 45\", \"offsetgroup\": \"Task Number 45\", \"orientation\": \"h\", \"showlegend\": true, \"textposition\": \"auto\", \"type\": \"bar\", \"x\": [172800000.0], \"xaxis\": \"x\", \"y\": [\"Anthony\"], \"yaxis\": \"y\"}, {\"alignmentgroup\": \"True\", \"base\": [\"2020-09-26\"], \"hovertemplate\": \"Task=Task Number 46<br>Start=%{base}<br>Finish=%{x}<br>Human=%{y}<extra></extra>\", \"legendgroup\": \"Task Number 46\", \"marker\": {\"color\": \"#FF6692\"}, \"name\": \"Task Number 46\", \"offsetgroup\": \"Task Number 46\", \"orientation\": \"h\", \"showlegend\": true, \"textposition\": \"auto\", \"type\": \"bar\", \"x\": [172800000.0], \"xaxis\": \"x\", \"y\": [\"Elizabeth\"], \"yaxis\": \"y\"}, {\"alignmentgroup\": \"True\", \"base\": [\"2020-09-28\"], \"hovertemplate\": \"Task=Task Number 47<br>Start=%{base}<br>Finish=%{x}<br>Human=%{y}<extra></extra>\", \"legendgroup\": \"Task Number 47\", \"marker\": {\"color\": \"#B6E880\"}, \"name\": \"Task Number 47\", \"offsetgroup\": \"Task Number 47\", \"orientation\": \"h\", \"showlegend\": true, \"textposition\": \"auto\", \"type\": \"bar\", \"x\": [86400000.0], \"xaxis\": \"x\", \"y\": [\"Anthony\"], \"yaxis\": \"y\"}, {\"alignmentgroup\": \"True\", \"base\": [\"2020-09-22\"], \"hovertemplate\": \"Task=Task Number 48<br>Start=%{base}<br>Finish=%{x}<br>Human=%{y}<extra></extra>\", \"legendgroup\": \"Task Number 48\", \"marker\": {\"color\": \"#FF97FF\"}, \"name\": \"Task Number 48\", \"offsetgroup\": \"Task Number 48\", \"orientation\": \"h\", \"showlegend\": true, \"textposition\": \"auto\", \"type\": \"bar\", \"x\": [172800000.0], \"xaxis\": \"x\", \"y\": [\"Ron\"], \"yaxis\": \"y\"}, {\"alignmentgroup\": \"True\", \"base\": [\"2020-09-30\"], \"hovertemplate\": \"Task=Task Number 49<br>Start=%{base}<br>Finish=%{x}<br>Human=%{y}<extra></extra>\", \"legendgroup\": \"Task Number 49\", \"marker\": {\"color\": \"#FECB52\"}, \"name\": \"Task Number 49\", \"offsetgroup\": \"Task Number 49\", \"orientation\": \"h\", \"showlegend\": true, \"textposition\": \"auto\", \"type\": \"bar\", \"x\": [86400000.0], \"xaxis\": \"x\", \"y\": [\"Anthony\"], \"yaxis\": \"y\"}, {\"alignmentgroup\": \"True\", \"base\": [\"2020-09-24\"], \"hovertemplate\": \"Task=Task Number 50<br>Start=%{base}<br>Finish=%{x}<br>Human=%{y}<extra></extra>\", \"legendgroup\": \"Task Number 50\", \"marker\": {\"color\": \"#636efa\"}, \"name\": \"Task Number 50\", \"offsetgroup\": \"Task Number 50\", \"orientation\": \"h\", \"showlegend\": true, \"textposition\": \"auto\", \"type\": \"bar\", \"x\": [172800000.0], \"xaxis\": \"x\", \"y\": [\"George\"], \"yaxis\": \"y\"}, {\"alignmentgroup\": \"True\", \"base\": [\"2020-10-02\"], \"hovertemplate\": \"Task=Task Number 51<br>Start=%{base}<br>Finish=%{x}<br>Human=%{y}<extra></extra>\", \"legendgroup\": \"Task Number 51\", \"marker\": {\"color\": \"#EF553B\"}, \"name\": \"Task Number 51\", \"offsetgroup\": \"Task Number 51\", \"orientation\": \"h\", \"showlegend\": true, \"textposition\": \"auto\", \"type\": \"bar\", \"x\": [172800000.0], \"xaxis\": \"x\", \"y\": [\"Anthony\"], \"yaxis\": \"y\"}, {\"alignmentgroup\": \"True\", \"base\": [\"2020-10-05\"], \"hovertemplate\": \"Task=Task Number 52<br>Start=%{base}<br>Finish=%{x}<br>Human=%{y}<extra></extra>\", \"legendgroup\": \"Task Number 52\", \"marker\": {\"color\": \"#00cc96\"}, \"name\": \"Task Number 52\", \"offsetgroup\": \"Task Number 52\", \"orientation\": \"h\", \"showlegend\": true, \"textposition\": \"auto\", \"type\": \"bar\", \"x\": [172800000.0], \"xaxis\": \"x\", \"y\": [\"Anthony\"], \"yaxis\": \"y\"}, {\"alignmentgroup\": \"True\", \"base\": [\"2020-10-08\"], \"hovertemplate\": \"Task=Task Number 53<br>Start=%{base}<br>Finish=%{x}<br>Human=%{y}<extra></extra>\", \"legendgroup\": \"Task Number 53\", \"marker\": {\"color\": \"#ab63fa\"}, \"name\": \"Task Number 53\", \"offsetgroup\": \"Task Number 53\", \"orientation\": \"h\", \"showlegend\": true, \"textposition\": \"auto\", \"type\": \"bar\", \"x\": [172800000.0], \"xaxis\": \"x\", \"y\": [\"Anthony\"], \"yaxis\": \"y\"}, {\"alignmentgroup\": \"True\", \"base\": [\"2020-09-25\"], \"hovertemplate\": \"Task=Task Number 54<br>Start=%{base}<br>Finish=%{x}<br>Human=%{y}<extra></extra>\", \"legendgroup\": \"Task Number 54\", \"marker\": {\"color\": \"#FFA15A\"}, \"name\": \"Task Number 54\", \"offsetgroup\": \"Task Number 54\", \"orientation\": \"h\", \"showlegend\": true, \"textposition\": \"auto\", \"type\": \"bar\", \"x\": [86400000.0], \"xaxis\": \"x\", \"y\": [\"Ron\"], \"yaxis\": \"y\"}, {\"alignmentgroup\": \"True\", \"base\": [\"2020-10-11\"], \"hovertemplate\": \"Task=Task Number 55<br>Start=%{base}<br>Finish=%{x}<br>Human=%{y}<extra></extra>\", \"legendgroup\": \"Task Number 55\", \"marker\": {\"color\": \"#19d3f3\"}, \"name\": \"Task Number 55\", \"offsetgroup\": \"Task Number 55\", \"orientation\": \"h\", \"showlegend\": true, \"textposition\": \"auto\", \"type\": \"bar\", \"x\": [172800000.0], \"xaxis\": \"x\", \"y\": [\"Anthony\"], \"yaxis\": \"y\"}, {\"alignmentgroup\": \"True\", \"base\": [\"2020-09-27\"], \"hovertemplate\": \"Task=Task Number 56<br>Start=%{base}<br>Finish=%{x}<br>Human=%{y}<extra></extra>\", \"legendgroup\": \"Task Number 56\", \"marker\": {\"color\": \"#FF6692\"}, \"name\": \"Task Number 56\", \"offsetgroup\": \"Task Number 56\", \"orientation\": \"h\", \"showlegend\": true, \"textposition\": \"auto\", \"type\": \"bar\", \"x\": [172800000.0], \"xaxis\": \"x\", \"y\": [\"Ron\"], \"yaxis\": \"y\"}, {\"alignmentgroup\": \"True\", \"base\": [\"2020-09-30\"], \"hovertemplate\": \"Task=Task Number 57<br>Start=%{base}<br>Finish=%{x}<br>Human=%{y}<extra></extra>\", \"legendgroup\": \"Task Number 57\", \"marker\": {\"color\": \"#B6E880\"}, \"name\": \"Task Number 57\", \"offsetgroup\": \"Task Number 57\", \"orientation\": \"h\", \"showlegend\": true, \"textposition\": \"auto\", \"type\": \"bar\", \"x\": [86400000.0], \"xaxis\": \"x\", \"y\": [\"Ron\"], \"yaxis\": \"y\"}, {\"alignmentgroup\": \"True\", \"base\": [\"2020-10-02\"], \"hovertemplate\": \"Task=Task Number 58<br>Start=%{base}<br>Finish=%{x}<br>Human=%{y}<extra></extra>\", \"legendgroup\": \"Task Number 58\", \"marker\": {\"color\": \"#FF97FF\"}, \"name\": \"Task Number 58\", \"offsetgroup\": \"Task Number 58\", \"orientation\": \"h\", \"showlegend\": true, \"textposition\": \"auto\", \"type\": \"bar\", \"x\": [172800000.0], \"xaxis\": \"x\", \"y\": [\"Ron\"], \"yaxis\": \"y\"}, {\"alignmentgroup\": \"True\", \"base\": [\"2020-09-27\"], \"hovertemplate\": \"Task=Task Number 59<br>Start=%{base}<br>Finish=%{x}<br>Human=%{y}<extra></extra>\", \"legendgroup\": \"Task Number 59\", \"marker\": {\"color\": \"#FECB52\"}, \"name\": \"Task Number 59\", \"offsetgroup\": \"Task Number 59\", \"orientation\": \"h\", \"showlegend\": true, \"textposition\": \"auto\", \"type\": \"bar\", \"x\": [86400000.0], \"xaxis\": \"x\", \"y\": [\"George\"], \"yaxis\": \"y\"}, {\"alignmentgroup\": \"True\", \"base\": [\"2020-09-29\"], \"hovertemplate\": \"Task=Task Number 60<br>Start=%{base}<br>Finish=%{x}<br>Human=%{y}<extra></extra>\", \"legendgroup\": \"Task Number 60\", \"marker\": {\"color\": \"#636efa\"}, \"name\": \"Task Number 60\", \"offsetgroup\": \"Task Number 60\", \"orientation\": \"h\", \"showlegend\": true, \"textposition\": \"auto\", \"type\": \"bar\", \"x\": [86400000.0], \"xaxis\": \"x\", \"y\": [\"Elizabeth\"], \"yaxis\": \"y\"}, {\"alignmentgroup\": \"True\", \"base\": [\"2020-10-01\"], \"hovertemplate\": \"Task=Task Number 61<br>Start=%{base}<br>Finish=%{x}<br>Human=%{y}<extra></extra>\", \"legendgroup\": \"Task Number 61\", \"marker\": {\"color\": \"#EF553B\"}, \"name\": \"Task Number 61\", \"offsetgroup\": \"Task Number 61\", \"orientation\": \"h\", \"showlegend\": true, \"textposition\": \"auto\", \"type\": \"bar\", \"x\": [86400000.0], \"xaxis\": \"x\", \"y\": [\"Elizabeth\"], \"yaxis\": \"y\"}, {\"alignmentgroup\": \"True\", \"base\": [\"2020-10-03\"], \"hovertemplate\": \"Task=Task Number 62<br>Start=%{base}<br>Finish=%{x}<br>Human=%{y}<extra></extra>\", \"legendgroup\": \"Task Number 62\", \"marker\": {\"color\": \"#00cc96\"}, \"name\": \"Task Number 62\", \"offsetgroup\": \"Task Number 62\", \"orientation\": \"h\", \"showlegend\": true, \"textposition\": \"auto\", \"type\": \"bar\", \"x\": [86400000.0], \"xaxis\": \"x\", \"y\": [\"Elizabeth\"], \"yaxis\": \"y\"}, {\"alignmentgroup\": \"True\", \"base\": [\"2020-10-05\"], \"hovertemplate\": \"Task=Task Number 63<br>Start=%{base}<br>Finish=%{x}<br>Human=%{y}<extra></extra>\", \"legendgroup\": \"Task Number 63\", \"marker\": {\"color\": \"#ab63fa\"}, \"name\": \"Task Number 63\", \"offsetgroup\": \"Task Number 63\", \"orientation\": \"h\", \"showlegend\": true, \"textposition\": \"auto\", \"type\": \"bar\", \"x\": [86400000.0], \"xaxis\": \"x\", \"y\": [\"Ron\"], \"yaxis\": \"y\"}, {\"alignmentgroup\": \"True\", \"base\": [\"2020-10-14\"], \"hovertemplate\": \"Task=Task Number 64<br>Start=%{base}<br>Finish=%{x}<br>Human=%{y}<extra></extra>\", \"legendgroup\": \"Task Number 64\", \"marker\": {\"color\": \"#FFA15A\"}, \"name\": \"Task Number 64\", \"offsetgroup\": \"Task Number 64\", \"orientation\": \"h\", \"showlegend\": true, \"textposition\": \"auto\", \"type\": \"bar\", \"x\": [86400000.0], \"xaxis\": \"x\", \"y\": [\"Anthony\"], \"yaxis\": \"y\"}, {\"alignmentgroup\": \"True\", \"base\": [null], \"hovertemplate\": \"Task=Task Number 65<br>Start=%{base}<br>Finish=%{x}<br>Human=%{y}<extra></extra>\", \"legendgroup\": \"Task Number 65\", \"marker\": {\"color\": \"#19d3f3\"}, \"name\": \"Task Number 65\", \"offsetgroup\": \"Task Number 65\", \"orientation\": \"h\", \"showlegend\": true, \"textposition\": \"auto\", \"type\": \"bar\", \"x\": [null], \"xaxis\": \"x\", \"y\": [null], \"yaxis\": \"y\"}, {\"alignmentgroup\": \"True\", \"base\": [\"2020-10-05\"], \"hovertemplate\": \"Task=Task Number 66<br>Start=%{base}<br>Finish=%{x}<br>Human=%{y}<extra></extra>\", \"legendgroup\": \"Task Number 66\", \"marker\": {\"color\": \"#FF6692\"}, \"name\": \"Task Number 66\", \"offsetgroup\": \"Task Number 66\", \"orientation\": \"h\", \"showlegend\": true, \"textposition\": \"auto\", \"type\": \"bar\", \"x\": [86400000.0], \"xaxis\": \"x\", \"y\": [\"Elizabeth\"], \"yaxis\": \"y\"}, {\"alignmentgroup\": \"True\", \"base\": [null], \"hovertemplate\": \"Task=Task Number 67<br>Start=%{base}<br>Finish=%{x}<br>Human=%{y}<extra></extra>\", \"legendgroup\": \"Task Number 67\", \"marker\": {\"color\": \"#B6E880\"}, \"name\": \"Task Number 67\", \"offsetgroup\": \"Task Number 67\", \"orientation\": \"h\", \"showlegend\": true, \"textposition\": \"auto\", \"type\": \"bar\", \"x\": [null], \"xaxis\": \"x\", \"y\": [null], \"yaxis\": \"y\"}, {\"alignmentgroup\": \"True\", \"base\": [null], \"hovertemplate\": \"Task=Task Number 68<br>Start=%{base}<br>Finish=%{x}<br>Human=%{y}<extra></extra>\", \"legendgroup\": \"Task Number 68\", \"marker\": {\"color\": \"#FF97FF\"}, \"name\": \"Task Number 68\", \"offsetgroup\": \"Task Number 68\", \"orientation\": \"h\", \"showlegend\": true, \"textposition\": \"auto\", \"type\": \"bar\", \"x\": [null], \"xaxis\": \"x\", \"y\": [null], \"yaxis\": \"y\"}, {\"alignmentgroup\": \"True\", \"base\": [null], \"hovertemplate\": \"Task=Task Number 69<br>Start=%{base}<br>Finish=%{x}<br>Human=%{y}<extra></extra>\", \"legendgroup\": \"Task Number 69\", \"marker\": {\"color\": \"#FECB52\"}, \"name\": \"Task Number 69\", \"offsetgroup\": \"Task Number 69\", \"orientation\": \"h\", \"showlegend\": true, \"textposition\": \"auto\", \"type\": \"bar\", \"x\": [null], \"xaxis\": \"x\", \"y\": [null], \"yaxis\": \"y\"}, {\"alignmentgroup\": \"True\", \"base\": [null], \"hovertemplate\": \"Task=Task Number 70<br>Start=%{base}<br>Finish=%{x}<br>Human=%{y}<extra></extra>\", \"legendgroup\": \"Task Number 70\", \"marker\": {\"color\": \"#636efa\"}, \"name\": \"Task Number 70\", \"offsetgroup\": \"Task Number 70\", \"orientation\": \"h\", \"showlegend\": true, \"textposition\": \"auto\", \"type\": \"bar\", \"x\": [null], \"xaxis\": \"x\", \"y\": [null], \"yaxis\": \"y\"}, {\"alignmentgroup\": \"True\", \"base\": [\"2020-09-29\"], \"hovertemplate\": \"Task=Task Number 71<br>Start=%{base}<br>Finish=%{x}<br>Human=%{y}<extra></extra>\", \"legendgroup\": \"Task Number 71\", \"marker\": {\"color\": \"#EF553B\"}, \"name\": \"Task Number 71\", \"offsetgroup\": \"Task Number 71\", \"orientation\": \"h\", \"showlegend\": true, \"textposition\": \"auto\", \"type\": \"bar\", \"x\": [86400000.0], \"xaxis\": \"x\", \"y\": [\"George\"], \"yaxis\": \"y\"}, {\"alignmentgroup\": \"True\", \"base\": [\"2020-10-01\"], \"hovertemplate\": \"Task=Task Number 72<br>Start=%{base}<br>Finish=%{x}<br>Human=%{y}<extra></extra>\", \"legendgroup\": \"Task Number 72\", \"marker\": {\"color\": \"#00cc96\"}, \"name\": \"Task Number 72\", \"offsetgroup\": \"Task Number 72\", \"orientation\": \"h\", \"showlegend\": true, \"textposition\": \"auto\", \"type\": \"bar\", \"x\": [172800000.0], \"xaxis\": \"x\", \"y\": [\"George\"], \"yaxis\": \"y\"}, {\"alignmentgroup\": \"True\", \"base\": [\"2020-10-04\"], \"hovertemplate\": \"Task=Task Number 73<br>Start=%{base}<br>Finish=%{x}<br>Human=%{y}<extra></extra>\", \"legendgroup\": \"Task Number 73\", \"marker\": {\"color\": \"#ab63fa\"}, \"name\": \"Task Number 73\", \"offsetgroup\": \"Task Number 73\", \"orientation\": \"h\", \"showlegend\": true, \"textposition\": \"auto\", \"type\": \"bar\", \"x\": [172800000.0], \"xaxis\": \"x\", \"y\": [\"George\"], \"yaxis\": \"y\"}, {\"alignmentgroup\": \"True\", \"base\": [\"2020-10-07\"], \"hovertemplate\": \"Task=Task Number 74<br>Start=%{base}<br>Finish=%{x}<br>Human=%{y}<extra></extra>\", \"legendgroup\": \"Task Number 74\", \"marker\": {\"color\": \"#FFA15A\"}, \"name\": \"Task Number 74\", \"offsetgroup\": \"Task Number 74\", \"orientation\": \"h\", \"showlegend\": true, \"textposition\": \"auto\", \"type\": \"bar\", \"x\": [86400000.0], \"xaxis\": \"x\", \"y\": [\"George\"], \"yaxis\": \"y\"}],\n",
       "                        {\"barmode\": \"overlay\", \"height\": 300, \"legend\": {\"title\": {\"text\": \"Task\"}, \"tracegroupgap\": 0}, \"template\": {\"data\": {\"bar\": [{\"error_x\": {\"color\": \"#2a3f5f\"}, \"error_y\": {\"color\": \"#2a3f5f\"}, \"marker\": {\"line\": {\"color\": \"#E5ECF6\", \"width\": 0.5}}, \"type\": \"bar\"}], \"barpolar\": [{\"marker\": {\"line\": {\"color\": \"#E5ECF6\", \"width\": 0.5}}, \"type\": \"barpolar\"}], \"carpet\": [{\"aaxis\": {\"endlinecolor\": \"#2a3f5f\", \"gridcolor\": \"white\", \"linecolor\": \"white\", \"minorgridcolor\": \"white\", \"startlinecolor\": \"#2a3f5f\"}, \"baxis\": {\"endlinecolor\": \"#2a3f5f\", \"gridcolor\": \"white\", \"linecolor\": \"white\", \"minorgridcolor\": \"white\", \"startlinecolor\": \"#2a3f5f\"}, \"type\": \"carpet\"}], \"choropleth\": [{\"colorbar\": {\"outlinewidth\": 0, \"ticks\": \"\"}, \"type\": \"choropleth\"}], \"contour\": [{\"colorbar\": {\"outlinewidth\": 0, \"ticks\": \"\"}, \"colorscale\": [[0.0, \"#0d0887\"], [0.1111111111111111, \"#46039f\"], [0.2222222222222222, \"#7201a8\"], [0.3333333333333333, \"#9c179e\"], [0.4444444444444444, \"#bd3786\"], [0.5555555555555556, \"#d8576b\"], [0.6666666666666666, \"#ed7953\"], [0.7777777777777778, \"#fb9f3a\"], [0.8888888888888888, \"#fdca26\"], [1.0, \"#f0f921\"]], \"type\": \"contour\"}], \"contourcarpet\": [{\"colorbar\": {\"outlinewidth\": 0, \"ticks\": \"\"}, \"type\": \"contourcarpet\"}], \"heatmap\": [{\"colorbar\": {\"outlinewidth\": 0, \"ticks\": \"\"}, \"colorscale\": [[0.0, \"#0d0887\"], [0.1111111111111111, \"#46039f\"], [0.2222222222222222, \"#7201a8\"], [0.3333333333333333, \"#9c179e\"], [0.4444444444444444, \"#bd3786\"], [0.5555555555555556, \"#d8576b\"], [0.6666666666666666, \"#ed7953\"], [0.7777777777777778, \"#fb9f3a\"], [0.8888888888888888, \"#fdca26\"], [1.0, \"#f0f921\"]], \"type\": \"heatmap\"}], \"heatmapgl\": [{\"colorbar\": {\"outlinewidth\": 0, \"ticks\": \"\"}, \"colorscale\": [[0.0, \"#0d0887\"], [0.1111111111111111, \"#46039f\"], [0.2222222222222222, \"#7201a8\"], [0.3333333333333333, \"#9c179e\"], [0.4444444444444444, \"#bd3786\"], [0.5555555555555556, \"#d8576b\"], [0.6666666666666666, \"#ed7953\"], [0.7777777777777778, \"#fb9f3a\"], [0.8888888888888888, \"#fdca26\"], [1.0, \"#f0f921\"]], \"type\": \"heatmapgl\"}], \"histogram\": [{\"marker\": {\"colorbar\": {\"outlinewidth\": 0, \"ticks\": \"\"}}, \"type\": \"histogram\"}], \"histogram2d\": [{\"colorbar\": {\"outlinewidth\": 0, \"ticks\": \"\"}, \"colorscale\": [[0.0, \"#0d0887\"], [0.1111111111111111, \"#46039f\"], [0.2222222222222222, \"#7201a8\"], [0.3333333333333333, \"#9c179e\"], [0.4444444444444444, \"#bd3786\"], [0.5555555555555556, \"#d8576b\"], [0.6666666666666666, \"#ed7953\"], [0.7777777777777778, \"#fb9f3a\"], [0.8888888888888888, \"#fdca26\"], [1.0, \"#f0f921\"]], \"type\": \"histogram2d\"}], \"histogram2dcontour\": [{\"colorbar\": {\"outlinewidth\": 0, \"ticks\": \"\"}, \"colorscale\": [[0.0, \"#0d0887\"], [0.1111111111111111, \"#46039f\"], [0.2222222222222222, \"#7201a8\"], [0.3333333333333333, \"#9c179e\"], [0.4444444444444444, \"#bd3786\"], [0.5555555555555556, \"#d8576b\"], [0.6666666666666666, \"#ed7953\"], [0.7777777777777778, \"#fb9f3a\"], [0.8888888888888888, \"#fdca26\"], [1.0, \"#f0f921\"]], \"type\": \"histogram2dcontour\"}], \"mesh3d\": [{\"colorbar\": {\"outlinewidth\": 0, \"ticks\": \"\"}, \"type\": \"mesh3d\"}], \"parcoords\": [{\"line\": {\"colorbar\": {\"outlinewidth\": 0, \"ticks\": \"\"}}, \"type\": \"parcoords\"}], \"pie\": [{\"automargin\": true, \"type\": \"pie\"}], \"scatter\": [{\"marker\": {\"colorbar\": {\"outlinewidth\": 0, \"ticks\": \"\"}}, \"type\": \"scatter\"}], \"scatter3d\": [{\"line\": {\"colorbar\": {\"outlinewidth\": 0, \"ticks\": \"\"}}, \"marker\": {\"colorbar\": {\"outlinewidth\": 0, \"ticks\": \"\"}}, \"type\": \"scatter3d\"}], \"scattercarpet\": [{\"marker\": {\"colorbar\": {\"outlinewidth\": 0, \"ticks\": \"\"}}, \"type\": \"scattercarpet\"}], \"scattergeo\": [{\"marker\": {\"colorbar\": {\"outlinewidth\": 0, \"ticks\": \"\"}}, \"type\": \"scattergeo\"}], \"scattergl\": [{\"marker\": {\"colorbar\": {\"outlinewidth\": 0, \"ticks\": \"\"}}, \"type\": \"scattergl\"}], \"scattermapbox\": [{\"marker\": {\"colorbar\": {\"outlinewidth\": 0, \"ticks\": \"\"}}, \"type\": \"scattermapbox\"}], \"scatterpolar\": [{\"marker\": {\"colorbar\": {\"outlinewidth\": 0, \"ticks\": \"\"}}, \"type\": \"scatterpolar\"}], \"scatterpolargl\": [{\"marker\": {\"colorbar\": {\"outlinewidth\": 0, \"ticks\": \"\"}}, \"type\": \"scatterpolargl\"}], \"scatterternary\": [{\"marker\": {\"colorbar\": {\"outlinewidth\": 0, \"ticks\": \"\"}}, \"type\": \"scatterternary\"}], \"surface\": [{\"colorbar\": {\"outlinewidth\": 0, \"ticks\": \"\"}, \"colorscale\": [[0.0, \"#0d0887\"], [0.1111111111111111, \"#46039f\"], [0.2222222222222222, \"#7201a8\"], [0.3333333333333333, \"#9c179e\"], [0.4444444444444444, \"#bd3786\"], [0.5555555555555556, \"#d8576b\"], [0.6666666666666666, \"#ed7953\"], [0.7777777777777778, \"#fb9f3a\"], [0.8888888888888888, \"#fdca26\"], [1.0, \"#f0f921\"]], \"type\": \"surface\"}], \"table\": [{\"cells\": {\"fill\": {\"color\": \"#EBF0F8\"}, \"line\": {\"color\": \"white\"}}, \"header\": {\"fill\": {\"color\": \"#C8D4E3\"}, \"line\": {\"color\": \"white\"}}, \"type\": \"table\"}]}, \"layout\": {\"annotationdefaults\": {\"arrowcolor\": \"#2a3f5f\", \"arrowhead\": 0, \"arrowwidth\": 1}, \"coloraxis\": {\"colorbar\": {\"outlinewidth\": 0, \"ticks\": \"\"}}, \"colorscale\": {\"diverging\": [[0, \"#8e0152\"], [0.1, \"#c51b7d\"], [0.2, \"#de77ae\"], [0.3, \"#f1b6da\"], [0.4, \"#fde0ef\"], [0.5, \"#f7f7f7\"], [0.6, \"#e6f5d0\"], [0.7, \"#b8e186\"], [0.8, \"#7fbc41\"], [0.9, \"#4d9221\"], [1, \"#276419\"]], \"sequential\": [[0.0, \"#0d0887\"], [0.1111111111111111, \"#46039f\"], [0.2222222222222222, \"#7201a8\"], [0.3333333333333333, \"#9c179e\"], [0.4444444444444444, \"#bd3786\"], [0.5555555555555556, \"#d8576b\"], [0.6666666666666666, \"#ed7953\"], [0.7777777777777778, \"#fb9f3a\"], [0.8888888888888888, \"#fdca26\"], [1.0, \"#f0f921\"]], \"sequentialminus\": [[0.0, \"#0d0887\"], [0.1111111111111111, \"#46039f\"], [0.2222222222222222, \"#7201a8\"], [0.3333333333333333, \"#9c179e\"], [0.4444444444444444, \"#bd3786\"], [0.5555555555555556, \"#d8576b\"], [0.6666666666666666, \"#ed7953\"], [0.7777777777777778, \"#fb9f3a\"], [0.8888888888888888, \"#fdca26\"], [1.0, \"#f0f921\"]]}, \"colorway\": [\"#636efa\", \"#EF553B\", \"#00cc96\", \"#ab63fa\", \"#FFA15A\", \"#19d3f3\", \"#FF6692\", \"#B6E880\", \"#FF97FF\", \"#FECB52\"], \"font\": {\"color\": \"#2a3f5f\"}, \"geo\": {\"bgcolor\": \"white\", \"lakecolor\": \"white\", \"landcolor\": \"#E5ECF6\", \"showlakes\": true, \"showland\": true, \"subunitcolor\": \"white\"}, \"hoverlabel\": {\"align\": \"left\"}, \"hovermode\": \"closest\", \"mapbox\": {\"style\": \"light\"}, \"paper_bgcolor\": \"white\", \"plot_bgcolor\": \"#E5ECF6\", \"polar\": {\"angularaxis\": {\"gridcolor\": \"white\", \"linecolor\": \"white\", \"ticks\": \"\"}, \"bgcolor\": \"#E5ECF6\", \"radialaxis\": {\"gridcolor\": \"white\", \"linecolor\": \"white\", \"ticks\": \"\"}}, \"scene\": {\"xaxis\": {\"backgroundcolor\": \"#E5ECF6\", \"gridcolor\": \"white\", \"gridwidth\": 2, \"linecolor\": \"white\", \"showbackground\": true, \"ticks\": \"\", \"zerolinecolor\": \"white\"}, \"yaxis\": {\"backgroundcolor\": \"#E5ECF6\", \"gridcolor\": \"white\", \"gridwidth\": 2, \"linecolor\": \"white\", \"showbackground\": true, \"ticks\": \"\", \"zerolinecolor\": \"white\"}, \"zaxis\": {\"backgroundcolor\": \"#E5ECF6\", \"gridcolor\": \"white\", \"gridwidth\": 2, \"linecolor\": \"white\", \"showbackground\": true, \"ticks\": \"\", \"zerolinecolor\": \"white\"}}, \"shapedefaults\": {\"line\": {\"color\": \"#2a3f5f\"}}, \"ternary\": {\"aaxis\": {\"gridcolor\": \"white\", \"linecolor\": \"white\", \"ticks\": \"\"}, \"baxis\": {\"gridcolor\": \"white\", \"linecolor\": \"white\", \"ticks\": \"\"}, \"bgcolor\": \"#E5ECF6\", \"caxis\": {\"gridcolor\": \"white\", \"linecolor\": \"white\", \"ticks\": \"\"}}, \"title\": {\"x\": 0.05}, \"xaxis\": {\"automargin\": true, \"gridcolor\": \"white\", \"linecolor\": \"white\", \"ticks\": \"\", \"title\": {\"standoff\": 15}, \"zerolinecolor\": \"white\", \"zerolinewidth\": 2}, \"yaxis\": {\"automargin\": true, \"gridcolor\": \"white\", \"linecolor\": \"white\", \"ticks\": \"\", \"title\": {\"standoff\": 15}, \"zerolinecolor\": \"white\", \"zerolinewidth\": 2}}}, \"title\": {\"text\": \"Optimal Schedule\"}, \"xaxis\": {\"anchor\": \"y\", \"domain\": [0.0, 1.0], \"type\": \"date\"}, \"yaxis\": {\"anchor\": \"x\", \"domain\": [0.0, 1.0], \"title\": {\"text\": \"Human\"}}},\n",
       "                        {\"responsive\": true}\n",
       "                    ).then(function(){\n",
       "                            \n",
       "var gd = document.getElementById('6c3f26ef-1a5b-4a14-ba89-573b7a5c6c37');\n",
       "var x = new MutationObserver(function (mutations, observer) {{\n",
       "        var display = window.getComputedStyle(gd).display;\n",
       "        if (!display || display === 'none') {{\n",
       "            console.log([gd, 'removed!']);\n",
       "            Plotly.purge(gd);\n",
       "            observer.disconnect();\n",
       "        }}\n",
       "}});\n",
       "\n",
       "// Listen for the removal of the full notebook cells\n",
       "var notebookContainer = gd.closest('#notebook-container');\n",
       "if (notebookContainer) {{\n",
       "    x.observe(notebookContainer, {childList: true});\n",
       "}}\n",
       "\n",
       "// Listen for the clearing of the current output cell\n",
       "var outputEl = gd.closest('.output');\n",
       "if (outputEl) {{\n",
       "    x.observe(outputEl, {childList: true});\n",
       "}}\n",
       "\n",
       "                        })\n",
       "                };\n",
       "                });\n",
       "            </script>\n",
       "        </div>"
      ]
     },
     "metadata": {},
     "output_type": "display_data"
    }
   ],
   "source": [
    "GetGantt(model.schedule.agents)"
   ]
  },
  {
   "cell_type": "markdown",
   "metadata": {},
   "source": [
    "### Building Multiple Models - <s>Using Batch Runner</s>"
   ]
  },
  {
   "cell_type": "markdown",
   "metadata": {},
   "source": [
    "Lets run the model for a specified amount of iterations with a specified amount of days to simulate, and collect the value of the tasks closed at the end. "
   ]
  },
  {
   "cell_type": "markdown",
   "metadata": {},
   "source": [
    "### Lets Find the Most Optimal Schedule\n",
    "Building a function to generate a defined number of models, and step a defined numbers of steps per model. Capturing the data after each model has been simulated, and selecting the schedule which accomplishes the most tasks in the simulated time period. "
   ]
  },
  {
   "cell_type": "code",
   "execution_count": 1484,
   "metadata": {},
   "outputs": [],
   "source": [
    "def OptimalSchedule(current_team, tasks_given, days, num_models):\n",
    "    results=[]\n",
    "    best_schedule = None\n",
    "    num_tasks_completed = 0\n",
    "    for i in range(num_models):\n",
    "        model_batch = Scheduler(current_team, tasks_given)\n",
    "        for j in range(days):\n",
    "            model_batch.step()\n",
    "        if best_schedule == None:\n",
    "            best_schedule = model_batch.schedule.agents\n",
    "            num_tasks_completed = model_batch.tasks_closed\n",
    "        elif model_batch.tasks_closed > num_tasks_completed:\n",
    "            best_schedule=model_batch.schedule.agents\n",
    "            num_tasks_completed = model_batch.tasks_closed\n",
    "    GetGantt(best_schedule)"
   ]
  },
  {
   "cell_type": "code",
   "execution_count": 1485,
   "metadata": {},
   "outputs": [],
   "source": [
    "team_members = [\n",
    "    {\n",
    "        \"name\": \"Anthony\", \n",
    "        \"expertise\": 3, \n",
    "        \"competency\": ['Skill 1', 'Skill 2', 'Skill 3']\n",
    "    },\n",
    "    {\n",
    "        \"name\": \"George\", \n",
    "        \"expertise\": 1, \n",
    "        \"competency\": ['Skill 4', 'Skill 5', 'Skill 6']\n",
    "    }, \n",
    "    {\n",
    "        \"name\": \"Elizabeth\", \n",
    "        \"expertise\": 1, \n",
    "        \"competency\": ['Skill 1', 'Skill 2', 'Skill 3']\n",
    "    }, \n",
    "    {\n",
    "        \"name\": \"Ron\", \n",
    "        \"expertise\": 3, \n",
    "        \"competency\": ['Skill 4', 'Skill 5', 'Skill 6'] \n",
    "    } \n",
    "]"
   ]
  },
  {
   "cell_type": "code",
   "execution_count": 1486,
   "metadata": {},
   "outputs": [],
   "source": [
    "tasks_list = task_list_generator(30)"
   ]
  },
  {
   "cell_type": "code",
   "execution_count": 1487,
   "metadata": {},
   "outputs": [
    {
     "data": {
      "application/vnd.plotly.v1+json": {
       "config": {
        "plotlyServerURL": "https://plot.ly"
       },
       "data": [
        {
         "alignmentgroup": "True",
         "base": [
          "2020-08-27"
         ],
         "hovertemplate": "Task=Task Number 0<br>Start=%{base}<br>Finish=%{x}<br>Human=%{y}<extra></extra>",
         "legendgroup": "Task Number 0",
         "marker": {
          "color": "#636efa"
         },
         "name": "Task Number 0",
         "offsetgroup": "Task Number 0",
         "orientation": "h",
         "showlegend": true,
         "textposition": "auto",
         "type": "bar",
         "x": [
          172800000
         ],
         "xaxis": "x",
         "y": [
          "Elizabeth"
         ],
         "yaxis": "y"
        },
        {
         "alignmentgroup": "True",
         "base": [
          "2020-08-27"
         ],
         "hovertemplate": "Task=Task Number 1<br>Start=%{base}<br>Finish=%{x}<br>Human=%{y}<extra></extra>",
         "legendgroup": "Task Number 1",
         "marker": {
          "color": "#EF553B"
         },
         "name": "Task Number 1",
         "offsetgroup": "Task Number 1",
         "orientation": "h",
         "showlegend": true,
         "textposition": "auto",
         "type": "bar",
         "x": [
          86400000
         ],
         "xaxis": "x",
         "y": [
          "Ron"
         ],
         "yaxis": "y"
        },
        {
         "alignmentgroup": "True",
         "base": [
          "2020-08-27"
         ],
         "hovertemplate": "Task=Task Number 2<br>Start=%{base}<br>Finish=%{x}<br>Human=%{y}<extra></extra>",
         "legendgroup": "Task Number 2",
         "marker": {
          "color": "#00cc96"
         },
         "name": "Task Number 2",
         "offsetgroup": "Task Number 2",
         "orientation": "h",
         "showlegend": true,
         "textposition": "auto",
         "type": "bar",
         "x": [
          172800000
         ],
         "xaxis": "x",
         "y": [
          "Anthony"
         ],
         "yaxis": "y"
        },
        {
         "alignmentgroup": "True",
         "base": [
          "2020-08-30"
         ],
         "hovertemplate": "Task=Task Number 3<br>Start=%{base}<br>Finish=%{x}<br>Human=%{y}<extra></extra>",
         "legendgroup": "Task Number 3",
         "marker": {
          "color": "#ab63fa"
         },
         "name": "Task Number 3",
         "offsetgroup": "Task Number 3",
         "orientation": "h",
         "showlegend": true,
         "textposition": "auto",
         "type": "bar",
         "x": [
          172800000
         ],
         "xaxis": "x",
         "y": [
          "Anthony"
         ],
         "yaxis": "y"
        },
        {
         "alignmentgroup": "True",
         "base": [
          "2020-09-02"
         ],
         "hovertemplate": "Task=Task Number 4<br>Start=%{base}<br>Finish=%{x}<br>Human=%{y}<extra></extra>",
         "legendgroup": "Task Number 4",
         "marker": {
          "color": "#FFA15A"
         },
         "name": "Task Number 4",
         "offsetgroup": "Task Number 4",
         "orientation": "h",
         "showlegend": true,
         "textposition": "auto",
         "type": "bar",
         "x": [
          86400000
         ],
         "xaxis": "x",
         "y": [
          "Anthony"
         ],
         "yaxis": "y"
        },
        {
         "alignmentgroup": "True",
         "base": [
          "2020-09-04"
         ],
         "hovertemplate": "Task=Task Number 5<br>Start=%{base}<br>Finish=%{x}<br>Human=%{y}<extra></extra>",
         "legendgroup": "Task Number 5",
         "marker": {
          "color": "#19d3f3"
         },
         "name": "Task Number 5",
         "offsetgroup": "Task Number 5",
         "orientation": "h",
         "showlegend": true,
         "textposition": "auto",
         "type": "bar",
         "x": [
          86400000
         ],
         "xaxis": "x",
         "y": [
          "Anthony"
         ],
         "yaxis": "y"
        },
        {
         "alignmentgroup": "True",
         "base": [
          "2020-08-30"
         ],
         "hovertemplate": "Task=Task Number 6<br>Start=%{base}<br>Finish=%{x}<br>Human=%{y}<extra></extra>",
         "legendgroup": "Task Number 6",
         "marker": {
          "color": "#FF6692"
         },
         "name": "Task Number 6",
         "offsetgroup": "Task Number 6",
         "orientation": "h",
         "showlegend": true,
         "textposition": "auto",
         "type": "bar",
         "x": [
          86400000
         ],
         "xaxis": "x",
         "y": [
          "Elizabeth"
         ],
         "yaxis": "y"
        },
        {
         "alignmentgroup": "True",
         "base": [
          "2020-09-01"
         ],
         "hovertemplate": "Task=Task Number 7<br>Start=%{base}<br>Finish=%{x}<br>Human=%{y}<extra></extra>",
         "legendgroup": "Task Number 7",
         "marker": {
          "color": "#B6E880"
         },
         "name": "Task Number 7",
         "offsetgroup": "Task Number 7",
         "orientation": "h",
         "showlegend": true,
         "textposition": "auto",
         "type": "bar",
         "x": [
          172800000
         ],
         "xaxis": "x",
         "y": [
          "Elizabeth"
         ],
         "yaxis": "y"
        },
        {
         "alignmentgroup": "True",
         "base": [
          "2020-08-27"
         ],
         "hovertemplate": "Task=Task Number 8<br>Start=%{base}<br>Finish=%{x}<br>Human=%{y}<extra></extra>",
         "legendgroup": "Task Number 8",
         "marker": {
          "color": "#FF97FF"
         },
         "name": "Task Number 8",
         "offsetgroup": "Task Number 8",
         "orientation": "h",
         "showlegend": true,
         "textposition": "auto",
         "type": "bar",
         "x": [
          86400000
         ],
         "xaxis": "x",
         "y": [
          "George"
         ],
         "yaxis": "y"
        },
        {
         "alignmentgroup": "True",
         "base": [
          "2020-09-06"
         ],
         "hovertemplate": "Task=Task Number 9<br>Start=%{base}<br>Finish=%{x}<br>Human=%{y}<extra></extra>",
         "legendgroup": "Task Number 9",
         "marker": {
          "color": "#FECB52"
         },
         "name": "Task Number 9",
         "offsetgroup": "Task Number 9",
         "orientation": "h",
         "showlegend": true,
         "textposition": "auto",
         "type": "bar",
         "x": [
          172800000
         ],
         "xaxis": "x",
         "y": [
          "Anthony"
         ],
         "yaxis": "y"
        },
        {
         "alignmentgroup": "True",
         "base": [
          "2020-08-29"
         ],
         "hovertemplate": "Task=Task Number 10<br>Start=%{base}<br>Finish=%{x}<br>Human=%{y}<extra></extra>",
         "legendgroup": "Task Number 10",
         "marker": {
          "color": "#636efa"
         },
         "name": "Task Number 10",
         "offsetgroup": "Task Number 10",
         "orientation": "h",
         "showlegend": true,
         "textposition": "auto",
         "type": "bar",
         "x": [
          172800000
         ],
         "xaxis": "x",
         "y": [
          "Ron"
         ],
         "yaxis": "y"
        },
        {
         "alignmentgroup": "True",
         "base": [
          "2020-09-01"
         ],
         "hovertemplate": "Task=Task Number 11<br>Start=%{base}<br>Finish=%{x}<br>Human=%{y}<extra></extra>",
         "legendgroup": "Task Number 11",
         "marker": {
          "color": "#EF553B"
         },
         "name": "Task Number 11",
         "offsetgroup": "Task Number 11",
         "orientation": "h",
         "showlegend": true,
         "textposition": "auto",
         "type": "bar",
         "x": [
          86400000
         ],
         "xaxis": "x",
         "y": [
          "Ron"
         ],
         "yaxis": "y"
        },
        {
         "alignmentgroup": "True",
         "base": [
          "2020-09-03"
         ],
         "hovertemplate": "Task=Task Number 12<br>Start=%{base}<br>Finish=%{x}<br>Human=%{y}<extra></extra>",
         "legendgroup": "Task Number 12",
         "marker": {
          "color": "#00cc96"
         },
         "name": "Task Number 12",
         "offsetgroup": "Task Number 12",
         "orientation": "h",
         "showlegend": true,
         "textposition": "auto",
         "type": "bar",
         "x": [
          86400000
         ],
         "xaxis": "x",
         "y": [
          "Ron"
         ],
         "yaxis": "y"
        },
        {
         "alignmentgroup": "True",
         "base": [
          "2020-08-29"
         ],
         "hovertemplate": "Task=Task Number 13<br>Start=%{base}<br>Finish=%{x}<br>Human=%{y}<extra></extra>",
         "legendgroup": "Task Number 13",
         "marker": {
          "color": "#ab63fa"
         },
         "name": "Task Number 13",
         "offsetgroup": "Task Number 13",
         "orientation": "h",
         "showlegend": true,
         "textposition": "auto",
         "type": "bar",
         "x": [
          86400000
         ],
         "xaxis": "x",
         "y": [
          "George"
         ],
         "yaxis": "y"
        },
        {
         "alignmentgroup": "True",
         "base": [
          "2020-08-31"
         ],
         "hovertemplate": "Task=Task Number 14<br>Start=%{base}<br>Finish=%{x}<br>Human=%{y}<extra></extra>",
         "legendgroup": "Task Number 14",
         "marker": {
          "color": "#FFA15A"
         },
         "name": "Task Number 14",
         "offsetgroup": "Task Number 14",
         "orientation": "h",
         "showlegend": true,
         "textposition": "auto",
         "type": "bar",
         "x": [
          172800000
         ],
         "xaxis": "x",
         "y": [
          "George"
         ],
         "yaxis": "y"
        },
        {
         "alignmentgroup": "True",
         "base": [
          "2020-09-03"
         ],
         "hovertemplate": "Task=Task Number 15<br>Start=%{base}<br>Finish=%{x}<br>Human=%{y}<extra></extra>",
         "legendgroup": "Task Number 15",
         "marker": {
          "color": "#19d3f3"
         },
         "name": "Task Number 15",
         "offsetgroup": "Task Number 15",
         "orientation": "h",
         "showlegend": true,
         "textposition": "auto",
         "type": "bar",
         "x": [
          86400000
         ],
         "xaxis": "x",
         "y": [
          "George"
         ],
         "yaxis": "y"
        },
        {
         "alignmentgroup": "True",
         "base": [
          "2020-09-04"
         ],
         "hovertemplate": "Task=Task Number 16<br>Start=%{base}<br>Finish=%{x}<br>Human=%{y}<extra></extra>",
         "legendgroup": "Task Number 16",
         "marker": {
          "color": "#FF6692"
         },
         "name": "Task Number 16",
         "offsetgroup": "Task Number 16",
         "orientation": "h",
         "showlegend": true,
         "textposition": "auto",
         "type": "bar",
         "x": [
          86400000
         ],
         "xaxis": "x",
         "y": [
          "Elizabeth"
         ],
         "yaxis": "y"
        },
        {
         "alignmentgroup": "True",
         "base": [
          "2020-09-06"
         ],
         "hovertemplate": "Task=Task Number 17<br>Start=%{base}<br>Finish=%{x}<br>Human=%{y}<extra></extra>",
         "legendgroup": "Task Number 17",
         "marker": {
          "color": "#B6E880"
         },
         "name": "Task Number 17",
         "offsetgroup": "Task Number 17",
         "orientation": "h",
         "showlegend": true,
         "textposition": "auto",
         "type": "bar",
         "x": [
          172800000
         ],
         "xaxis": "x",
         "y": [
          "Elizabeth"
         ],
         "yaxis": "y"
        },
        {
         "alignmentgroup": "True",
         "base": [
          "2020-09-09"
         ],
         "hovertemplate": "Task=Task Number 18<br>Start=%{base}<br>Finish=%{x}<br>Human=%{y}<extra></extra>",
         "legendgroup": "Task Number 18",
         "marker": {
          "color": "#FF97FF"
         },
         "name": "Task Number 18",
         "offsetgroup": "Task Number 18",
         "orientation": "h",
         "showlegend": true,
         "textposition": "auto",
         "type": "bar",
         "x": [
          172800000
         ],
         "xaxis": "x",
         "y": [
          "Elizabeth"
         ],
         "yaxis": "y"
        },
        {
         "alignmentgroup": "True",
         "base": [
          "2020-09-05"
         ],
         "hovertemplate": "Task=Task Number 19<br>Start=%{base}<br>Finish=%{x}<br>Human=%{y}<extra></extra>",
         "legendgroup": "Task Number 19",
         "marker": {
          "color": "#FECB52"
         },
         "name": "Task Number 19",
         "offsetgroup": "Task Number 19",
         "orientation": "h",
         "showlegend": true,
         "textposition": "auto",
         "type": "bar",
         "x": [
          172800000
         ],
         "xaxis": "x",
         "y": [
          "George"
         ],
         "yaxis": "y"
        },
        {
         "alignmentgroup": "True",
         "base": [
          "2020-09-05"
         ],
         "hovertemplate": "Task=Task Number 20<br>Start=%{base}<br>Finish=%{x}<br>Human=%{y}<extra></extra>",
         "legendgroup": "Task Number 20",
         "marker": {
          "color": "#636efa"
         },
         "name": "Task Number 20",
         "offsetgroup": "Task Number 20",
         "orientation": "h",
         "showlegend": true,
         "textposition": "auto",
         "type": "bar",
         "x": [
          86400000
         ],
         "xaxis": "x",
         "y": [
          "Ron"
         ],
         "yaxis": "y"
        },
        {
         "alignmentgroup": "True",
         "base": [
          "2020-09-09"
         ],
         "hovertemplate": "Task=Task Number 21<br>Start=%{base}<br>Finish=%{x}<br>Human=%{y}<extra></extra>",
         "legendgroup": "Task Number 21",
         "marker": {
          "color": "#EF553B"
         },
         "name": "Task Number 21",
         "offsetgroup": "Task Number 21",
         "orientation": "h",
         "showlegend": true,
         "textposition": "auto",
         "type": "bar",
         "x": [
          86400000
         ],
         "xaxis": "x",
         "y": [
          "Anthony"
         ],
         "yaxis": "y"
        },
        {
         "alignmentgroup": "True",
         "base": [
          "2020-09-11"
         ],
         "hovertemplate": "Task=Task Number 22<br>Start=%{base}<br>Finish=%{x}<br>Human=%{y}<extra></extra>",
         "legendgroup": "Task Number 22",
         "marker": {
          "color": "#00cc96"
         },
         "name": "Task Number 22",
         "offsetgroup": "Task Number 22",
         "orientation": "h",
         "showlegend": true,
         "textposition": "auto",
         "type": "bar",
         "x": [
          86400000
         ],
         "xaxis": "x",
         "y": [
          "Anthony"
         ],
         "yaxis": "y"
        },
        {
         "alignmentgroup": "True",
         "base": [
          "2020-09-07"
         ],
         "hovertemplate": "Task=Task Number 23<br>Start=%{base}<br>Finish=%{x}<br>Human=%{y}<extra></extra>",
         "legendgroup": "Task Number 23",
         "marker": {
          "color": "#ab63fa"
         },
         "name": "Task Number 23",
         "offsetgroup": "Task Number 23",
         "orientation": "h",
         "showlegend": true,
         "textposition": "auto",
         "type": "bar",
         "x": [
          86400000
         ],
         "xaxis": "x",
         "y": [
          "Ron"
         ],
         "yaxis": "y"
        },
        {
         "alignmentgroup": "True",
         "base": [
          "2020-09-08"
         ],
         "hovertemplate": "Task=Task Number 24<br>Start=%{base}<br>Finish=%{x}<br>Human=%{y}<extra></extra>",
         "legendgroup": "Task Number 24",
         "marker": {
          "color": "#FFA15A"
         },
         "name": "Task Number 24",
         "offsetgroup": "Task Number 24",
         "orientation": "h",
         "showlegend": true,
         "textposition": "auto",
         "type": "bar",
         "x": [
          172800000
         ],
         "xaxis": "x",
         "y": [
          "George"
         ],
         "yaxis": "y"
        },
        {
         "alignmentgroup": "True",
         "base": [
          "2020-09-12"
         ],
         "hovertemplate": "Task=Task Number 25<br>Start=%{base}<br>Finish=%{x}<br>Human=%{y}<extra></extra>",
         "legendgroup": "Task Number 25",
         "marker": {
          "color": "#19d3f3"
         },
         "name": "Task Number 25",
         "offsetgroup": "Task Number 25",
         "orientation": "h",
         "showlegend": true,
         "textposition": "auto",
         "type": "bar",
         "x": [
          172800000
         ],
         "xaxis": "x",
         "y": [
          "Elizabeth"
         ],
         "yaxis": "y"
        },
        {
         "alignmentgroup": "True",
         "base": [
          "2020-09-13"
         ],
         "hovertemplate": "Task=Task Number 26<br>Start=%{base}<br>Finish=%{x}<br>Human=%{y}<extra></extra>",
         "legendgroup": "Task Number 26",
         "marker": {
          "color": "#FF6692"
         },
         "name": "Task Number 26",
         "offsetgroup": "Task Number 26",
         "orientation": "h",
         "showlegend": true,
         "textposition": "auto",
         "type": "bar",
         "x": [
          86400000
         ],
         "xaxis": "x",
         "y": [
          "Anthony"
         ],
         "yaxis": "y"
        },
        {
         "alignmentgroup": "True",
         "base": [
          "2020-09-09"
         ],
         "hovertemplate": "Task=Task Number 27<br>Start=%{base}<br>Finish=%{x}<br>Human=%{y}<extra></extra>",
         "legendgroup": "Task Number 27",
         "marker": {
          "color": "#B6E880"
         },
         "name": "Task Number 27",
         "offsetgroup": "Task Number 27",
         "orientation": "h",
         "showlegend": true,
         "textposition": "auto",
         "type": "bar",
         "x": [
          172800000
         ],
         "xaxis": "x",
         "y": [
          "Ron"
         ],
         "yaxis": "y"
        },
        {
         "alignmentgroup": "True",
         "base": [
          "2020-09-11"
         ],
         "hovertemplate": "Task=Task Number 28<br>Start=%{base}<br>Finish=%{x}<br>Human=%{y}<extra></extra>",
         "legendgroup": "Task Number 28",
         "marker": {
          "color": "#FF97FF"
         },
         "name": "Task Number 28",
         "offsetgroup": "Task Number 28",
         "orientation": "h",
         "showlegend": true,
         "textposition": "auto",
         "type": "bar",
         "x": [
          172800000
         ],
         "xaxis": "x",
         "y": [
          "George"
         ],
         "yaxis": "y"
        },
        {
         "alignmentgroup": "True",
         "base": [
          "2020-09-12"
         ],
         "hovertemplate": "Task=Task Number 29<br>Start=%{base}<br>Finish=%{x}<br>Human=%{y}<extra></extra>",
         "legendgroup": "Task Number 29",
         "marker": {
          "color": "#FECB52"
         },
         "name": "Task Number 29",
         "offsetgroup": "Task Number 29",
         "orientation": "h",
         "showlegend": true,
         "textposition": "auto",
         "type": "bar",
         "x": [
          86400000
         ],
         "xaxis": "x",
         "y": [
          "Ron"
         ],
         "yaxis": "y"
        }
       ],
       "layout": {
        "barmode": "overlay",
        "height": 300,
        "legend": {
         "title": {
          "text": "Task"
         },
         "tracegroupgap": 0
        },
        "template": {
         "data": {
          "bar": [
           {
            "error_x": {
             "color": "#2a3f5f"
            },
            "error_y": {
             "color": "#2a3f5f"
            },
            "marker": {
             "line": {
              "color": "#E5ECF6",
              "width": 0.5
             }
            },
            "type": "bar"
           }
          ],
          "barpolar": [
           {
            "marker": {
             "line": {
              "color": "#E5ECF6",
              "width": 0.5
             }
            },
            "type": "barpolar"
           }
          ],
          "carpet": [
           {
            "aaxis": {
             "endlinecolor": "#2a3f5f",
             "gridcolor": "white",
             "linecolor": "white",
             "minorgridcolor": "white",
             "startlinecolor": "#2a3f5f"
            },
            "baxis": {
             "endlinecolor": "#2a3f5f",
             "gridcolor": "white",
             "linecolor": "white",
             "minorgridcolor": "white",
             "startlinecolor": "#2a3f5f"
            },
            "type": "carpet"
           }
          ],
          "choropleth": [
           {
            "colorbar": {
             "outlinewidth": 0,
             "ticks": ""
            },
            "type": "choropleth"
           }
          ],
          "contour": [
           {
            "colorbar": {
             "outlinewidth": 0,
             "ticks": ""
            },
            "colorscale": [
             [
              0,
              "#0d0887"
             ],
             [
              0.1111111111111111,
              "#46039f"
             ],
             [
              0.2222222222222222,
              "#7201a8"
             ],
             [
              0.3333333333333333,
              "#9c179e"
             ],
             [
              0.4444444444444444,
              "#bd3786"
             ],
             [
              0.5555555555555556,
              "#d8576b"
             ],
             [
              0.6666666666666666,
              "#ed7953"
             ],
             [
              0.7777777777777778,
              "#fb9f3a"
             ],
             [
              0.8888888888888888,
              "#fdca26"
             ],
             [
              1,
              "#f0f921"
             ]
            ],
            "type": "contour"
           }
          ],
          "contourcarpet": [
           {
            "colorbar": {
             "outlinewidth": 0,
             "ticks": ""
            },
            "type": "contourcarpet"
           }
          ],
          "heatmap": [
           {
            "colorbar": {
             "outlinewidth": 0,
             "ticks": ""
            },
            "colorscale": [
             [
              0,
              "#0d0887"
             ],
             [
              0.1111111111111111,
              "#46039f"
             ],
             [
              0.2222222222222222,
              "#7201a8"
             ],
             [
              0.3333333333333333,
              "#9c179e"
             ],
             [
              0.4444444444444444,
              "#bd3786"
             ],
             [
              0.5555555555555556,
              "#d8576b"
             ],
             [
              0.6666666666666666,
              "#ed7953"
             ],
             [
              0.7777777777777778,
              "#fb9f3a"
             ],
             [
              0.8888888888888888,
              "#fdca26"
             ],
             [
              1,
              "#f0f921"
             ]
            ],
            "type": "heatmap"
           }
          ],
          "heatmapgl": [
           {
            "colorbar": {
             "outlinewidth": 0,
             "ticks": ""
            },
            "colorscale": [
             [
              0,
              "#0d0887"
             ],
             [
              0.1111111111111111,
              "#46039f"
             ],
             [
              0.2222222222222222,
              "#7201a8"
             ],
             [
              0.3333333333333333,
              "#9c179e"
             ],
             [
              0.4444444444444444,
              "#bd3786"
             ],
             [
              0.5555555555555556,
              "#d8576b"
             ],
             [
              0.6666666666666666,
              "#ed7953"
             ],
             [
              0.7777777777777778,
              "#fb9f3a"
             ],
             [
              0.8888888888888888,
              "#fdca26"
             ],
             [
              1,
              "#f0f921"
             ]
            ],
            "type": "heatmapgl"
           }
          ],
          "histogram": [
           {
            "marker": {
             "colorbar": {
              "outlinewidth": 0,
              "ticks": ""
             }
            },
            "type": "histogram"
           }
          ],
          "histogram2d": [
           {
            "colorbar": {
             "outlinewidth": 0,
             "ticks": ""
            },
            "colorscale": [
             [
              0,
              "#0d0887"
             ],
             [
              0.1111111111111111,
              "#46039f"
             ],
             [
              0.2222222222222222,
              "#7201a8"
             ],
             [
              0.3333333333333333,
              "#9c179e"
             ],
             [
              0.4444444444444444,
              "#bd3786"
             ],
             [
              0.5555555555555556,
              "#d8576b"
             ],
             [
              0.6666666666666666,
              "#ed7953"
             ],
             [
              0.7777777777777778,
              "#fb9f3a"
             ],
             [
              0.8888888888888888,
              "#fdca26"
             ],
             [
              1,
              "#f0f921"
             ]
            ],
            "type": "histogram2d"
           }
          ],
          "histogram2dcontour": [
           {
            "colorbar": {
             "outlinewidth": 0,
             "ticks": ""
            },
            "colorscale": [
             [
              0,
              "#0d0887"
             ],
             [
              0.1111111111111111,
              "#46039f"
             ],
             [
              0.2222222222222222,
              "#7201a8"
             ],
             [
              0.3333333333333333,
              "#9c179e"
             ],
             [
              0.4444444444444444,
              "#bd3786"
             ],
             [
              0.5555555555555556,
              "#d8576b"
             ],
             [
              0.6666666666666666,
              "#ed7953"
             ],
             [
              0.7777777777777778,
              "#fb9f3a"
             ],
             [
              0.8888888888888888,
              "#fdca26"
             ],
             [
              1,
              "#f0f921"
             ]
            ],
            "type": "histogram2dcontour"
           }
          ],
          "mesh3d": [
           {
            "colorbar": {
             "outlinewidth": 0,
             "ticks": ""
            },
            "type": "mesh3d"
           }
          ],
          "parcoords": [
           {
            "line": {
             "colorbar": {
              "outlinewidth": 0,
              "ticks": ""
             }
            },
            "type": "parcoords"
           }
          ],
          "pie": [
           {
            "automargin": true,
            "type": "pie"
           }
          ],
          "scatter": [
           {
            "marker": {
             "colorbar": {
              "outlinewidth": 0,
              "ticks": ""
             }
            },
            "type": "scatter"
           }
          ],
          "scatter3d": [
           {
            "line": {
             "colorbar": {
              "outlinewidth": 0,
              "ticks": ""
             }
            },
            "marker": {
             "colorbar": {
              "outlinewidth": 0,
              "ticks": ""
             }
            },
            "type": "scatter3d"
           }
          ],
          "scattercarpet": [
           {
            "marker": {
             "colorbar": {
              "outlinewidth": 0,
              "ticks": ""
             }
            },
            "type": "scattercarpet"
           }
          ],
          "scattergeo": [
           {
            "marker": {
             "colorbar": {
              "outlinewidth": 0,
              "ticks": ""
             }
            },
            "type": "scattergeo"
           }
          ],
          "scattergl": [
           {
            "marker": {
             "colorbar": {
              "outlinewidth": 0,
              "ticks": ""
             }
            },
            "type": "scattergl"
           }
          ],
          "scattermapbox": [
           {
            "marker": {
             "colorbar": {
              "outlinewidth": 0,
              "ticks": ""
             }
            },
            "type": "scattermapbox"
           }
          ],
          "scatterpolar": [
           {
            "marker": {
             "colorbar": {
              "outlinewidth": 0,
              "ticks": ""
             }
            },
            "type": "scatterpolar"
           }
          ],
          "scatterpolargl": [
           {
            "marker": {
             "colorbar": {
              "outlinewidth": 0,
              "ticks": ""
             }
            },
            "type": "scatterpolargl"
           }
          ],
          "scatterternary": [
           {
            "marker": {
             "colorbar": {
              "outlinewidth": 0,
              "ticks": ""
             }
            },
            "type": "scatterternary"
           }
          ],
          "surface": [
           {
            "colorbar": {
             "outlinewidth": 0,
             "ticks": ""
            },
            "colorscale": [
             [
              0,
              "#0d0887"
             ],
             [
              0.1111111111111111,
              "#46039f"
             ],
             [
              0.2222222222222222,
              "#7201a8"
             ],
             [
              0.3333333333333333,
              "#9c179e"
             ],
             [
              0.4444444444444444,
              "#bd3786"
             ],
             [
              0.5555555555555556,
              "#d8576b"
             ],
             [
              0.6666666666666666,
              "#ed7953"
             ],
             [
              0.7777777777777778,
              "#fb9f3a"
             ],
             [
              0.8888888888888888,
              "#fdca26"
             ],
             [
              1,
              "#f0f921"
             ]
            ],
            "type": "surface"
           }
          ],
          "table": [
           {
            "cells": {
             "fill": {
              "color": "#EBF0F8"
             },
             "line": {
              "color": "white"
             }
            },
            "header": {
             "fill": {
              "color": "#C8D4E3"
             },
             "line": {
              "color": "white"
             }
            },
            "type": "table"
           }
          ]
         },
         "layout": {
          "annotationdefaults": {
           "arrowcolor": "#2a3f5f",
           "arrowhead": 0,
           "arrowwidth": 1
          },
          "coloraxis": {
           "colorbar": {
            "outlinewidth": 0,
            "ticks": ""
           }
          },
          "colorscale": {
           "diverging": [
            [
             0,
             "#8e0152"
            ],
            [
             0.1,
             "#c51b7d"
            ],
            [
             0.2,
             "#de77ae"
            ],
            [
             0.3,
             "#f1b6da"
            ],
            [
             0.4,
             "#fde0ef"
            ],
            [
             0.5,
             "#f7f7f7"
            ],
            [
             0.6,
             "#e6f5d0"
            ],
            [
             0.7,
             "#b8e186"
            ],
            [
             0.8,
             "#7fbc41"
            ],
            [
             0.9,
             "#4d9221"
            ],
            [
             1,
             "#276419"
            ]
           ],
           "sequential": [
            [
             0,
             "#0d0887"
            ],
            [
             0.1111111111111111,
             "#46039f"
            ],
            [
             0.2222222222222222,
             "#7201a8"
            ],
            [
             0.3333333333333333,
             "#9c179e"
            ],
            [
             0.4444444444444444,
             "#bd3786"
            ],
            [
             0.5555555555555556,
             "#d8576b"
            ],
            [
             0.6666666666666666,
             "#ed7953"
            ],
            [
             0.7777777777777778,
             "#fb9f3a"
            ],
            [
             0.8888888888888888,
             "#fdca26"
            ],
            [
             1,
             "#f0f921"
            ]
           ],
           "sequentialminus": [
            [
             0,
             "#0d0887"
            ],
            [
             0.1111111111111111,
             "#46039f"
            ],
            [
             0.2222222222222222,
             "#7201a8"
            ],
            [
             0.3333333333333333,
             "#9c179e"
            ],
            [
             0.4444444444444444,
             "#bd3786"
            ],
            [
             0.5555555555555556,
             "#d8576b"
            ],
            [
             0.6666666666666666,
             "#ed7953"
            ],
            [
             0.7777777777777778,
             "#fb9f3a"
            ],
            [
             0.8888888888888888,
             "#fdca26"
            ],
            [
             1,
             "#f0f921"
            ]
           ]
          },
          "colorway": [
           "#636efa",
           "#EF553B",
           "#00cc96",
           "#ab63fa",
           "#FFA15A",
           "#19d3f3",
           "#FF6692",
           "#B6E880",
           "#FF97FF",
           "#FECB52"
          ],
          "font": {
           "color": "#2a3f5f"
          },
          "geo": {
           "bgcolor": "white",
           "lakecolor": "white",
           "landcolor": "#E5ECF6",
           "showlakes": true,
           "showland": true,
           "subunitcolor": "white"
          },
          "hoverlabel": {
           "align": "left"
          },
          "hovermode": "closest",
          "mapbox": {
           "style": "light"
          },
          "paper_bgcolor": "white",
          "plot_bgcolor": "#E5ECF6",
          "polar": {
           "angularaxis": {
            "gridcolor": "white",
            "linecolor": "white",
            "ticks": ""
           },
           "bgcolor": "#E5ECF6",
           "radialaxis": {
            "gridcolor": "white",
            "linecolor": "white",
            "ticks": ""
           }
          },
          "scene": {
           "xaxis": {
            "backgroundcolor": "#E5ECF6",
            "gridcolor": "white",
            "gridwidth": 2,
            "linecolor": "white",
            "showbackground": true,
            "ticks": "",
            "zerolinecolor": "white"
           },
           "yaxis": {
            "backgroundcolor": "#E5ECF6",
            "gridcolor": "white",
            "gridwidth": 2,
            "linecolor": "white",
            "showbackground": true,
            "ticks": "",
            "zerolinecolor": "white"
           },
           "zaxis": {
            "backgroundcolor": "#E5ECF6",
            "gridcolor": "white",
            "gridwidth": 2,
            "linecolor": "white",
            "showbackground": true,
            "ticks": "",
            "zerolinecolor": "white"
           }
          },
          "shapedefaults": {
           "line": {
            "color": "#2a3f5f"
           }
          },
          "ternary": {
           "aaxis": {
            "gridcolor": "white",
            "linecolor": "white",
            "ticks": ""
           },
           "baxis": {
            "gridcolor": "white",
            "linecolor": "white",
            "ticks": ""
           },
           "bgcolor": "#E5ECF6",
           "caxis": {
            "gridcolor": "white",
            "linecolor": "white",
            "ticks": ""
           }
          },
          "title": {
           "x": 0.05
          },
          "xaxis": {
           "automargin": true,
           "gridcolor": "white",
           "linecolor": "white",
           "ticks": "",
           "title": {
            "standoff": 15
           },
           "zerolinecolor": "white",
           "zerolinewidth": 2
          },
          "yaxis": {
           "automargin": true,
           "gridcolor": "white",
           "linecolor": "white",
           "ticks": "",
           "title": {
            "standoff": 15
           },
           "zerolinecolor": "white",
           "zerolinewidth": 2
          }
         }
        },
        "title": {
         "text": "Optimal Schedule"
        },
        "xaxis": {
         "anchor": "y",
         "domain": [
          0,
          1
         ],
         "type": "date"
        },
        "yaxis": {
         "anchor": "x",
         "domain": [
          0,
          1
         ],
         "title": {
          "text": "Human"
         }
        }
       }
      },
      "text/html": [
       "<div>\n",
       "        \n",
       "        \n",
       "            <div id=\"fde702af-09e8-4017-aa96-b06ae334ffd0\" class=\"plotly-graph-div\" style=\"height:300px; width:100%;\"></div>\n",
       "            <script type=\"text/javascript\">\n",
       "                require([\"plotly\"], function(Plotly) {\n",
       "                    window.PLOTLYENV=window.PLOTLYENV || {};\n",
       "                    \n",
       "                if (document.getElementById(\"fde702af-09e8-4017-aa96-b06ae334ffd0\")) {\n",
       "                    Plotly.newPlot(\n",
       "                        'fde702af-09e8-4017-aa96-b06ae334ffd0',\n",
       "                        [{\"alignmentgroup\": \"True\", \"base\": [\"2020-08-27\"], \"hovertemplate\": \"Task=Task Number 0<br>Start=%{base}<br>Finish=%{x}<br>Human=%{y}<extra></extra>\", \"legendgroup\": \"Task Number 0\", \"marker\": {\"color\": \"#636efa\"}, \"name\": \"Task Number 0\", \"offsetgroup\": \"Task Number 0\", \"orientation\": \"h\", \"showlegend\": true, \"textposition\": \"auto\", \"type\": \"bar\", \"x\": [172800000.0], \"xaxis\": \"x\", \"y\": [\"Elizabeth\"], \"yaxis\": \"y\"}, {\"alignmentgroup\": \"True\", \"base\": [\"2020-08-27\"], \"hovertemplate\": \"Task=Task Number 1<br>Start=%{base}<br>Finish=%{x}<br>Human=%{y}<extra></extra>\", \"legendgroup\": \"Task Number 1\", \"marker\": {\"color\": \"#EF553B\"}, \"name\": \"Task Number 1\", \"offsetgroup\": \"Task Number 1\", \"orientation\": \"h\", \"showlegend\": true, \"textposition\": \"auto\", \"type\": \"bar\", \"x\": [86400000.0], \"xaxis\": \"x\", \"y\": [\"Ron\"], \"yaxis\": \"y\"}, {\"alignmentgroup\": \"True\", \"base\": [\"2020-08-27\"], \"hovertemplate\": \"Task=Task Number 2<br>Start=%{base}<br>Finish=%{x}<br>Human=%{y}<extra></extra>\", \"legendgroup\": \"Task Number 2\", \"marker\": {\"color\": \"#00cc96\"}, \"name\": \"Task Number 2\", \"offsetgroup\": \"Task Number 2\", \"orientation\": \"h\", \"showlegend\": true, \"textposition\": \"auto\", \"type\": \"bar\", \"x\": [172800000.0], \"xaxis\": \"x\", \"y\": [\"Anthony\"], \"yaxis\": \"y\"}, {\"alignmentgroup\": \"True\", \"base\": [\"2020-08-30\"], \"hovertemplate\": \"Task=Task Number 3<br>Start=%{base}<br>Finish=%{x}<br>Human=%{y}<extra></extra>\", \"legendgroup\": \"Task Number 3\", \"marker\": {\"color\": \"#ab63fa\"}, \"name\": \"Task Number 3\", \"offsetgroup\": \"Task Number 3\", \"orientation\": \"h\", \"showlegend\": true, \"textposition\": \"auto\", \"type\": \"bar\", \"x\": [172800000.0], \"xaxis\": \"x\", \"y\": [\"Anthony\"], \"yaxis\": \"y\"}, {\"alignmentgroup\": \"True\", \"base\": [\"2020-09-02\"], \"hovertemplate\": \"Task=Task Number 4<br>Start=%{base}<br>Finish=%{x}<br>Human=%{y}<extra></extra>\", \"legendgroup\": \"Task Number 4\", \"marker\": {\"color\": \"#FFA15A\"}, \"name\": \"Task Number 4\", \"offsetgroup\": \"Task Number 4\", \"orientation\": \"h\", \"showlegend\": true, \"textposition\": \"auto\", \"type\": \"bar\", \"x\": [86400000.0], \"xaxis\": \"x\", \"y\": [\"Anthony\"], \"yaxis\": \"y\"}, {\"alignmentgroup\": \"True\", \"base\": [\"2020-09-04\"], \"hovertemplate\": \"Task=Task Number 5<br>Start=%{base}<br>Finish=%{x}<br>Human=%{y}<extra></extra>\", \"legendgroup\": \"Task Number 5\", \"marker\": {\"color\": \"#19d3f3\"}, \"name\": \"Task Number 5\", \"offsetgroup\": \"Task Number 5\", \"orientation\": \"h\", \"showlegend\": true, \"textposition\": \"auto\", \"type\": \"bar\", \"x\": [86400000.0], \"xaxis\": \"x\", \"y\": [\"Anthony\"], \"yaxis\": \"y\"}, {\"alignmentgroup\": \"True\", \"base\": [\"2020-08-30\"], \"hovertemplate\": \"Task=Task Number 6<br>Start=%{base}<br>Finish=%{x}<br>Human=%{y}<extra></extra>\", \"legendgroup\": \"Task Number 6\", \"marker\": {\"color\": \"#FF6692\"}, \"name\": \"Task Number 6\", \"offsetgroup\": \"Task Number 6\", \"orientation\": \"h\", \"showlegend\": true, \"textposition\": \"auto\", \"type\": \"bar\", \"x\": [86400000.0], \"xaxis\": \"x\", \"y\": [\"Elizabeth\"], \"yaxis\": \"y\"}, {\"alignmentgroup\": \"True\", \"base\": [\"2020-09-01\"], \"hovertemplate\": \"Task=Task Number 7<br>Start=%{base}<br>Finish=%{x}<br>Human=%{y}<extra></extra>\", \"legendgroup\": \"Task Number 7\", \"marker\": {\"color\": \"#B6E880\"}, \"name\": \"Task Number 7\", \"offsetgroup\": \"Task Number 7\", \"orientation\": \"h\", \"showlegend\": true, \"textposition\": \"auto\", \"type\": \"bar\", \"x\": [172800000.0], \"xaxis\": \"x\", \"y\": [\"Elizabeth\"], \"yaxis\": \"y\"}, {\"alignmentgroup\": \"True\", \"base\": [\"2020-08-27\"], \"hovertemplate\": \"Task=Task Number 8<br>Start=%{base}<br>Finish=%{x}<br>Human=%{y}<extra></extra>\", \"legendgroup\": \"Task Number 8\", \"marker\": {\"color\": \"#FF97FF\"}, \"name\": \"Task Number 8\", \"offsetgroup\": \"Task Number 8\", \"orientation\": \"h\", \"showlegend\": true, \"textposition\": \"auto\", \"type\": \"bar\", \"x\": [86400000.0], \"xaxis\": \"x\", \"y\": [\"George\"], \"yaxis\": \"y\"}, {\"alignmentgroup\": \"True\", \"base\": [\"2020-09-06\"], \"hovertemplate\": \"Task=Task Number 9<br>Start=%{base}<br>Finish=%{x}<br>Human=%{y}<extra></extra>\", \"legendgroup\": \"Task Number 9\", \"marker\": {\"color\": \"#FECB52\"}, \"name\": \"Task Number 9\", \"offsetgroup\": \"Task Number 9\", \"orientation\": \"h\", \"showlegend\": true, \"textposition\": \"auto\", \"type\": \"bar\", \"x\": [172800000.0], \"xaxis\": \"x\", \"y\": [\"Anthony\"], \"yaxis\": \"y\"}, {\"alignmentgroup\": \"True\", \"base\": [\"2020-08-29\"], \"hovertemplate\": \"Task=Task Number 10<br>Start=%{base}<br>Finish=%{x}<br>Human=%{y}<extra></extra>\", \"legendgroup\": \"Task Number 10\", \"marker\": {\"color\": \"#636efa\"}, \"name\": \"Task Number 10\", \"offsetgroup\": \"Task Number 10\", \"orientation\": \"h\", \"showlegend\": true, \"textposition\": \"auto\", \"type\": \"bar\", \"x\": [172800000.0], \"xaxis\": \"x\", \"y\": [\"Ron\"], \"yaxis\": \"y\"}, {\"alignmentgroup\": \"True\", \"base\": [\"2020-09-01\"], \"hovertemplate\": \"Task=Task Number 11<br>Start=%{base}<br>Finish=%{x}<br>Human=%{y}<extra></extra>\", \"legendgroup\": \"Task Number 11\", \"marker\": {\"color\": \"#EF553B\"}, \"name\": \"Task Number 11\", \"offsetgroup\": \"Task Number 11\", \"orientation\": \"h\", \"showlegend\": true, \"textposition\": \"auto\", \"type\": \"bar\", \"x\": [86400000.0], \"xaxis\": \"x\", \"y\": [\"Ron\"], \"yaxis\": \"y\"}, {\"alignmentgroup\": \"True\", \"base\": [\"2020-09-03\"], \"hovertemplate\": \"Task=Task Number 12<br>Start=%{base}<br>Finish=%{x}<br>Human=%{y}<extra></extra>\", \"legendgroup\": \"Task Number 12\", \"marker\": {\"color\": \"#00cc96\"}, \"name\": \"Task Number 12\", \"offsetgroup\": \"Task Number 12\", \"orientation\": \"h\", \"showlegend\": true, \"textposition\": \"auto\", \"type\": \"bar\", \"x\": [86400000.0], \"xaxis\": \"x\", \"y\": [\"Ron\"], \"yaxis\": \"y\"}, {\"alignmentgroup\": \"True\", \"base\": [\"2020-08-29\"], \"hovertemplate\": \"Task=Task Number 13<br>Start=%{base}<br>Finish=%{x}<br>Human=%{y}<extra></extra>\", \"legendgroup\": \"Task Number 13\", \"marker\": {\"color\": \"#ab63fa\"}, \"name\": \"Task Number 13\", \"offsetgroup\": \"Task Number 13\", \"orientation\": \"h\", \"showlegend\": true, \"textposition\": \"auto\", \"type\": \"bar\", \"x\": [86400000.0], \"xaxis\": \"x\", \"y\": [\"George\"], \"yaxis\": \"y\"}, {\"alignmentgroup\": \"True\", \"base\": [\"2020-08-31\"], \"hovertemplate\": \"Task=Task Number 14<br>Start=%{base}<br>Finish=%{x}<br>Human=%{y}<extra></extra>\", \"legendgroup\": \"Task Number 14\", \"marker\": {\"color\": \"#FFA15A\"}, \"name\": \"Task Number 14\", \"offsetgroup\": \"Task Number 14\", \"orientation\": \"h\", \"showlegend\": true, \"textposition\": \"auto\", \"type\": \"bar\", \"x\": [172800000.0], \"xaxis\": \"x\", \"y\": [\"George\"], \"yaxis\": \"y\"}, {\"alignmentgroup\": \"True\", \"base\": [\"2020-09-03\"], \"hovertemplate\": \"Task=Task Number 15<br>Start=%{base}<br>Finish=%{x}<br>Human=%{y}<extra></extra>\", \"legendgroup\": \"Task Number 15\", \"marker\": {\"color\": \"#19d3f3\"}, \"name\": \"Task Number 15\", \"offsetgroup\": \"Task Number 15\", \"orientation\": \"h\", \"showlegend\": true, \"textposition\": \"auto\", \"type\": \"bar\", \"x\": [86400000.0], \"xaxis\": \"x\", \"y\": [\"George\"], \"yaxis\": \"y\"}, {\"alignmentgroup\": \"True\", \"base\": [\"2020-09-04\"], \"hovertemplate\": \"Task=Task Number 16<br>Start=%{base}<br>Finish=%{x}<br>Human=%{y}<extra></extra>\", \"legendgroup\": \"Task Number 16\", \"marker\": {\"color\": \"#FF6692\"}, \"name\": \"Task Number 16\", \"offsetgroup\": \"Task Number 16\", \"orientation\": \"h\", \"showlegend\": true, \"textposition\": \"auto\", \"type\": \"bar\", \"x\": [86400000.0], \"xaxis\": \"x\", \"y\": [\"Elizabeth\"], \"yaxis\": \"y\"}, {\"alignmentgroup\": \"True\", \"base\": [\"2020-09-06\"], \"hovertemplate\": \"Task=Task Number 17<br>Start=%{base}<br>Finish=%{x}<br>Human=%{y}<extra></extra>\", \"legendgroup\": \"Task Number 17\", \"marker\": {\"color\": \"#B6E880\"}, \"name\": \"Task Number 17\", \"offsetgroup\": \"Task Number 17\", \"orientation\": \"h\", \"showlegend\": true, \"textposition\": \"auto\", \"type\": \"bar\", \"x\": [172800000.0], \"xaxis\": \"x\", \"y\": [\"Elizabeth\"], \"yaxis\": \"y\"}, {\"alignmentgroup\": \"True\", \"base\": [\"2020-09-09\"], \"hovertemplate\": \"Task=Task Number 18<br>Start=%{base}<br>Finish=%{x}<br>Human=%{y}<extra></extra>\", \"legendgroup\": \"Task Number 18\", \"marker\": {\"color\": \"#FF97FF\"}, \"name\": \"Task Number 18\", \"offsetgroup\": \"Task Number 18\", \"orientation\": \"h\", \"showlegend\": true, \"textposition\": \"auto\", \"type\": \"bar\", \"x\": [172800000.0], \"xaxis\": \"x\", \"y\": [\"Elizabeth\"], \"yaxis\": \"y\"}, {\"alignmentgroup\": \"True\", \"base\": [\"2020-09-05\"], \"hovertemplate\": \"Task=Task Number 19<br>Start=%{base}<br>Finish=%{x}<br>Human=%{y}<extra></extra>\", \"legendgroup\": \"Task Number 19\", \"marker\": {\"color\": \"#FECB52\"}, \"name\": \"Task Number 19\", \"offsetgroup\": \"Task Number 19\", \"orientation\": \"h\", \"showlegend\": true, \"textposition\": \"auto\", \"type\": \"bar\", \"x\": [172800000.0], \"xaxis\": \"x\", \"y\": [\"George\"], \"yaxis\": \"y\"}, {\"alignmentgroup\": \"True\", \"base\": [\"2020-09-05\"], \"hovertemplate\": \"Task=Task Number 20<br>Start=%{base}<br>Finish=%{x}<br>Human=%{y}<extra></extra>\", \"legendgroup\": \"Task Number 20\", \"marker\": {\"color\": \"#636efa\"}, \"name\": \"Task Number 20\", \"offsetgroup\": \"Task Number 20\", \"orientation\": \"h\", \"showlegend\": true, \"textposition\": \"auto\", \"type\": \"bar\", \"x\": [86400000.0], \"xaxis\": \"x\", \"y\": [\"Ron\"], \"yaxis\": \"y\"}, {\"alignmentgroup\": \"True\", \"base\": [\"2020-09-09\"], \"hovertemplate\": \"Task=Task Number 21<br>Start=%{base}<br>Finish=%{x}<br>Human=%{y}<extra></extra>\", \"legendgroup\": \"Task Number 21\", \"marker\": {\"color\": \"#EF553B\"}, \"name\": \"Task Number 21\", \"offsetgroup\": \"Task Number 21\", \"orientation\": \"h\", \"showlegend\": true, \"textposition\": \"auto\", \"type\": \"bar\", \"x\": [86400000.0], \"xaxis\": \"x\", \"y\": [\"Anthony\"], \"yaxis\": \"y\"}, {\"alignmentgroup\": \"True\", \"base\": [\"2020-09-11\"], \"hovertemplate\": \"Task=Task Number 22<br>Start=%{base}<br>Finish=%{x}<br>Human=%{y}<extra></extra>\", \"legendgroup\": \"Task Number 22\", \"marker\": {\"color\": \"#00cc96\"}, \"name\": \"Task Number 22\", \"offsetgroup\": \"Task Number 22\", \"orientation\": \"h\", \"showlegend\": true, \"textposition\": \"auto\", \"type\": \"bar\", \"x\": [86400000.0], \"xaxis\": \"x\", \"y\": [\"Anthony\"], \"yaxis\": \"y\"}, {\"alignmentgroup\": \"True\", \"base\": [\"2020-09-07\"], \"hovertemplate\": \"Task=Task Number 23<br>Start=%{base}<br>Finish=%{x}<br>Human=%{y}<extra></extra>\", \"legendgroup\": \"Task Number 23\", \"marker\": {\"color\": \"#ab63fa\"}, \"name\": \"Task Number 23\", \"offsetgroup\": \"Task Number 23\", \"orientation\": \"h\", \"showlegend\": true, \"textposition\": \"auto\", \"type\": \"bar\", \"x\": [86400000.0], \"xaxis\": \"x\", \"y\": [\"Ron\"], \"yaxis\": \"y\"}, {\"alignmentgroup\": \"True\", \"base\": [\"2020-09-08\"], \"hovertemplate\": \"Task=Task Number 24<br>Start=%{base}<br>Finish=%{x}<br>Human=%{y}<extra></extra>\", \"legendgroup\": \"Task Number 24\", \"marker\": {\"color\": \"#FFA15A\"}, \"name\": \"Task Number 24\", \"offsetgroup\": \"Task Number 24\", \"orientation\": \"h\", \"showlegend\": true, \"textposition\": \"auto\", \"type\": \"bar\", \"x\": [172800000.0], \"xaxis\": \"x\", \"y\": [\"George\"], \"yaxis\": \"y\"}, {\"alignmentgroup\": \"True\", \"base\": [\"2020-09-12\"], \"hovertemplate\": \"Task=Task Number 25<br>Start=%{base}<br>Finish=%{x}<br>Human=%{y}<extra></extra>\", \"legendgroup\": \"Task Number 25\", \"marker\": {\"color\": \"#19d3f3\"}, \"name\": \"Task Number 25\", \"offsetgroup\": \"Task Number 25\", \"orientation\": \"h\", \"showlegend\": true, \"textposition\": \"auto\", \"type\": \"bar\", \"x\": [172800000.0], \"xaxis\": \"x\", \"y\": [\"Elizabeth\"], \"yaxis\": \"y\"}, {\"alignmentgroup\": \"True\", \"base\": [\"2020-09-13\"], \"hovertemplate\": \"Task=Task Number 26<br>Start=%{base}<br>Finish=%{x}<br>Human=%{y}<extra></extra>\", \"legendgroup\": \"Task Number 26\", \"marker\": {\"color\": \"#FF6692\"}, \"name\": \"Task Number 26\", \"offsetgroup\": \"Task Number 26\", \"orientation\": \"h\", \"showlegend\": true, \"textposition\": \"auto\", \"type\": \"bar\", \"x\": [86400000.0], \"xaxis\": \"x\", \"y\": [\"Anthony\"], \"yaxis\": \"y\"}, {\"alignmentgroup\": \"True\", \"base\": [\"2020-09-09\"], \"hovertemplate\": \"Task=Task Number 27<br>Start=%{base}<br>Finish=%{x}<br>Human=%{y}<extra></extra>\", \"legendgroup\": \"Task Number 27\", \"marker\": {\"color\": \"#B6E880\"}, \"name\": \"Task Number 27\", \"offsetgroup\": \"Task Number 27\", \"orientation\": \"h\", \"showlegend\": true, \"textposition\": \"auto\", \"type\": \"bar\", \"x\": [172800000.0], \"xaxis\": \"x\", \"y\": [\"Ron\"], \"yaxis\": \"y\"}, {\"alignmentgroup\": \"True\", \"base\": [\"2020-09-11\"], \"hovertemplate\": \"Task=Task Number 28<br>Start=%{base}<br>Finish=%{x}<br>Human=%{y}<extra></extra>\", \"legendgroup\": \"Task Number 28\", \"marker\": {\"color\": \"#FF97FF\"}, \"name\": \"Task Number 28\", \"offsetgroup\": \"Task Number 28\", \"orientation\": \"h\", \"showlegend\": true, \"textposition\": \"auto\", \"type\": \"bar\", \"x\": [172800000.0], \"xaxis\": \"x\", \"y\": [\"George\"], \"yaxis\": \"y\"}, {\"alignmentgroup\": \"True\", \"base\": [\"2020-09-12\"], \"hovertemplate\": \"Task=Task Number 29<br>Start=%{base}<br>Finish=%{x}<br>Human=%{y}<extra></extra>\", \"legendgroup\": \"Task Number 29\", \"marker\": {\"color\": \"#FECB52\"}, \"name\": \"Task Number 29\", \"offsetgroup\": \"Task Number 29\", \"orientation\": \"h\", \"showlegend\": true, \"textposition\": \"auto\", \"type\": \"bar\", \"x\": [86400000.0], \"xaxis\": \"x\", \"y\": [\"Ron\"], \"yaxis\": \"y\"}],\n",
       "                        {\"barmode\": \"overlay\", \"height\": 300, \"legend\": {\"title\": {\"text\": \"Task\"}, \"tracegroupgap\": 0}, \"template\": {\"data\": {\"bar\": [{\"error_x\": {\"color\": \"#2a3f5f\"}, \"error_y\": {\"color\": \"#2a3f5f\"}, \"marker\": {\"line\": {\"color\": \"#E5ECF6\", \"width\": 0.5}}, \"type\": \"bar\"}], \"barpolar\": [{\"marker\": {\"line\": {\"color\": \"#E5ECF6\", \"width\": 0.5}}, \"type\": \"barpolar\"}], \"carpet\": [{\"aaxis\": {\"endlinecolor\": \"#2a3f5f\", \"gridcolor\": \"white\", \"linecolor\": \"white\", \"minorgridcolor\": \"white\", \"startlinecolor\": \"#2a3f5f\"}, \"baxis\": {\"endlinecolor\": \"#2a3f5f\", \"gridcolor\": \"white\", \"linecolor\": \"white\", \"minorgridcolor\": \"white\", \"startlinecolor\": \"#2a3f5f\"}, \"type\": \"carpet\"}], \"choropleth\": [{\"colorbar\": {\"outlinewidth\": 0, \"ticks\": \"\"}, \"type\": \"choropleth\"}], \"contour\": [{\"colorbar\": {\"outlinewidth\": 0, \"ticks\": \"\"}, \"colorscale\": [[0.0, \"#0d0887\"], [0.1111111111111111, \"#46039f\"], [0.2222222222222222, \"#7201a8\"], [0.3333333333333333, \"#9c179e\"], [0.4444444444444444, \"#bd3786\"], [0.5555555555555556, \"#d8576b\"], [0.6666666666666666, \"#ed7953\"], [0.7777777777777778, \"#fb9f3a\"], [0.8888888888888888, \"#fdca26\"], [1.0, \"#f0f921\"]], \"type\": \"contour\"}], \"contourcarpet\": [{\"colorbar\": {\"outlinewidth\": 0, \"ticks\": \"\"}, \"type\": \"contourcarpet\"}], \"heatmap\": [{\"colorbar\": {\"outlinewidth\": 0, \"ticks\": \"\"}, \"colorscale\": [[0.0, \"#0d0887\"], [0.1111111111111111, \"#46039f\"], [0.2222222222222222, \"#7201a8\"], [0.3333333333333333, \"#9c179e\"], [0.4444444444444444, \"#bd3786\"], [0.5555555555555556, \"#d8576b\"], [0.6666666666666666, \"#ed7953\"], [0.7777777777777778, \"#fb9f3a\"], [0.8888888888888888, \"#fdca26\"], [1.0, \"#f0f921\"]], \"type\": \"heatmap\"}], \"heatmapgl\": [{\"colorbar\": {\"outlinewidth\": 0, \"ticks\": \"\"}, \"colorscale\": [[0.0, \"#0d0887\"], [0.1111111111111111, \"#46039f\"], [0.2222222222222222, \"#7201a8\"], [0.3333333333333333, \"#9c179e\"], [0.4444444444444444, \"#bd3786\"], [0.5555555555555556, \"#d8576b\"], [0.6666666666666666, \"#ed7953\"], [0.7777777777777778, \"#fb9f3a\"], [0.8888888888888888, \"#fdca26\"], [1.0, \"#f0f921\"]], \"type\": \"heatmapgl\"}], \"histogram\": [{\"marker\": {\"colorbar\": {\"outlinewidth\": 0, \"ticks\": \"\"}}, \"type\": \"histogram\"}], \"histogram2d\": [{\"colorbar\": {\"outlinewidth\": 0, \"ticks\": \"\"}, \"colorscale\": [[0.0, \"#0d0887\"], [0.1111111111111111, \"#46039f\"], [0.2222222222222222, \"#7201a8\"], [0.3333333333333333, \"#9c179e\"], [0.4444444444444444, \"#bd3786\"], [0.5555555555555556, \"#d8576b\"], [0.6666666666666666, \"#ed7953\"], [0.7777777777777778, \"#fb9f3a\"], [0.8888888888888888, \"#fdca26\"], [1.0, \"#f0f921\"]], \"type\": \"histogram2d\"}], \"histogram2dcontour\": [{\"colorbar\": {\"outlinewidth\": 0, \"ticks\": \"\"}, \"colorscale\": [[0.0, \"#0d0887\"], [0.1111111111111111, \"#46039f\"], [0.2222222222222222, \"#7201a8\"], [0.3333333333333333, \"#9c179e\"], [0.4444444444444444, \"#bd3786\"], [0.5555555555555556, \"#d8576b\"], [0.6666666666666666, \"#ed7953\"], [0.7777777777777778, \"#fb9f3a\"], [0.8888888888888888, \"#fdca26\"], [1.0, \"#f0f921\"]], \"type\": \"histogram2dcontour\"}], \"mesh3d\": [{\"colorbar\": {\"outlinewidth\": 0, \"ticks\": \"\"}, \"type\": \"mesh3d\"}], \"parcoords\": [{\"line\": {\"colorbar\": {\"outlinewidth\": 0, \"ticks\": \"\"}}, \"type\": \"parcoords\"}], \"pie\": [{\"automargin\": true, \"type\": \"pie\"}], \"scatter\": [{\"marker\": {\"colorbar\": {\"outlinewidth\": 0, \"ticks\": \"\"}}, \"type\": \"scatter\"}], \"scatter3d\": [{\"line\": {\"colorbar\": {\"outlinewidth\": 0, \"ticks\": \"\"}}, \"marker\": {\"colorbar\": {\"outlinewidth\": 0, \"ticks\": \"\"}}, \"type\": \"scatter3d\"}], \"scattercarpet\": [{\"marker\": {\"colorbar\": {\"outlinewidth\": 0, \"ticks\": \"\"}}, \"type\": \"scattercarpet\"}], \"scattergeo\": [{\"marker\": {\"colorbar\": {\"outlinewidth\": 0, \"ticks\": \"\"}}, \"type\": \"scattergeo\"}], \"scattergl\": [{\"marker\": {\"colorbar\": {\"outlinewidth\": 0, \"ticks\": \"\"}}, \"type\": \"scattergl\"}], \"scattermapbox\": [{\"marker\": {\"colorbar\": {\"outlinewidth\": 0, \"ticks\": \"\"}}, \"type\": \"scattermapbox\"}], \"scatterpolar\": [{\"marker\": {\"colorbar\": {\"outlinewidth\": 0, \"ticks\": \"\"}}, \"type\": \"scatterpolar\"}], \"scatterpolargl\": [{\"marker\": {\"colorbar\": {\"outlinewidth\": 0, \"ticks\": \"\"}}, \"type\": \"scatterpolargl\"}], \"scatterternary\": [{\"marker\": {\"colorbar\": {\"outlinewidth\": 0, \"ticks\": \"\"}}, \"type\": \"scatterternary\"}], \"surface\": [{\"colorbar\": {\"outlinewidth\": 0, \"ticks\": \"\"}, \"colorscale\": [[0.0, \"#0d0887\"], [0.1111111111111111, \"#46039f\"], [0.2222222222222222, \"#7201a8\"], [0.3333333333333333, \"#9c179e\"], [0.4444444444444444, \"#bd3786\"], [0.5555555555555556, \"#d8576b\"], [0.6666666666666666, \"#ed7953\"], [0.7777777777777778, \"#fb9f3a\"], [0.8888888888888888, \"#fdca26\"], [1.0, \"#f0f921\"]], \"type\": \"surface\"}], \"table\": [{\"cells\": {\"fill\": {\"color\": \"#EBF0F8\"}, \"line\": {\"color\": \"white\"}}, \"header\": {\"fill\": {\"color\": \"#C8D4E3\"}, \"line\": {\"color\": \"white\"}}, \"type\": \"table\"}]}, \"layout\": {\"annotationdefaults\": {\"arrowcolor\": \"#2a3f5f\", \"arrowhead\": 0, \"arrowwidth\": 1}, \"coloraxis\": {\"colorbar\": {\"outlinewidth\": 0, \"ticks\": \"\"}}, \"colorscale\": {\"diverging\": [[0, \"#8e0152\"], [0.1, \"#c51b7d\"], [0.2, \"#de77ae\"], [0.3, \"#f1b6da\"], [0.4, \"#fde0ef\"], [0.5, \"#f7f7f7\"], [0.6, \"#e6f5d0\"], [0.7, \"#b8e186\"], [0.8, \"#7fbc41\"], [0.9, \"#4d9221\"], [1, \"#276419\"]], \"sequential\": [[0.0, \"#0d0887\"], [0.1111111111111111, \"#46039f\"], [0.2222222222222222, \"#7201a8\"], [0.3333333333333333, \"#9c179e\"], [0.4444444444444444, \"#bd3786\"], [0.5555555555555556, \"#d8576b\"], [0.6666666666666666, \"#ed7953\"], [0.7777777777777778, \"#fb9f3a\"], [0.8888888888888888, \"#fdca26\"], [1.0, \"#f0f921\"]], \"sequentialminus\": [[0.0, \"#0d0887\"], [0.1111111111111111, \"#46039f\"], [0.2222222222222222, \"#7201a8\"], [0.3333333333333333, \"#9c179e\"], [0.4444444444444444, \"#bd3786\"], [0.5555555555555556, \"#d8576b\"], [0.6666666666666666, \"#ed7953\"], [0.7777777777777778, \"#fb9f3a\"], [0.8888888888888888, \"#fdca26\"], [1.0, \"#f0f921\"]]}, \"colorway\": [\"#636efa\", \"#EF553B\", \"#00cc96\", \"#ab63fa\", \"#FFA15A\", \"#19d3f3\", \"#FF6692\", \"#B6E880\", \"#FF97FF\", \"#FECB52\"], \"font\": {\"color\": \"#2a3f5f\"}, \"geo\": {\"bgcolor\": \"white\", \"lakecolor\": \"white\", \"landcolor\": \"#E5ECF6\", \"showlakes\": true, \"showland\": true, \"subunitcolor\": \"white\"}, \"hoverlabel\": {\"align\": \"left\"}, \"hovermode\": \"closest\", \"mapbox\": {\"style\": \"light\"}, \"paper_bgcolor\": \"white\", \"plot_bgcolor\": \"#E5ECF6\", \"polar\": {\"angularaxis\": {\"gridcolor\": \"white\", \"linecolor\": \"white\", \"ticks\": \"\"}, \"bgcolor\": \"#E5ECF6\", \"radialaxis\": {\"gridcolor\": \"white\", \"linecolor\": \"white\", \"ticks\": \"\"}}, \"scene\": {\"xaxis\": {\"backgroundcolor\": \"#E5ECF6\", \"gridcolor\": \"white\", \"gridwidth\": 2, \"linecolor\": \"white\", \"showbackground\": true, \"ticks\": \"\", \"zerolinecolor\": \"white\"}, \"yaxis\": {\"backgroundcolor\": \"#E5ECF6\", \"gridcolor\": \"white\", \"gridwidth\": 2, \"linecolor\": \"white\", \"showbackground\": true, \"ticks\": \"\", \"zerolinecolor\": \"white\"}, \"zaxis\": {\"backgroundcolor\": \"#E5ECF6\", \"gridcolor\": \"white\", \"gridwidth\": 2, \"linecolor\": \"white\", \"showbackground\": true, \"ticks\": \"\", \"zerolinecolor\": \"white\"}}, \"shapedefaults\": {\"line\": {\"color\": \"#2a3f5f\"}}, \"ternary\": {\"aaxis\": {\"gridcolor\": \"white\", \"linecolor\": \"white\", \"ticks\": \"\"}, \"baxis\": {\"gridcolor\": \"white\", \"linecolor\": \"white\", \"ticks\": \"\"}, \"bgcolor\": \"#E5ECF6\", \"caxis\": {\"gridcolor\": \"white\", \"linecolor\": \"white\", \"ticks\": \"\"}}, \"title\": {\"x\": 0.05}, \"xaxis\": {\"automargin\": true, \"gridcolor\": \"white\", \"linecolor\": \"white\", \"ticks\": \"\", \"title\": {\"standoff\": 15}, \"zerolinecolor\": \"white\", \"zerolinewidth\": 2}, \"yaxis\": {\"automargin\": true, \"gridcolor\": \"white\", \"linecolor\": \"white\", \"ticks\": \"\", \"title\": {\"standoff\": 15}, \"zerolinecolor\": \"white\", \"zerolinewidth\": 2}}}, \"title\": {\"text\": \"Optimal Schedule\"}, \"xaxis\": {\"anchor\": \"y\", \"domain\": [0.0, 1.0], \"type\": \"date\"}, \"yaxis\": {\"anchor\": \"x\", \"domain\": [0.0, 1.0], \"title\": {\"text\": \"Human\"}}},\n",
       "                        {\"responsive\": true}\n",
       "                    ).then(function(){\n",
       "                            \n",
       "var gd = document.getElementById('fde702af-09e8-4017-aa96-b06ae334ffd0');\n",
       "var x = new MutationObserver(function (mutations, observer) {{\n",
       "        var display = window.getComputedStyle(gd).display;\n",
       "        if (!display || display === 'none') {{\n",
       "            console.log([gd, 'removed!']);\n",
       "            Plotly.purge(gd);\n",
       "            observer.disconnect();\n",
       "        }}\n",
       "}});\n",
       "\n",
       "// Listen for the removal of the full notebook cells\n",
       "var notebookContainer = gd.closest('#notebook-container');\n",
       "if (notebookContainer) {{\n",
       "    x.observe(notebookContainer, {childList: true});\n",
       "}}\n",
       "\n",
       "// Listen for the clearing of the current output cell\n",
       "var outputEl = gd.closest('.output');\n",
       "if (outputEl) {{\n",
       "    x.observe(outputEl, {childList: true});\n",
       "}}\n",
       "\n",
       "                        })\n",
       "                };\n",
       "                });\n",
       "            </script>\n",
       "        </div>"
      ]
     },
     "metadata": {},
     "output_type": "display_data"
    }
   ],
   "source": [
    "OptimalSchedule(team_members, tasks_list, 30, 50)"
   ]
  },
  {
   "cell_type": "markdown",
   "metadata": {},
   "source": [
    "# In Summary:\n",
    "## Input = Your Team, A List of Tasks, Days to Simulate\n",
    "## Output = Gantt Chart of Optimal Schedule "
   ]
  }
 ],
 "metadata": {
  "kernelspec": {
   "display_name": "Python 3",
   "language": "python",
   "name": "python3"
  },
  "language_info": {
   "codemirror_mode": {
    "name": "ipython",
    "version": 3
   },
   "file_extension": ".py",
   "mimetype": "text/x-python",
   "name": "python",
   "nbconvert_exporter": "python",
   "pygments_lexer": "ipython3",
   "version": "3.6.4"
  }
 },
 "nbformat": 4,
 "nbformat_minor": 2
}
