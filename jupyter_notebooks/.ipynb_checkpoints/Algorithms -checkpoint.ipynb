{
 "cells": [
  {
   "cell_type": "markdown",
   "metadata": {},
   "source": [
    "## Heap's algorithm - Generate All Possible Permutations of n objects"
   ]
  },
  {
   "cell_type": "markdown",
   "metadata": {},
   "source": [
    "### Overall Review - Recursive "
   ]
  },
  {
   "cell_type": "code",
   "execution_count": 338,
   "metadata": {},
   "outputs": [],
   "source": [
    "objects = list('123')"
   ]
  },
  {
   "cell_type": "code",
   "execution_count": 339,
   "metadata": {},
   "outputs": [],
   "source": [
    "def heapsAlg(obj, size, n):\n",
    "    if size==1:\n",
    "        print('---------------------------------------------------------------')\n",
    "        print('result: ' + str(obj))\n",
    "        print('---------------------------------------------------------------')\n",
    "\n",
    "        return obj\n",
    "    \n",
    "    for i in range(size):\n",
    "        \n",
    "        heapsAlg(obj, size-1, n); \n",
    "        \n",
    "        if size&1:\n",
    "#           size sub-array is odd: swap first element with last (buffer)\n",
    "#           essentially rotates all one place to right \n",
    "            obj[0],obj[size-1] = obj[size-1],obj[0]\n",
    "        else:\n",
    "#           size sub-array is even: ith element swapped with last element (buffer)\n",
    "#           handles swapping with buffer for a reversed version of the original      \n",
    "            obj[i],obj[size-1] = obj[size-1],obj[i]\n",
    "        \n",
    "\n",
    "    "
   ]
  },
  {
   "cell_type": "code",
   "execution_count": 340,
   "metadata": {},
   "outputs": [
    {
     "name": "stdout",
     "output_type": "stream",
     "text": [
      "---------------------------------------------------------------\n",
      "result: ['1', '2', '3']\n",
      "---------------------------------------------------------------\n",
      "---------------------------------------------------------------\n",
      "result: ['2', '1', '3']\n",
      "---------------------------------------------------------------\n",
      "---------------------------------------------------------------\n",
      "result: ['3', '1', '2']\n",
      "---------------------------------------------------------------\n",
      "---------------------------------------------------------------\n",
      "result: ['1', '3', '2']\n",
      "---------------------------------------------------------------\n",
      "---------------------------------------------------------------\n",
      "result: ['2', '3', '1']\n",
      "---------------------------------------------------------------\n",
      "---------------------------------------------------------------\n",
      "result: ['3', '2', '1']\n",
      "---------------------------------------------------------------\n"
     ]
    }
   ],
   "source": [
    "heapsAlg(objects, len(objects), len(objects))"
   ]
  },
  {
   "cell_type": "markdown",
   "metadata": {},
   "source": [
    "### Reviewing ODD operation - rotate one spot right, results in same array"
   ]
  },
  {
   "cell_type": "code",
   "execution_count": 341,
   "metadata": {},
   "outputs": [],
   "source": [
    "def heapsAlg(obj, size, n):\n",
    "    if size==1:\n",
    "        return obj\n",
    "    \n",
    "    for i in range(size):\n",
    "        \n",
    "        heapsAlg(obj, size-1, n); \n",
    "        \n",
    "        if size&1:\n",
    "#           size sub-array is odd: swap first element with last (buffer)\n",
    "#           essentially rotates all one place to right \n",
    "            obj[0],obj[size-1] = obj[size-1],obj[0]\n",
    "            print(str(obj) + 'ODD with 0th index and index ' + str(size-1) + ' element swapped')\n",
    "        else:\n",
    "#           size sub-array is even: ith element swapped with last element (buffer)\n",
    "#           handles swapping with buffer for a reversed version of the original      \n",
    "            obj[i],obj[size-1] = obj[size-1],obj[i]\n",
    "#             print(str(obj) + 'EVEN swap index ' + str(i) + ' value to index ' + str(size-1) + ' position')\n",
    "\n",
    "    "
   ]
  },
  {
   "cell_type": "code",
   "execution_count": 342,
   "metadata": {},
   "outputs": [
    {
     "name": "stdout",
     "output_type": "stream",
     "text": [
      "['3', '1', '2']ODD with 0th index and index 2 element swapped\n",
      "['2', '3', '1']ODD with 0th index and index 2 element swapped\n",
      "['1', '2', '3']ODD with 0th index and index 2 element swapped\n"
     ]
    }
   ],
   "source": [
    "heapsAlg(objects, len(objects), len(objects))"
   ]
  },
  {
   "cell_type": "markdown",
   "metadata": {},
   "source": [
    "### Reviewing EVEN operation - swap ith element, results in reversal of array"
   ]
  },
  {
   "cell_type": "code",
   "execution_count": 334,
   "metadata": {},
   "outputs": [],
   "source": [
    "def heapsAlg(obj, size, n):\n",
    "    if size==1:\n",
    "        return obj\n",
    "    \n",
    "    for i in range(size):\n",
    "        \n",
    "        heapsAlg(obj, size-1, n); \n",
    "        \n",
    "        if size&1:\n",
    "#           size sub-array is odd: swap first element with last (buffer)\n",
    "#           essentially rotates all one place to right \n",
    "            obj[0],obj[size-1] = obj[size-1],obj[0]\n",
    "#             print(str(obj) + 'ODD with 0th index and index ' + str(size-1) + ' element swapped')\n",
    "        else:\n",
    "#           size sub-array is even: ith element swapped with last element (buffer)\n",
    "#           handles swapping with buffer for a reversed version of the original      \n",
    "            obj[i],obj[size-1] = obj[size-1],obj[i]\n",
    "            print(str(obj) + 'EVEN swap index ' + str(i) + ' value to index ' + str(size-1) + ' position')\n"
   ]
  },
  {
   "cell_type": "code",
   "execution_count": 335,
   "metadata": {},
   "outputs": [
    {
     "name": "stdout",
     "output_type": "stream",
     "text": [
      "['2', '1', '3']EVEN swap index 0 value to index 1 position\n",
      "['2', '1', '3']EVEN swap index 1 value to index 1 position\n",
      "['1', '3', '2']EVEN swap index 0 value to index 1 position\n",
      "['1', '3', '2']EVEN swap index 1 value to index 1 position\n",
      "['3', '2', '1']EVEN swap index 0 value to index 1 position\n",
      "['3', '2', '1']EVEN swap index 1 value to index 1 position\n"
     ]
    }
   ],
   "source": [
    "heapsAlg(objects, len(objects), len(objects))"
   ]
  },
  {
   "cell_type": "code",
   "execution_count": null,
   "metadata": {},
   "outputs": [],
   "source": []
  }
 ],
 "metadata": {
  "kernelspec": {
   "display_name": "Python 3",
   "language": "python",
   "name": "python3"
  },
  "language_info": {
   "codemirror_mode": {
    "name": "ipython",
    "version": 3
   },
   "file_extension": ".py",
   "mimetype": "text/x-python",
   "name": "python",
   "nbconvert_exporter": "python",
   "pygments_lexer": "ipython3",
   "version": "3.6.4"
  }
 },
 "nbformat": 4,
 "nbformat_minor": 2
}
