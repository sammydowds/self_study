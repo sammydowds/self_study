{
 "cells": [
  {
   "cell_type": "markdown",
   "metadata": {},
   "source": [
    "# Economics \n",
    "\n",
    "### Notes and Resources on some dipping my toes into the topics of economics. I intend to skim some of micro and then follow up with macro. \n",
    "\n",
    "### Resources:\n",
    "1. Starting with this: https://ocw.mit.edu/ans7870/14/14.01SC/MIT14_01SCF11_rttext.pdf\n",
    "    - as a note, this is from 2009. Have concepts changed since then?\n",
    "    - Interesting point, we are in a similar financial situation. Could be more applicable?\n",
    "\n"
   ]
  },
  {
   "cell_type": "markdown",
   "metadata": {},
   "source": [
    "# My Notes: \n",
    "\n",
    "## 1.1: Definitions \n",
    "\n",
    "### Economics boils down to the study of choices. \n",
    "- Individually: Do we want to make better grades? More time to relax? More time to watch movies? Better grades probably requires less of the latter. \n",
    "- Society: Do we want a cleaner environment? Do we want faster economics growth? Efforts to clean up the environment might hinder the second. \n",
    "\n",
    "### Economics is a social science of how people choose among the alternatives available to them. \n",
    "##### Choosing includes 3 central ideas of economics:\n",
    "1. __Scarcity__ - \"our unlimited wants are continually colliding with the limits of our resources....\". To test if a good is scarce, determine if it has alternative uses. Example: Space was a free good when we just looked at it, now it has alternatives than to just look at. \n",
    "2. __Choice__\n",
    "3. __Opportunity Cost__ - the best alternative foregone in making any choice. For instance, I could be playing video games instead of reading this text book - and the best alternative I am foregoing is the enjoyment of playing that video game. As a note - this is not just purely _money_ spent. \n",
    "\n",
    "Every Economy should answer these questions in regards to Scarcity: \n",
    "1. What should be produced?\n",
    "2. How should it be produced?\n",
    "3. For whom should it be produced for?\n",
    "\n",
    "## 1.2: Economics as a field of Study \n",
    "#### What separates an economist from an anthropoligist, psychologist, sociologist, etc? \n",
    "1. focus on role of opportunity cost in analysis of choices \n",
    "2. assume people maximize value of objectives, with objectives being in one owns self interest\n",
    "    - \"self-interest\" may mean gaining satisfaction from helping others, it is not to reflect greed only\n",
    "3. assume individuals pay attention to the small changes in levels of activity \n",
    "\n",
    "##### Choices are made at the Margin. \n",
    "The margin is a level of activity. A choice at the margin is the decision to do a little more or a little less. \n",
    "\n",
    "Example: Curtailing water consumption. To induce conserving water, raise the price. A common response is that this has no effect because water is a necessity. However, individuals do not make the choice to either drink water or not drink water - you have to. The choice then is to consume either a little more or a little less. \n",
    "\n",
    "The __three central ideas of economics__ at the margin can be found in two broad areas of economics: Micro and Macro. \n",
    "\n",
    "##### Microeconomics and Macroeconomics\n"
   ]
  },
  {
   "cell_type": "code",
   "execution_count": null,
   "metadata": {},
   "outputs": [],
   "source": []
  }
 ],
 "metadata": {
  "kernelspec": {
   "display_name": "Python 3",
   "language": "python",
   "name": "python3"
  },
  "language_info": {
   "codemirror_mode": {
    "name": "ipython",
    "version": 3
   },
   "file_extension": ".py",
   "mimetype": "text/x-python",
   "name": "python",
   "nbconvert_exporter": "python",
   "pygments_lexer": "ipython3",
   "version": "3.6.4"
  }
 },
 "nbformat": 4,
 "nbformat_minor": 2
}
